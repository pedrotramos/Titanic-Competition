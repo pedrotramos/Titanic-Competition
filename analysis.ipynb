{
 "metadata": {
  "language_info": {
   "codemirror_mode": {
    "name": "ipython",
    "version": 3
   },
   "file_extension": ".py",
   "mimetype": "text/x-python",
   "name": "python",
   "nbconvert_exporter": "python",
   "pygments_lexer": "ipython3",
   "version": "3.8.3-final"
  },
  "orig_nbformat": 2,
  "kernelspec": {
   "name": "python3",
   "display_name": "Python 3",
   "language": "python"
  }
 },
 "nbformat": 4,
 "nbformat_minor": 2,
 "cells": [
  {
   "source": [
    "# Titanic - Machine Learning From Disaster"
   ],
   "cell_type": "markdown",
   "metadata": {}
  },
  {
   "source": [
    "## Importing necessary libraries\n",
    "\n",
    "Some of them are probably not going to be used, but it's really convenient to have them already loaded just in case."
   ],
   "cell_type": "markdown",
   "metadata": {}
  },
  {
   "cell_type": "code",
   "execution_count": 1,
   "metadata": {},
   "outputs": [],
   "source": [
    "# NumPy and Pandas\n",
    "import numpy as np\n",
    "import pandas as pd\n",
    "\n",
    "# Data visualization\n",
    "import seaborn as sns\n",
    "import matplotlib.pyplot as plt\n",
    "from pandas_profiling import ProfileReport\n",
    "from plotly.subplots import make_subplots\n",
    "import plotly.graph_objects as go\n",
    "import plotly.figure_factory as ff\n",
    "\n",
    "# Scalers\n",
    "from sklearn.preprocessing import MinMaxScaler\n",
    "from sklearn.preprocessing import StandardScaler\n",
    "\n",
    "# Models\n",
    "from sklearn.linear_model import LogisticRegression\n",
    "from sklearn.svm import NuSVC\n",
    "from sklearn.svm import LinearSVC\n",
    "from sklearn.ensemble import RandomForestClassifier\n",
    "from sklearn.neighbors import KNeighborsClassifier\n",
    "from sklearn.ensemble import GradientBoostingClassifier\n",
    "from sklearn.discriminant_analysis import LinearDiscriminantAnalysis\n",
    "\n",
    "# Model Helpers\n",
    "from sklearn.model_selection import train_test_split\n",
    "from sklearn.model_selection import StratifiedShuffleSplit\n",
    "from sklearn.metrics import accuracy_score\n",
    "from sklearn.metrics import f1_score\n",
    "from sklearn.metrics import confusion_matrix\n",
    "from sklearn.preprocessing import OneHotEncoder, LabelEncoder\n",
    "from sklearn.model_selection import GridSearchCV\n",
    "from sklearn import feature_selection\n",
    "\n",
    "# Cross-validation\n",
    "from sklearn.model_selection import KFold\n",
    "from sklearn.model_selection import cross_val_score\n",
    "from sklearn.model_selection import cross_val_predict\n",
    "from sklearn.model_selection import cross_validate"
   ]
  },
  {
   "source": [
    "## Setting a Random Seed\n",
    "\n",
    "This ensures the results can be reproduced."
   ],
   "cell_type": "markdown",
   "metadata": {}
  },
  {
   "cell_type": "code",
   "execution_count": 2,
   "metadata": {},
   "outputs": [],
   "source": [
    "RANDOM_SEED = 13\n",
    "np.random.seed(RANDOM_SEED)"
   ]
  },
  {
   "source": [
    "## Loading the Datasets"
   ],
   "cell_type": "markdown",
   "metadata": {}
  },
  {
   "cell_type": "code",
   "execution_count": 3,
   "metadata": {},
   "outputs": [
    {
     "output_type": "execute_result",
     "data": {
      "text/plain": [
       "   PassengerId  Survived  Pclass  \\\n",
       "0            1       0.0       3   \n",
       "1            2       1.0       1   \n",
       "2            3       1.0       3   \n",
       "3            4       1.0       1   \n",
       "4            5       0.0       3   \n",
       "\n",
       "                                                Name     Sex   Age  SibSp  \\\n",
       "0                            Braund, Mr. Owen Harris    male  22.0      1   \n",
       "1  Cumings, Mrs. John Bradley (Florence Briggs Th...  female  38.0      1   \n",
       "2                             Heikkinen, Miss. Laina  female  26.0      0   \n",
       "3       Futrelle, Mrs. Jacques Heath (Lily May Peel)  female  35.0      1   \n",
       "4                           Allen, Mr. William Henry    male  35.0      0   \n",
       "\n",
       "   Parch            Ticket     Fare Cabin Embarked  \n",
       "0      0         A/5 21171   7.2500   NaN        S  \n",
       "1      0          PC 17599  71.2833   C85        C  \n",
       "2      0  STON/O2. 3101282   7.9250   NaN        S  \n",
       "3      0            113803  53.1000  C123        S  \n",
       "4      0            373450   8.0500   NaN        S  "
      ],
      "text/html": "<div>\n<style scoped>\n    .dataframe tbody tr th:only-of-type {\n        vertical-align: middle;\n    }\n\n    .dataframe tbody tr th {\n        vertical-align: top;\n    }\n\n    .dataframe thead th {\n        text-align: right;\n    }\n</style>\n<table border=\"1\" class=\"dataframe\">\n  <thead>\n    <tr style=\"text-align: right;\">\n      <th></th>\n      <th>PassengerId</th>\n      <th>Survived</th>\n      <th>Pclass</th>\n      <th>Name</th>\n      <th>Sex</th>\n      <th>Age</th>\n      <th>SibSp</th>\n      <th>Parch</th>\n      <th>Ticket</th>\n      <th>Fare</th>\n      <th>Cabin</th>\n      <th>Embarked</th>\n    </tr>\n  </thead>\n  <tbody>\n    <tr>\n      <th>0</th>\n      <td>1</td>\n      <td>0.0</td>\n      <td>3</td>\n      <td>Braund, Mr. Owen Harris</td>\n      <td>male</td>\n      <td>22.0</td>\n      <td>1</td>\n      <td>0</td>\n      <td>A/5 21171</td>\n      <td>7.2500</td>\n      <td>NaN</td>\n      <td>S</td>\n    </tr>\n    <tr>\n      <th>1</th>\n      <td>2</td>\n      <td>1.0</td>\n      <td>1</td>\n      <td>Cumings, Mrs. John Bradley (Florence Briggs Th...</td>\n      <td>female</td>\n      <td>38.0</td>\n      <td>1</td>\n      <td>0</td>\n      <td>PC 17599</td>\n      <td>71.2833</td>\n      <td>C85</td>\n      <td>C</td>\n    </tr>\n    <tr>\n      <th>2</th>\n      <td>3</td>\n      <td>1.0</td>\n      <td>3</td>\n      <td>Heikkinen, Miss. Laina</td>\n      <td>female</td>\n      <td>26.0</td>\n      <td>0</td>\n      <td>0</td>\n      <td>STON/O2. 3101282</td>\n      <td>7.9250</td>\n      <td>NaN</td>\n      <td>S</td>\n    </tr>\n    <tr>\n      <th>3</th>\n      <td>4</td>\n      <td>1.0</td>\n      <td>1</td>\n      <td>Futrelle, Mrs. Jacques Heath (Lily May Peel)</td>\n      <td>female</td>\n      <td>35.0</td>\n      <td>1</td>\n      <td>0</td>\n      <td>113803</td>\n      <td>53.1000</td>\n      <td>C123</td>\n      <td>S</td>\n    </tr>\n    <tr>\n      <th>4</th>\n      <td>5</td>\n      <td>0.0</td>\n      <td>3</td>\n      <td>Allen, Mr. William Henry</td>\n      <td>male</td>\n      <td>35.0</td>\n      <td>0</td>\n      <td>0</td>\n      <td>373450</td>\n      <td>8.0500</td>\n      <td>NaN</td>\n      <td>S</td>\n    </tr>\n  </tbody>\n</table>\n</div>"
     },
     "metadata": {},
     "execution_count": 3
    }
   ],
   "source": [
    "train_df = pd.read_csv(\"train.csv\", sep=\",\")\n",
    "test_df = pd.read_csv(\"test.csv\", sep=\",\")\n",
    "full_df = train_df.append(test_df)\n",
    "full_df.head()"
   ]
  },
  {
   "source": [
    "## Exploratory Analysis and Data Visualization"
   ],
   "cell_type": "markdown",
   "metadata": {}
  },
  {
   "cell_type": "code",
   "execution_count": 4,
   "metadata": {},
   "outputs": [
    {
     "output_type": "stream",
     "name": "stderr",
     "text": [
      "Summarize dataset: 100%|██████████| 27/27 [00:16<00:00,  1.68it/s, Completed]\n",
      "Generate report structure: 100%|██████████| 1/1 [00:07<00:00,  7.21s/it]\n"
     ]
    },
    {
     "output_type": "display_data",
     "data": {
      "text/plain": "VBox(children=(Tab(children=(Tab(children=(GridBox(children=(VBox(children=(GridspecLayout(children=(HTML(valu…",
      "application/vnd.jupyter.widget-view+json": {
       "version_major": 2,
       "version_minor": 0,
       "model_id": "12fa9e762d6d43e2a22e12e9f7805745"
      }
     },
     "metadata": {}
    }
   ],
   "source": [
    "ProfileReport(full_df, title=\"Titanic Profiling Report\").to_widgets()"
   ]
  },
  {
   "source": [
    "## Plot Charts of Pivot Tables\n",
    "\n",
    "This helps to understand which groups were more succesful at escaping the shipwreck. The function below helps a lot in the visualization of specific groups."
   ],
   "cell_type": "markdown",
   "metadata": {}
  },
  {
   "cell_type": "code",
   "execution_count": 5,
   "metadata": {},
   "outputs": [],
   "source": [
    "def plotPieCharts(pvt_table, name):\n",
    "    labels = [\"Survived\", \"Died\"]\n",
    "    domains = []\n",
    "    xDomainSize = 5 if len(pvt_table) >= 5 else len(pvt_table)\n",
    "    for i in range(len(pvt_table)):\n",
    "            domains.append(\n",
    "                {\n",
    "                    \"x\": [\n",
    "                        (i % 5) / (xDomainSize),\n",
    "                        (((i + 1) % 5) / xDomainSize) + (0 ** ((i + 1) % 5))\n",
    "                    ],\n",
    "                    \"y\": [\n",
    "                        1 - (np.ceil((i + 1) / 5) * (1 / (np.ceil(len(pvt_table) / 5)))),\n",
    "                        1 - (np.floor(i / 5) * (1 / (np.ceil(len(pvt_table) / 5)))),\n",
    "                    ]\n",
    "                }\n",
    "            )\n",
    "\n",
    "    traces = []\n",
    "    values = []\n",
    "    titles = []\n",
    "\n",
    "    for idx, entry in pvt_table.iterrows():\n",
    "        values.append([entry[1], 1 - entry[1]])\n",
    "        titles.append(str(entry[0]))\n",
    "\n",
    "    for domain, value, title in zip(domains, values, titles):\n",
    "        trace = go.Pie(\n",
    "            title=f\"{name}: {title}\",\n",
    "            labels=labels,\n",
    "            values=value,\n",
    "            domain=domain,\n",
    "            hoverinfo=\"label+percent\",\n",
    "            marker=dict(colors=['royalblue', 'red']),\n",
    "        )\n",
    "        traces.append(trace)\n",
    "\n",
    "    layout = go.Layout(\n",
    "        width=900,\n",
    "        autosize=False,\n",
    "        title=name,\n",
    "    )\n",
    "    fig = go.Figure(data=traces, layout=layout)\n",
    "    fig.update_traces(textposition=\"inside\")\n",
    "    fig.show()"
   ]
  },
  {
   "source": [
    "## Feature Selection and Engineering\n",
    "\n",
    "Some useful information might be hidden within some of the not so useful original features. Some other features might need some manipulation to improve the model's accuracy."
   ],
   "cell_type": "markdown",
   "metadata": {}
  },
  {
   "source": [
    "### Pclass\n",
    "\n",
    "A passenger's class is an important feature when trying to predict if that passenger was able to survive."
   ],
   "cell_type": "markdown",
   "metadata": {}
  },
  {
   "cell_type": "code",
   "execution_count": 6,
   "metadata": {},
   "outputs": [
    {
     "output_type": "display_data",
     "data": {
      "application/vnd.plotly.v1+json": {
       "config": {
        "plotlyServerURL": "https://plot.ly"
       },
       "data": [
        {
         "domain": {
          "x": [
           0,
           0.3333333333333333
          ],
          "y": [
           0,
           1
          ]
         },
         "hoverinfo": "label+percent",
         "labels": [
          "Survived",
          "Died"
         ],
         "marker": {
          "colors": [
           "royalblue",
           "red"
          ]
         },
         "textposition": "inside",
         "title": {
          "text": "Passenger Class: 1.0"
         },
         "type": "pie",
         "values": [
          0.6296296296296297,
          0.37037037037037035
         ]
        },
        {
         "domain": {
          "x": [
           0.3333333333333333,
           0.6666666666666666
          ],
          "y": [
           0,
           1
          ]
         },
         "hoverinfo": "label+percent",
         "labels": [
          "Survived",
          "Died"
         ],
         "marker": {
          "colors": [
           "royalblue",
           "red"
          ]
         },
         "textposition": "inside",
         "title": {
          "text": "Passenger Class: 2.0"
         },
         "type": "pie",
         "values": [
          0.47282608695652173,
          0.5271739130434783
         ]
        },
        {
         "domain": {
          "x": [
           0.6666666666666666,
           1
          ],
          "y": [
           0,
           1
          ]
         },
         "hoverinfo": "label+percent",
         "labels": [
          "Survived",
          "Died"
         ],
         "marker": {
          "colors": [
           "royalblue",
           "red"
          ]
         },
         "textposition": "inside",
         "title": {
          "text": "Passenger Class: 3.0"
         },
         "type": "pie",
         "values": [
          0.24236252545824846,
          0.7576374745417516
         ]
        }
       ],
       "layout": {
        "autosize": false,
        "template": {
         "data": {
          "bar": [
           {
            "error_x": {
             "color": "#2a3f5f"
            },
            "error_y": {
             "color": "#2a3f5f"
            },
            "marker": {
             "line": {
              "color": "#E5ECF6",
              "width": 0.5
             }
            },
            "type": "bar"
           }
          ],
          "barpolar": [
           {
            "marker": {
             "line": {
              "color": "#E5ECF6",
              "width": 0.5
             }
            },
            "type": "barpolar"
           }
          ],
          "carpet": [
           {
            "aaxis": {
             "endlinecolor": "#2a3f5f",
             "gridcolor": "white",
             "linecolor": "white",
             "minorgridcolor": "white",
             "startlinecolor": "#2a3f5f"
            },
            "baxis": {
             "endlinecolor": "#2a3f5f",
             "gridcolor": "white",
             "linecolor": "white",
             "minorgridcolor": "white",
             "startlinecolor": "#2a3f5f"
            },
            "type": "carpet"
           }
          ],
          "choropleth": [
           {
            "colorbar": {
             "outlinewidth": 0,
             "ticks": ""
            },
            "type": "choropleth"
           }
          ],
          "contour": [
           {
            "colorbar": {
             "outlinewidth": 0,
             "ticks": ""
            },
            "colorscale": [
             [
              0,
              "#0d0887"
             ],
             [
              0.1111111111111111,
              "#46039f"
             ],
             [
              0.2222222222222222,
              "#7201a8"
             ],
             [
              0.3333333333333333,
              "#9c179e"
             ],
             [
              0.4444444444444444,
              "#bd3786"
             ],
             [
              0.5555555555555556,
              "#d8576b"
             ],
             [
              0.6666666666666666,
              "#ed7953"
             ],
             [
              0.7777777777777778,
              "#fb9f3a"
             ],
             [
              0.8888888888888888,
              "#fdca26"
             ],
             [
              1,
              "#f0f921"
             ]
            ],
            "type": "contour"
           }
          ],
          "contourcarpet": [
           {
            "colorbar": {
             "outlinewidth": 0,
             "ticks": ""
            },
            "type": "contourcarpet"
           }
          ],
          "heatmap": [
           {
            "colorbar": {
             "outlinewidth": 0,
             "ticks": ""
            },
            "colorscale": [
             [
              0,
              "#0d0887"
             ],
             [
              0.1111111111111111,
              "#46039f"
             ],
             [
              0.2222222222222222,
              "#7201a8"
             ],
             [
              0.3333333333333333,
              "#9c179e"
             ],
             [
              0.4444444444444444,
              "#bd3786"
             ],
             [
              0.5555555555555556,
              "#d8576b"
             ],
             [
              0.6666666666666666,
              "#ed7953"
             ],
             [
              0.7777777777777778,
              "#fb9f3a"
             ],
             [
              0.8888888888888888,
              "#fdca26"
             ],
             [
              1,
              "#f0f921"
             ]
            ],
            "type": "heatmap"
           }
          ],
          "heatmapgl": [
           {
            "colorbar": {
             "outlinewidth": 0,
             "ticks": ""
            },
            "colorscale": [
             [
              0,
              "#0d0887"
             ],
             [
              0.1111111111111111,
              "#46039f"
             ],
             [
              0.2222222222222222,
              "#7201a8"
             ],
             [
              0.3333333333333333,
              "#9c179e"
             ],
             [
              0.4444444444444444,
              "#bd3786"
             ],
             [
              0.5555555555555556,
              "#d8576b"
             ],
             [
              0.6666666666666666,
              "#ed7953"
             ],
             [
              0.7777777777777778,
              "#fb9f3a"
             ],
             [
              0.8888888888888888,
              "#fdca26"
             ],
             [
              1,
              "#f0f921"
             ]
            ],
            "type": "heatmapgl"
           }
          ],
          "histogram": [
           {
            "marker": {
             "colorbar": {
              "outlinewidth": 0,
              "ticks": ""
             }
            },
            "type": "histogram"
           }
          ],
          "histogram2d": [
           {
            "colorbar": {
             "outlinewidth": 0,
             "ticks": ""
            },
            "colorscale": [
             [
              0,
              "#0d0887"
             ],
             [
              0.1111111111111111,
              "#46039f"
             ],
             [
              0.2222222222222222,
              "#7201a8"
             ],
             [
              0.3333333333333333,
              "#9c179e"
             ],
             [
              0.4444444444444444,
              "#bd3786"
             ],
             [
              0.5555555555555556,
              "#d8576b"
             ],
             [
              0.6666666666666666,
              "#ed7953"
             ],
             [
              0.7777777777777778,
              "#fb9f3a"
             ],
             [
              0.8888888888888888,
              "#fdca26"
             ],
             [
              1,
              "#f0f921"
             ]
            ],
            "type": "histogram2d"
           }
          ],
          "histogram2dcontour": [
           {
            "colorbar": {
             "outlinewidth": 0,
             "ticks": ""
            },
            "colorscale": [
             [
              0,
              "#0d0887"
             ],
             [
              0.1111111111111111,
              "#46039f"
             ],
             [
              0.2222222222222222,
              "#7201a8"
             ],
             [
              0.3333333333333333,
              "#9c179e"
             ],
             [
              0.4444444444444444,
              "#bd3786"
             ],
             [
              0.5555555555555556,
              "#d8576b"
             ],
             [
              0.6666666666666666,
              "#ed7953"
             ],
             [
              0.7777777777777778,
              "#fb9f3a"
             ],
             [
              0.8888888888888888,
              "#fdca26"
             ],
             [
              1,
              "#f0f921"
             ]
            ],
            "type": "histogram2dcontour"
           }
          ],
          "mesh3d": [
           {
            "colorbar": {
             "outlinewidth": 0,
             "ticks": ""
            },
            "type": "mesh3d"
           }
          ],
          "parcoords": [
           {
            "line": {
             "colorbar": {
              "outlinewidth": 0,
              "ticks": ""
             }
            },
            "type": "parcoords"
           }
          ],
          "pie": [
           {
            "automargin": true,
            "type": "pie"
           }
          ],
          "scatter": [
           {
            "marker": {
             "colorbar": {
              "outlinewidth": 0,
              "ticks": ""
             }
            },
            "type": "scatter"
           }
          ],
          "scatter3d": [
           {
            "line": {
             "colorbar": {
              "outlinewidth": 0,
              "ticks": ""
             }
            },
            "marker": {
             "colorbar": {
              "outlinewidth": 0,
              "ticks": ""
             }
            },
            "type": "scatter3d"
           }
          ],
          "scattercarpet": [
           {
            "marker": {
             "colorbar": {
              "outlinewidth": 0,
              "ticks": ""
             }
            },
            "type": "scattercarpet"
           }
          ],
          "scattergeo": [
           {
            "marker": {
             "colorbar": {
              "outlinewidth": 0,
              "ticks": ""
             }
            },
            "type": "scattergeo"
           }
          ],
          "scattergl": [
           {
            "marker": {
             "colorbar": {
              "outlinewidth": 0,
              "ticks": ""
             }
            },
            "type": "scattergl"
           }
          ],
          "scattermapbox": [
           {
            "marker": {
             "colorbar": {
              "outlinewidth": 0,
              "ticks": ""
             }
            },
            "type": "scattermapbox"
           }
          ],
          "scatterpolar": [
           {
            "marker": {
             "colorbar": {
              "outlinewidth": 0,
              "ticks": ""
             }
            },
            "type": "scatterpolar"
           }
          ],
          "scatterpolargl": [
           {
            "marker": {
             "colorbar": {
              "outlinewidth": 0,
              "ticks": ""
             }
            },
            "type": "scatterpolargl"
           }
          ],
          "scatterternary": [
           {
            "marker": {
             "colorbar": {
              "outlinewidth": 0,
              "ticks": ""
             }
            },
            "type": "scatterternary"
           }
          ],
          "surface": [
           {
            "colorbar": {
             "outlinewidth": 0,
             "ticks": ""
            },
            "colorscale": [
             [
              0,
              "#0d0887"
             ],
             [
              0.1111111111111111,
              "#46039f"
             ],
             [
              0.2222222222222222,
              "#7201a8"
             ],
             [
              0.3333333333333333,
              "#9c179e"
             ],
             [
              0.4444444444444444,
              "#bd3786"
             ],
             [
              0.5555555555555556,
              "#d8576b"
             ],
             [
              0.6666666666666666,
              "#ed7953"
             ],
             [
              0.7777777777777778,
              "#fb9f3a"
             ],
             [
              0.8888888888888888,
              "#fdca26"
             ],
             [
              1,
              "#f0f921"
             ]
            ],
            "type": "surface"
           }
          ],
          "table": [
           {
            "cells": {
             "fill": {
              "color": "#EBF0F8"
             },
             "line": {
              "color": "white"
             }
            },
            "header": {
             "fill": {
              "color": "#C8D4E3"
             },
             "line": {
              "color": "white"
             }
            },
            "type": "table"
           }
          ]
         },
         "layout": {
          "annotationdefaults": {
           "arrowcolor": "#2a3f5f",
           "arrowhead": 0,
           "arrowwidth": 1
          },
          "coloraxis": {
           "colorbar": {
            "outlinewidth": 0,
            "ticks": ""
           }
          },
          "colorscale": {
           "diverging": [
            [
             0,
             "#8e0152"
            ],
            [
             0.1,
             "#c51b7d"
            ],
            [
             0.2,
             "#de77ae"
            ],
            [
             0.3,
             "#f1b6da"
            ],
            [
             0.4,
             "#fde0ef"
            ],
            [
             0.5,
             "#f7f7f7"
            ],
            [
             0.6,
             "#e6f5d0"
            ],
            [
             0.7,
             "#b8e186"
            ],
            [
             0.8,
             "#7fbc41"
            ],
            [
             0.9,
             "#4d9221"
            ],
            [
             1,
             "#276419"
            ]
           ],
           "sequential": [
            [
             0,
             "#0d0887"
            ],
            [
             0.1111111111111111,
             "#46039f"
            ],
            [
             0.2222222222222222,
             "#7201a8"
            ],
            [
             0.3333333333333333,
             "#9c179e"
            ],
            [
             0.4444444444444444,
             "#bd3786"
            ],
            [
             0.5555555555555556,
             "#d8576b"
            ],
            [
             0.6666666666666666,
             "#ed7953"
            ],
            [
             0.7777777777777778,
             "#fb9f3a"
            ],
            [
             0.8888888888888888,
             "#fdca26"
            ],
            [
             1,
             "#f0f921"
            ]
           ],
           "sequentialminus": [
            [
             0,
             "#0d0887"
            ],
            [
             0.1111111111111111,
             "#46039f"
            ],
            [
             0.2222222222222222,
             "#7201a8"
            ],
            [
             0.3333333333333333,
             "#9c179e"
            ],
            [
             0.4444444444444444,
             "#bd3786"
            ],
            [
             0.5555555555555556,
             "#d8576b"
            ],
            [
             0.6666666666666666,
             "#ed7953"
            ],
            [
             0.7777777777777778,
             "#fb9f3a"
            ],
            [
             0.8888888888888888,
             "#fdca26"
            ],
            [
             1,
             "#f0f921"
            ]
           ]
          },
          "colorway": [
           "#636efa",
           "#EF553B",
           "#00cc96",
           "#ab63fa",
           "#FFA15A",
           "#19d3f3",
           "#FF6692",
           "#B6E880",
           "#FF97FF",
           "#FECB52"
          ],
          "font": {
           "color": "#2a3f5f"
          },
          "geo": {
           "bgcolor": "white",
           "lakecolor": "white",
           "landcolor": "#E5ECF6",
           "showlakes": true,
           "showland": true,
           "subunitcolor": "white"
          },
          "hoverlabel": {
           "align": "left"
          },
          "hovermode": "closest",
          "mapbox": {
           "style": "light"
          },
          "paper_bgcolor": "white",
          "plot_bgcolor": "#E5ECF6",
          "polar": {
           "angularaxis": {
            "gridcolor": "white",
            "linecolor": "white",
            "ticks": ""
           },
           "bgcolor": "#E5ECF6",
           "radialaxis": {
            "gridcolor": "white",
            "linecolor": "white",
            "ticks": ""
           }
          },
          "scene": {
           "xaxis": {
            "backgroundcolor": "#E5ECF6",
            "gridcolor": "white",
            "gridwidth": 2,
            "linecolor": "white",
            "showbackground": true,
            "ticks": "",
            "zerolinecolor": "white"
           },
           "yaxis": {
            "backgroundcolor": "#E5ECF6",
            "gridcolor": "white",
            "gridwidth": 2,
            "linecolor": "white",
            "showbackground": true,
            "ticks": "",
            "zerolinecolor": "white"
           },
           "zaxis": {
            "backgroundcolor": "#E5ECF6",
            "gridcolor": "white",
            "gridwidth": 2,
            "linecolor": "white",
            "showbackground": true,
            "ticks": "",
            "zerolinecolor": "white"
           }
          },
          "shapedefaults": {
           "line": {
            "color": "#2a3f5f"
           }
          },
          "ternary": {
           "aaxis": {
            "gridcolor": "white",
            "linecolor": "white",
            "ticks": ""
           },
           "baxis": {
            "gridcolor": "white",
            "linecolor": "white",
            "ticks": ""
           },
           "bgcolor": "#E5ECF6",
           "caxis": {
            "gridcolor": "white",
            "linecolor": "white",
            "ticks": ""
           }
          },
          "title": {
           "x": 0.05
          },
          "xaxis": {
           "automargin": true,
           "gridcolor": "white",
           "linecolor": "white",
           "ticks": "",
           "title": {
            "standoff": 15
           },
           "zerolinecolor": "white",
           "zerolinewidth": 2
          },
          "yaxis": {
           "automargin": true,
           "gridcolor": "white",
           "linecolor": "white",
           "ticks": "",
           "title": {
            "standoff": 15
           },
           "zerolinecolor": "white",
           "zerolinewidth": 2
          }
         }
        },
        "title": {
         "text": "Passenger Class"
        },
        "width": 900
       }
      }
     },
     "metadata": {}
    }
   ],
   "source": [
    "survivalPerClass = full_df[[\"Pclass\", \"Survived\"]].groupby([\"Pclass\"], as_index=False).mean().sort_values(\n",
    "    by=\"Survived\", ascending=False\n",
    ")\n",
    "\n",
    "plotPieCharts(survivalPerClass, \"Passenger Class\")"
   ]
  },
  {
   "source": [
    "### Sex\n",
    "\n",
    "The majority of women survived the Titanic. On the other hand, most men didn't have the same luck."
   ],
   "cell_type": "markdown",
   "metadata": {}
  },
  {
   "cell_type": "code",
   "execution_count": 7,
   "metadata": {},
   "outputs": [
    {
     "output_type": "display_data",
     "data": {
      "application/vnd.plotly.v1+json": {
       "config": {
        "plotlyServerURL": "https://plot.ly"
       },
       "data": [
        {
         "domain": {
          "x": [
           0,
           0.5
          ],
          "y": [
           0,
           1
          ]
         },
         "hoverinfo": "label+percent",
         "labels": [
          "Survived",
          "Died"
         ],
         "marker": {
          "colors": [
           "royalblue",
           "red"
          ]
         },
         "textposition": "inside",
         "title": {
          "text": "Passenger Sex: female"
         },
         "type": "pie",
         "values": [
          0.7420382165605095,
          0.2579617834394905
         ]
        },
        {
         "domain": {
          "x": [
           0.5,
           1
          ],
          "y": [
           0,
           1
          ]
         },
         "hoverinfo": "label+percent",
         "labels": [
          "Survived",
          "Died"
         ],
         "marker": {
          "colors": [
           "royalblue",
           "red"
          ]
         },
         "textposition": "inside",
         "title": {
          "text": "Passenger Sex: male"
         },
         "type": "pie",
         "values": [
          0.18890814558058924,
          0.8110918544194108
         ]
        }
       ],
       "layout": {
        "autosize": false,
        "template": {
         "data": {
          "bar": [
           {
            "error_x": {
             "color": "#2a3f5f"
            },
            "error_y": {
             "color": "#2a3f5f"
            },
            "marker": {
             "line": {
              "color": "#E5ECF6",
              "width": 0.5
             }
            },
            "type": "bar"
           }
          ],
          "barpolar": [
           {
            "marker": {
             "line": {
              "color": "#E5ECF6",
              "width": 0.5
             }
            },
            "type": "barpolar"
           }
          ],
          "carpet": [
           {
            "aaxis": {
             "endlinecolor": "#2a3f5f",
             "gridcolor": "white",
             "linecolor": "white",
             "minorgridcolor": "white",
             "startlinecolor": "#2a3f5f"
            },
            "baxis": {
             "endlinecolor": "#2a3f5f",
             "gridcolor": "white",
             "linecolor": "white",
             "minorgridcolor": "white",
             "startlinecolor": "#2a3f5f"
            },
            "type": "carpet"
           }
          ],
          "choropleth": [
           {
            "colorbar": {
             "outlinewidth": 0,
             "ticks": ""
            },
            "type": "choropleth"
           }
          ],
          "contour": [
           {
            "colorbar": {
             "outlinewidth": 0,
             "ticks": ""
            },
            "colorscale": [
             [
              0,
              "#0d0887"
             ],
             [
              0.1111111111111111,
              "#46039f"
             ],
             [
              0.2222222222222222,
              "#7201a8"
             ],
             [
              0.3333333333333333,
              "#9c179e"
             ],
             [
              0.4444444444444444,
              "#bd3786"
             ],
             [
              0.5555555555555556,
              "#d8576b"
             ],
             [
              0.6666666666666666,
              "#ed7953"
             ],
             [
              0.7777777777777778,
              "#fb9f3a"
             ],
             [
              0.8888888888888888,
              "#fdca26"
             ],
             [
              1,
              "#f0f921"
             ]
            ],
            "type": "contour"
           }
          ],
          "contourcarpet": [
           {
            "colorbar": {
             "outlinewidth": 0,
             "ticks": ""
            },
            "type": "contourcarpet"
           }
          ],
          "heatmap": [
           {
            "colorbar": {
             "outlinewidth": 0,
             "ticks": ""
            },
            "colorscale": [
             [
              0,
              "#0d0887"
             ],
             [
              0.1111111111111111,
              "#46039f"
             ],
             [
              0.2222222222222222,
              "#7201a8"
             ],
             [
              0.3333333333333333,
              "#9c179e"
             ],
             [
              0.4444444444444444,
              "#bd3786"
             ],
             [
              0.5555555555555556,
              "#d8576b"
             ],
             [
              0.6666666666666666,
              "#ed7953"
             ],
             [
              0.7777777777777778,
              "#fb9f3a"
             ],
             [
              0.8888888888888888,
              "#fdca26"
             ],
             [
              1,
              "#f0f921"
             ]
            ],
            "type": "heatmap"
           }
          ],
          "heatmapgl": [
           {
            "colorbar": {
             "outlinewidth": 0,
             "ticks": ""
            },
            "colorscale": [
             [
              0,
              "#0d0887"
             ],
             [
              0.1111111111111111,
              "#46039f"
             ],
             [
              0.2222222222222222,
              "#7201a8"
             ],
             [
              0.3333333333333333,
              "#9c179e"
             ],
             [
              0.4444444444444444,
              "#bd3786"
             ],
             [
              0.5555555555555556,
              "#d8576b"
             ],
             [
              0.6666666666666666,
              "#ed7953"
             ],
             [
              0.7777777777777778,
              "#fb9f3a"
             ],
             [
              0.8888888888888888,
              "#fdca26"
             ],
             [
              1,
              "#f0f921"
             ]
            ],
            "type": "heatmapgl"
           }
          ],
          "histogram": [
           {
            "marker": {
             "colorbar": {
              "outlinewidth": 0,
              "ticks": ""
             }
            },
            "type": "histogram"
           }
          ],
          "histogram2d": [
           {
            "colorbar": {
             "outlinewidth": 0,
             "ticks": ""
            },
            "colorscale": [
             [
              0,
              "#0d0887"
             ],
             [
              0.1111111111111111,
              "#46039f"
             ],
             [
              0.2222222222222222,
              "#7201a8"
             ],
             [
              0.3333333333333333,
              "#9c179e"
             ],
             [
              0.4444444444444444,
              "#bd3786"
             ],
             [
              0.5555555555555556,
              "#d8576b"
             ],
             [
              0.6666666666666666,
              "#ed7953"
             ],
             [
              0.7777777777777778,
              "#fb9f3a"
             ],
             [
              0.8888888888888888,
              "#fdca26"
             ],
             [
              1,
              "#f0f921"
             ]
            ],
            "type": "histogram2d"
           }
          ],
          "histogram2dcontour": [
           {
            "colorbar": {
             "outlinewidth": 0,
             "ticks": ""
            },
            "colorscale": [
             [
              0,
              "#0d0887"
             ],
             [
              0.1111111111111111,
              "#46039f"
             ],
             [
              0.2222222222222222,
              "#7201a8"
             ],
             [
              0.3333333333333333,
              "#9c179e"
             ],
             [
              0.4444444444444444,
              "#bd3786"
             ],
             [
              0.5555555555555556,
              "#d8576b"
             ],
             [
              0.6666666666666666,
              "#ed7953"
             ],
             [
              0.7777777777777778,
              "#fb9f3a"
             ],
             [
              0.8888888888888888,
              "#fdca26"
             ],
             [
              1,
              "#f0f921"
             ]
            ],
            "type": "histogram2dcontour"
           }
          ],
          "mesh3d": [
           {
            "colorbar": {
             "outlinewidth": 0,
             "ticks": ""
            },
            "type": "mesh3d"
           }
          ],
          "parcoords": [
           {
            "line": {
             "colorbar": {
              "outlinewidth": 0,
              "ticks": ""
             }
            },
            "type": "parcoords"
           }
          ],
          "pie": [
           {
            "automargin": true,
            "type": "pie"
           }
          ],
          "scatter": [
           {
            "marker": {
             "colorbar": {
              "outlinewidth": 0,
              "ticks": ""
             }
            },
            "type": "scatter"
           }
          ],
          "scatter3d": [
           {
            "line": {
             "colorbar": {
              "outlinewidth": 0,
              "ticks": ""
             }
            },
            "marker": {
             "colorbar": {
              "outlinewidth": 0,
              "ticks": ""
             }
            },
            "type": "scatter3d"
           }
          ],
          "scattercarpet": [
           {
            "marker": {
             "colorbar": {
              "outlinewidth": 0,
              "ticks": ""
             }
            },
            "type": "scattercarpet"
           }
          ],
          "scattergeo": [
           {
            "marker": {
             "colorbar": {
              "outlinewidth": 0,
              "ticks": ""
             }
            },
            "type": "scattergeo"
           }
          ],
          "scattergl": [
           {
            "marker": {
             "colorbar": {
              "outlinewidth": 0,
              "ticks": ""
             }
            },
            "type": "scattergl"
           }
          ],
          "scattermapbox": [
           {
            "marker": {
             "colorbar": {
              "outlinewidth": 0,
              "ticks": ""
             }
            },
            "type": "scattermapbox"
           }
          ],
          "scatterpolar": [
           {
            "marker": {
             "colorbar": {
              "outlinewidth": 0,
              "ticks": ""
             }
            },
            "type": "scatterpolar"
           }
          ],
          "scatterpolargl": [
           {
            "marker": {
             "colorbar": {
              "outlinewidth": 0,
              "ticks": ""
             }
            },
            "type": "scatterpolargl"
           }
          ],
          "scatterternary": [
           {
            "marker": {
             "colorbar": {
              "outlinewidth": 0,
              "ticks": ""
             }
            },
            "type": "scatterternary"
           }
          ],
          "surface": [
           {
            "colorbar": {
             "outlinewidth": 0,
             "ticks": ""
            },
            "colorscale": [
             [
              0,
              "#0d0887"
             ],
             [
              0.1111111111111111,
              "#46039f"
             ],
             [
              0.2222222222222222,
              "#7201a8"
             ],
             [
              0.3333333333333333,
              "#9c179e"
             ],
             [
              0.4444444444444444,
              "#bd3786"
             ],
             [
              0.5555555555555556,
              "#d8576b"
             ],
             [
              0.6666666666666666,
              "#ed7953"
             ],
             [
              0.7777777777777778,
              "#fb9f3a"
             ],
             [
              0.8888888888888888,
              "#fdca26"
             ],
             [
              1,
              "#f0f921"
             ]
            ],
            "type": "surface"
           }
          ],
          "table": [
           {
            "cells": {
             "fill": {
              "color": "#EBF0F8"
             },
             "line": {
              "color": "white"
             }
            },
            "header": {
             "fill": {
              "color": "#C8D4E3"
             },
             "line": {
              "color": "white"
             }
            },
            "type": "table"
           }
          ]
         },
         "layout": {
          "annotationdefaults": {
           "arrowcolor": "#2a3f5f",
           "arrowhead": 0,
           "arrowwidth": 1
          },
          "coloraxis": {
           "colorbar": {
            "outlinewidth": 0,
            "ticks": ""
           }
          },
          "colorscale": {
           "diverging": [
            [
             0,
             "#8e0152"
            ],
            [
             0.1,
             "#c51b7d"
            ],
            [
             0.2,
             "#de77ae"
            ],
            [
             0.3,
             "#f1b6da"
            ],
            [
             0.4,
             "#fde0ef"
            ],
            [
             0.5,
             "#f7f7f7"
            ],
            [
             0.6,
             "#e6f5d0"
            ],
            [
             0.7,
             "#b8e186"
            ],
            [
             0.8,
             "#7fbc41"
            ],
            [
             0.9,
             "#4d9221"
            ],
            [
             1,
             "#276419"
            ]
           ],
           "sequential": [
            [
             0,
             "#0d0887"
            ],
            [
             0.1111111111111111,
             "#46039f"
            ],
            [
             0.2222222222222222,
             "#7201a8"
            ],
            [
             0.3333333333333333,
             "#9c179e"
            ],
            [
             0.4444444444444444,
             "#bd3786"
            ],
            [
             0.5555555555555556,
             "#d8576b"
            ],
            [
             0.6666666666666666,
             "#ed7953"
            ],
            [
             0.7777777777777778,
             "#fb9f3a"
            ],
            [
             0.8888888888888888,
             "#fdca26"
            ],
            [
             1,
             "#f0f921"
            ]
           ],
           "sequentialminus": [
            [
             0,
             "#0d0887"
            ],
            [
             0.1111111111111111,
             "#46039f"
            ],
            [
             0.2222222222222222,
             "#7201a8"
            ],
            [
             0.3333333333333333,
             "#9c179e"
            ],
            [
             0.4444444444444444,
             "#bd3786"
            ],
            [
             0.5555555555555556,
             "#d8576b"
            ],
            [
             0.6666666666666666,
             "#ed7953"
            ],
            [
             0.7777777777777778,
             "#fb9f3a"
            ],
            [
             0.8888888888888888,
             "#fdca26"
            ],
            [
             1,
             "#f0f921"
            ]
           ]
          },
          "colorway": [
           "#636efa",
           "#EF553B",
           "#00cc96",
           "#ab63fa",
           "#FFA15A",
           "#19d3f3",
           "#FF6692",
           "#B6E880",
           "#FF97FF",
           "#FECB52"
          ],
          "font": {
           "color": "#2a3f5f"
          },
          "geo": {
           "bgcolor": "white",
           "lakecolor": "white",
           "landcolor": "#E5ECF6",
           "showlakes": true,
           "showland": true,
           "subunitcolor": "white"
          },
          "hoverlabel": {
           "align": "left"
          },
          "hovermode": "closest",
          "mapbox": {
           "style": "light"
          },
          "paper_bgcolor": "white",
          "plot_bgcolor": "#E5ECF6",
          "polar": {
           "angularaxis": {
            "gridcolor": "white",
            "linecolor": "white",
            "ticks": ""
           },
           "bgcolor": "#E5ECF6",
           "radialaxis": {
            "gridcolor": "white",
            "linecolor": "white",
            "ticks": ""
           }
          },
          "scene": {
           "xaxis": {
            "backgroundcolor": "#E5ECF6",
            "gridcolor": "white",
            "gridwidth": 2,
            "linecolor": "white",
            "showbackground": true,
            "ticks": "",
            "zerolinecolor": "white"
           },
           "yaxis": {
            "backgroundcolor": "#E5ECF6",
            "gridcolor": "white",
            "gridwidth": 2,
            "linecolor": "white",
            "showbackground": true,
            "ticks": "",
            "zerolinecolor": "white"
           },
           "zaxis": {
            "backgroundcolor": "#E5ECF6",
            "gridcolor": "white",
            "gridwidth": 2,
            "linecolor": "white",
            "showbackground": true,
            "ticks": "",
            "zerolinecolor": "white"
           }
          },
          "shapedefaults": {
           "line": {
            "color": "#2a3f5f"
           }
          },
          "ternary": {
           "aaxis": {
            "gridcolor": "white",
            "linecolor": "white",
            "ticks": ""
           },
           "baxis": {
            "gridcolor": "white",
            "linecolor": "white",
            "ticks": ""
           },
           "bgcolor": "#E5ECF6",
           "caxis": {
            "gridcolor": "white",
            "linecolor": "white",
            "ticks": ""
           }
          },
          "title": {
           "x": 0.05
          },
          "xaxis": {
           "automargin": true,
           "gridcolor": "white",
           "linecolor": "white",
           "ticks": "",
           "title": {
            "standoff": 15
           },
           "zerolinecolor": "white",
           "zerolinewidth": 2
          },
          "yaxis": {
           "automargin": true,
           "gridcolor": "white",
           "linecolor": "white",
           "ticks": "",
           "title": {
            "standoff": 15
           },
           "zerolinecolor": "white",
           "zerolinewidth": 2
          }
         }
        },
        "title": {
         "text": "Passenger Sex"
        },
        "width": 900
       }
      }
     },
     "metadata": {}
    }
   ],
   "source": [
    "survivalPerSex = full_df[[\"Sex\", \"Survived\"]].groupby([\"Sex\"], as_index=False).mean().sort_values(\n",
    "    by=\"Survived\", ascending=False\n",
    ")\n",
    "\n",
    "plotPieCharts(survivalPerSex, \"Passenger Sex\")"
   ]
  },
  {
   "source": [
    "Let's make the \"Sex\" feature binary. \n",
    "\n",
    "male -> 1\n",
    "\n",
    "female -> 0"
   ],
   "cell_type": "markdown",
   "metadata": {}
  },
  {
   "cell_type": "code",
   "execution_count": 8,
   "metadata": {},
   "outputs": [],
   "source": [
    "full_df.replace({\"Sex\" : {\"male\" : 1, \"female\" : 0}}, inplace=True)"
   ]
  },
  {
   "cell_type": "code",
   "execution_count": null,
   "metadata": {},
   "outputs": [],
   "source": []
  },
  {
   "source": [
    "### SibSp + Parch = Relatives\n",
    "\n",
    "It's possible to obtain the number of family members in the Titanic for every entry by adding \"Parch\" and \"SibSp\". That feature is also important. The majority of people with no family aboard died, as well as people traveling with 4 or more family members."
   ],
   "cell_type": "markdown",
   "metadata": {}
  },
  {
   "cell_type": "code",
   "execution_count": 9,
   "metadata": {},
   "outputs": [],
   "source": [
    "full_df[\"Relatives\"] = full_df.SibSp + full_df.Parch"
   ]
  },
  {
   "cell_type": "code",
   "execution_count": 10,
   "metadata": {},
   "outputs": [
    {
     "output_type": "display_data",
     "data": {
      "application/vnd.plotly.v1+json": {
       "config": {
        "plotlyServerURL": "https://plot.ly"
       },
       "data": [
        {
         "domain": {
          "x": [
           0,
           0.2
          ],
          "y": [
           0.5,
           1
          ]
         },
         "hoverinfo": "label+percent",
         "labels": [
          "Survived",
          "Died"
         ],
         "marker": {
          "colors": [
           "royalblue",
           "red"
          ]
         },
         "textposition": "inside",
         "title": {
          "text": "Relatives: 0.0"
         },
         "type": "pie",
         "values": [
          0.30353817504655495,
          0.6964618249534451
         ]
        },
        {
         "domain": {
          "x": [
           0.2,
           0.4
          ],
          "y": [
           0.5,
           1
          ]
         },
         "hoverinfo": "label+percent",
         "labels": [
          "Survived",
          "Died"
         ],
         "marker": {
          "colors": [
           "royalblue",
           "red"
          ]
         },
         "textposition": "inside",
         "title": {
          "text": "Relatives: 1.0"
         },
         "type": "pie",
         "values": [
          0.5527950310559007,
          0.44720496894409933
         ]
        },
        {
         "domain": {
          "x": [
           0.4,
           0.6
          ],
          "y": [
           0.5,
           1
          ]
         },
         "hoverinfo": "label+percent",
         "labels": [
          "Survived",
          "Died"
         ],
         "marker": {
          "colors": [
           "royalblue",
           "red"
          ]
         },
         "textposition": "inside",
         "title": {
          "text": "Relatives: 2.0"
         },
         "type": "pie",
         "values": [
          0.5784313725490197,
          0.42156862745098034
         ]
        },
        {
         "domain": {
          "x": [
           0.6,
           0.8
          ],
          "y": [
           0.5,
           1
          ]
         },
         "hoverinfo": "label+percent",
         "labels": [
          "Survived",
          "Died"
         ],
         "marker": {
          "colors": [
           "royalblue",
           "red"
          ]
         },
         "textposition": "inside",
         "title": {
          "text": "Relatives: 3.0"
         },
         "type": "pie",
         "values": [
          0.7241379310344828,
          0.27586206896551724
         ]
        },
        {
         "domain": {
          "x": [
           0.8,
           1
          ],
          "y": [
           0.5,
           1
          ]
         },
         "hoverinfo": "label+percent",
         "labels": [
          "Survived",
          "Died"
         ],
         "marker": {
          "colors": [
           "royalblue",
           "red"
          ]
         },
         "textposition": "inside",
         "title": {
          "text": "Relatives: 4.0"
         },
         "type": "pie",
         "values": [
          0.2,
          0.8
         ]
        },
        {
         "domain": {
          "x": [
           0,
           0.2
          ],
          "y": [
           0,
           0.5
          ]
         },
         "hoverinfo": "label+percent",
         "labels": [
          "Survived",
          "Died"
         ],
         "marker": {
          "colors": [
           "royalblue",
           "red"
          ]
         },
         "textposition": "inside",
         "title": {
          "text": "Relatives: 5.0"
         },
         "type": "pie",
         "values": [
          0.13636363636363635,
          0.8636363636363636
         ]
        },
        {
         "domain": {
          "x": [
           0.2,
           0.4
          ],
          "y": [
           0,
           0.5
          ]
         },
         "hoverinfo": "label+percent",
         "labels": [
          "Survived",
          "Died"
         ],
         "marker": {
          "colors": [
           "royalblue",
           "red"
          ]
         },
         "textposition": "inside",
         "title": {
          "text": "Relatives: 6.0"
         },
         "type": "pie",
         "values": [
          0.3333333333333333,
          0.6666666666666667
         ]
        },
        {
         "domain": {
          "x": [
           0.4,
           0.6
          ],
          "y": [
           0,
           0.5
          ]
         },
         "hoverinfo": "label+percent",
         "labels": [
          "Survived",
          "Died"
         ],
         "marker": {
          "colors": [
           "royalblue",
           "red"
          ]
         },
         "textposition": "inside",
         "title": {
          "text": "Relatives: 7.0"
         },
         "type": "pie",
         "values": [
          0,
          1
         ]
        },
        {
         "domain": {
          "x": [
           0.6,
           0.8
          ],
          "y": [
           0,
           0.5
          ]
         },
         "hoverinfo": "label+percent",
         "labels": [
          "Survived",
          "Died"
         ],
         "marker": {
          "colors": [
           "royalblue",
           "red"
          ]
         },
         "textposition": "inside",
         "title": {
          "text": "Relatives: 10.0"
         },
         "type": "pie",
         "values": [
          0,
          1
         ]
        }
       ],
       "layout": {
        "autosize": false,
        "template": {
         "data": {
          "bar": [
           {
            "error_x": {
             "color": "#2a3f5f"
            },
            "error_y": {
             "color": "#2a3f5f"
            },
            "marker": {
             "line": {
              "color": "#E5ECF6",
              "width": 0.5
             }
            },
            "type": "bar"
           }
          ],
          "barpolar": [
           {
            "marker": {
             "line": {
              "color": "#E5ECF6",
              "width": 0.5
             }
            },
            "type": "barpolar"
           }
          ],
          "carpet": [
           {
            "aaxis": {
             "endlinecolor": "#2a3f5f",
             "gridcolor": "white",
             "linecolor": "white",
             "minorgridcolor": "white",
             "startlinecolor": "#2a3f5f"
            },
            "baxis": {
             "endlinecolor": "#2a3f5f",
             "gridcolor": "white",
             "linecolor": "white",
             "minorgridcolor": "white",
             "startlinecolor": "#2a3f5f"
            },
            "type": "carpet"
           }
          ],
          "choropleth": [
           {
            "colorbar": {
             "outlinewidth": 0,
             "ticks": ""
            },
            "type": "choropleth"
           }
          ],
          "contour": [
           {
            "colorbar": {
             "outlinewidth": 0,
             "ticks": ""
            },
            "colorscale": [
             [
              0,
              "#0d0887"
             ],
             [
              0.1111111111111111,
              "#46039f"
             ],
             [
              0.2222222222222222,
              "#7201a8"
             ],
             [
              0.3333333333333333,
              "#9c179e"
             ],
             [
              0.4444444444444444,
              "#bd3786"
             ],
             [
              0.5555555555555556,
              "#d8576b"
             ],
             [
              0.6666666666666666,
              "#ed7953"
             ],
             [
              0.7777777777777778,
              "#fb9f3a"
             ],
             [
              0.8888888888888888,
              "#fdca26"
             ],
             [
              1,
              "#f0f921"
             ]
            ],
            "type": "contour"
           }
          ],
          "contourcarpet": [
           {
            "colorbar": {
             "outlinewidth": 0,
             "ticks": ""
            },
            "type": "contourcarpet"
           }
          ],
          "heatmap": [
           {
            "colorbar": {
             "outlinewidth": 0,
             "ticks": ""
            },
            "colorscale": [
             [
              0,
              "#0d0887"
             ],
             [
              0.1111111111111111,
              "#46039f"
             ],
             [
              0.2222222222222222,
              "#7201a8"
             ],
             [
              0.3333333333333333,
              "#9c179e"
             ],
             [
              0.4444444444444444,
              "#bd3786"
             ],
             [
              0.5555555555555556,
              "#d8576b"
             ],
             [
              0.6666666666666666,
              "#ed7953"
             ],
             [
              0.7777777777777778,
              "#fb9f3a"
             ],
             [
              0.8888888888888888,
              "#fdca26"
             ],
             [
              1,
              "#f0f921"
             ]
            ],
            "type": "heatmap"
           }
          ],
          "heatmapgl": [
           {
            "colorbar": {
             "outlinewidth": 0,
             "ticks": ""
            },
            "colorscale": [
             [
              0,
              "#0d0887"
             ],
             [
              0.1111111111111111,
              "#46039f"
             ],
             [
              0.2222222222222222,
              "#7201a8"
             ],
             [
              0.3333333333333333,
              "#9c179e"
             ],
             [
              0.4444444444444444,
              "#bd3786"
             ],
             [
              0.5555555555555556,
              "#d8576b"
             ],
             [
              0.6666666666666666,
              "#ed7953"
             ],
             [
              0.7777777777777778,
              "#fb9f3a"
             ],
             [
              0.8888888888888888,
              "#fdca26"
             ],
             [
              1,
              "#f0f921"
             ]
            ],
            "type": "heatmapgl"
           }
          ],
          "histogram": [
           {
            "marker": {
             "colorbar": {
              "outlinewidth": 0,
              "ticks": ""
             }
            },
            "type": "histogram"
           }
          ],
          "histogram2d": [
           {
            "colorbar": {
             "outlinewidth": 0,
             "ticks": ""
            },
            "colorscale": [
             [
              0,
              "#0d0887"
             ],
             [
              0.1111111111111111,
              "#46039f"
             ],
             [
              0.2222222222222222,
              "#7201a8"
             ],
             [
              0.3333333333333333,
              "#9c179e"
             ],
             [
              0.4444444444444444,
              "#bd3786"
             ],
             [
              0.5555555555555556,
              "#d8576b"
             ],
             [
              0.6666666666666666,
              "#ed7953"
             ],
             [
              0.7777777777777778,
              "#fb9f3a"
             ],
             [
              0.8888888888888888,
              "#fdca26"
             ],
             [
              1,
              "#f0f921"
             ]
            ],
            "type": "histogram2d"
           }
          ],
          "histogram2dcontour": [
           {
            "colorbar": {
             "outlinewidth": 0,
             "ticks": ""
            },
            "colorscale": [
             [
              0,
              "#0d0887"
             ],
             [
              0.1111111111111111,
              "#46039f"
             ],
             [
              0.2222222222222222,
              "#7201a8"
             ],
             [
              0.3333333333333333,
              "#9c179e"
             ],
             [
              0.4444444444444444,
              "#bd3786"
             ],
             [
              0.5555555555555556,
              "#d8576b"
             ],
             [
              0.6666666666666666,
              "#ed7953"
             ],
             [
              0.7777777777777778,
              "#fb9f3a"
             ],
             [
              0.8888888888888888,
              "#fdca26"
             ],
             [
              1,
              "#f0f921"
             ]
            ],
            "type": "histogram2dcontour"
           }
          ],
          "mesh3d": [
           {
            "colorbar": {
             "outlinewidth": 0,
             "ticks": ""
            },
            "type": "mesh3d"
           }
          ],
          "parcoords": [
           {
            "line": {
             "colorbar": {
              "outlinewidth": 0,
              "ticks": ""
             }
            },
            "type": "parcoords"
           }
          ],
          "pie": [
           {
            "automargin": true,
            "type": "pie"
           }
          ],
          "scatter": [
           {
            "marker": {
             "colorbar": {
              "outlinewidth": 0,
              "ticks": ""
             }
            },
            "type": "scatter"
           }
          ],
          "scatter3d": [
           {
            "line": {
             "colorbar": {
              "outlinewidth": 0,
              "ticks": ""
             }
            },
            "marker": {
             "colorbar": {
              "outlinewidth": 0,
              "ticks": ""
             }
            },
            "type": "scatter3d"
           }
          ],
          "scattercarpet": [
           {
            "marker": {
             "colorbar": {
              "outlinewidth": 0,
              "ticks": ""
             }
            },
            "type": "scattercarpet"
           }
          ],
          "scattergeo": [
           {
            "marker": {
             "colorbar": {
              "outlinewidth": 0,
              "ticks": ""
             }
            },
            "type": "scattergeo"
           }
          ],
          "scattergl": [
           {
            "marker": {
             "colorbar": {
              "outlinewidth": 0,
              "ticks": ""
             }
            },
            "type": "scattergl"
           }
          ],
          "scattermapbox": [
           {
            "marker": {
             "colorbar": {
              "outlinewidth": 0,
              "ticks": ""
             }
            },
            "type": "scattermapbox"
           }
          ],
          "scatterpolar": [
           {
            "marker": {
             "colorbar": {
              "outlinewidth": 0,
              "ticks": ""
             }
            },
            "type": "scatterpolar"
           }
          ],
          "scatterpolargl": [
           {
            "marker": {
             "colorbar": {
              "outlinewidth": 0,
              "ticks": ""
             }
            },
            "type": "scatterpolargl"
           }
          ],
          "scatterternary": [
           {
            "marker": {
             "colorbar": {
              "outlinewidth": 0,
              "ticks": ""
             }
            },
            "type": "scatterternary"
           }
          ],
          "surface": [
           {
            "colorbar": {
             "outlinewidth": 0,
             "ticks": ""
            },
            "colorscale": [
             [
              0,
              "#0d0887"
             ],
             [
              0.1111111111111111,
              "#46039f"
             ],
             [
              0.2222222222222222,
              "#7201a8"
             ],
             [
              0.3333333333333333,
              "#9c179e"
             ],
             [
              0.4444444444444444,
              "#bd3786"
             ],
             [
              0.5555555555555556,
              "#d8576b"
             ],
             [
              0.6666666666666666,
              "#ed7953"
             ],
             [
              0.7777777777777778,
              "#fb9f3a"
             ],
             [
              0.8888888888888888,
              "#fdca26"
             ],
             [
              1,
              "#f0f921"
             ]
            ],
            "type": "surface"
           }
          ],
          "table": [
           {
            "cells": {
             "fill": {
              "color": "#EBF0F8"
             },
             "line": {
              "color": "white"
             }
            },
            "header": {
             "fill": {
              "color": "#C8D4E3"
             },
             "line": {
              "color": "white"
             }
            },
            "type": "table"
           }
          ]
         },
         "layout": {
          "annotationdefaults": {
           "arrowcolor": "#2a3f5f",
           "arrowhead": 0,
           "arrowwidth": 1
          },
          "coloraxis": {
           "colorbar": {
            "outlinewidth": 0,
            "ticks": ""
           }
          },
          "colorscale": {
           "diverging": [
            [
             0,
             "#8e0152"
            ],
            [
             0.1,
             "#c51b7d"
            ],
            [
             0.2,
             "#de77ae"
            ],
            [
             0.3,
             "#f1b6da"
            ],
            [
             0.4,
             "#fde0ef"
            ],
            [
             0.5,
             "#f7f7f7"
            ],
            [
             0.6,
             "#e6f5d0"
            ],
            [
             0.7,
             "#b8e186"
            ],
            [
             0.8,
             "#7fbc41"
            ],
            [
             0.9,
             "#4d9221"
            ],
            [
             1,
             "#276419"
            ]
           ],
           "sequential": [
            [
             0,
             "#0d0887"
            ],
            [
             0.1111111111111111,
             "#46039f"
            ],
            [
             0.2222222222222222,
             "#7201a8"
            ],
            [
             0.3333333333333333,
             "#9c179e"
            ],
            [
             0.4444444444444444,
             "#bd3786"
            ],
            [
             0.5555555555555556,
             "#d8576b"
            ],
            [
             0.6666666666666666,
             "#ed7953"
            ],
            [
             0.7777777777777778,
             "#fb9f3a"
            ],
            [
             0.8888888888888888,
             "#fdca26"
            ],
            [
             1,
             "#f0f921"
            ]
           ],
           "sequentialminus": [
            [
             0,
             "#0d0887"
            ],
            [
             0.1111111111111111,
             "#46039f"
            ],
            [
             0.2222222222222222,
             "#7201a8"
            ],
            [
             0.3333333333333333,
             "#9c179e"
            ],
            [
             0.4444444444444444,
             "#bd3786"
            ],
            [
             0.5555555555555556,
             "#d8576b"
            ],
            [
             0.6666666666666666,
             "#ed7953"
            ],
            [
             0.7777777777777778,
             "#fb9f3a"
            ],
            [
             0.8888888888888888,
             "#fdca26"
            ],
            [
             1,
             "#f0f921"
            ]
           ]
          },
          "colorway": [
           "#636efa",
           "#EF553B",
           "#00cc96",
           "#ab63fa",
           "#FFA15A",
           "#19d3f3",
           "#FF6692",
           "#B6E880",
           "#FF97FF",
           "#FECB52"
          ],
          "font": {
           "color": "#2a3f5f"
          },
          "geo": {
           "bgcolor": "white",
           "lakecolor": "white",
           "landcolor": "#E5ECF6",
           "showlakes": true,
           "showland": true,
           "subunitcolor": "white"
          },
          "hoverlabel": {
           "align": "left"
          },
          "hovermode": "closest",
          "mapbox": {
           "style": "light"
          },
          "paper_bgcolor": "white",
          "plot_bgcolor": "#E5ECF6",
          "polar": {
           "angularaxis": {
            "gridcolor": "white",
            "linecolor": "white",
            "ticks": ""
           },
           "bgcolor": "#E5ECF6",
           "radialaxis": {
            "gridcolor": "white",
            "linecolor": "white",
            "ticks": ""
           }
          },
          "scene": {
           "xaxis": {
            "backgroundcolor": "#E5ECF6",
            "gridcolor": "white",
            "gridwidth": 2,
            "linecolor": "white",
            "showbackground": true,
            "ticks": "",
            "zerolinecolor": "white"
           },
           "yaxis": {
            "backgroundcolor": "#E5ECF6",
            "gridcolor": "white",
            "gridwidth": 2,
            "linecolor": "white",
            "showbackground": true,
            "ticks": "",
            "zerolinecolor": "white"
           },
           "zaxis": {
            "backgroundcolor": "#E5ECF6",
            "gridcolor": "white",
            "gridwidth": 2,
            "linecolor": "white",
            "showbackground": true,
            "ticks": "",
            "zerolinecolor": "white"
           }
          },
          "shapedefaults": {
           "line": {
            "color": "#2a3f5f"
           }
          },
          "ternary": {
           "aaxis": {
            "gridcolor": "white",
            "linecolor": "white",
            "ticks": ""
           },
           "baxis": {
            "gridcolor": "white",
            "linecolor": "white",
            "ticks": ""
           },
           "bgcolor": "#E5ECF6",
           "caxis": {
            "gridcolor": "white",
            "linecolor": "white",
            "ticks": ""
           }
          },
          "title": {
           "x": 0.05
          },
          "xaxis": {
           "automargin": true,
           "gridcolor": "white",
           "linecolor": "white",
           "ticks": "",
           "title": {
            "standoff": 15
           },
           "zerolinecolor": "white",
           "zerolinewidth": 2
          },
          "yaxis": {
           "automargin": true,
           "gridcolor": "white",
           "linecolor": "white",
           "ticks": "",
           "title": {
            "standoff": 15
           },
           "zerolinecolor": "white",
           "zerolinewidth": 2
          }
         }
        },
        "title": {
         "text": "Relatives"
        },
        "width": 900
       }
      }
     },
     "metadata": {}
    }
   ],
   "source": [
    "survivalPerFamily = full_df[[\"Relatives\", \"Survived\"]].groupby([\"Relatives\"], as_index=False).mean()\n",
    "\n",
    "plotPieCharts(survivalPerFamily, \"Relatives\")"
   ]
  },
  {
   "source": [
    "### Age\n",
    "\n",
    "Age is a very important factor to predict if a person survived the shipwreck. Children were evacuated first, for example. But first it's important to fill the missing values. To do so, I created a \"Title\" feature, which allowed me to impute ages more precisely. The Passenger Class is also considered to help improve the imputation precision."
   ],
   "cell_type": "markdown",
   "metadata": {}
  },
  {
   "cell_type": "code",
   "execution_count": 11,
   "metadata": {},
   "outputs": [
    {
     "output_type": "display_data",
     "data": {
      "application/vnd.plotly.v1+json": {
       "config": {
        "plotlyServerURL": "https://plot.ly"
       },
       "data": [
        {
         "legendgroup": "Died",
         "marker": {
          "color": "red"
         },
         "mode": "lines",
         "name": "Died",
         "showlegend": true,
         "type": "scatter",
         "x": [
          1,
          1.146,
          1.292,
          1.438,
          1.584,
          1.73,
          1.876,
          2.0220000000000002,
          2.168,
          2.314,
          2.46,
          2.606,
          2.752,
          2.8979999999999997,
          3.044,
          3.19,
          3.336,
          3.482,
          3.628,
          3.774,
          3.92,
          4.066,
          4.212,
          4.3580000000000005,
          4.504,
          4.65,
          4.795999999999999,
          4.942,
          5.088,
          5.234,
          5.38,
          5.526,
          5.672,
          5.818,
          5.964,
          6.11,
          6.256,
          6.402,
          6.548,
          6.694,
          6.84,
          6.986,
          7.132,
          7.278,
          7.424,
          7.57,
          7.716,
          7.862,
          8.008,
          8.154,
          8.3,
          8.446,
          8.591999999999999,
          8.738,
          8.884,
          9.03,
          9.176,
          9.322,
          9.468,
          9.614,
          9.76,
          9.906,
          10.052,
          10.198,
          10.344,
          10.49,
          10.636,
          10.782,
          10.928,
          11.074,
          11.22,
          11.366,
          11.512,
          11.658,
          11.804,
          11.95,
          12.096,
          12.242,
          12.388,
          12.534,
          12.68,
          12.826,
          12.972,
          13.118,
          13.264,
          13.41,
          13.556,
          13.702,
          13.848,
          13.994,
          14.14,
          14.286,
          14.432,
          14.578,
          14.724,
          14.87,
          15.016,
          15.162,
          15.308,
          15.454,
          15.6,
          15.746,
          15.892,
          16.038,
          16.183999999999997,
          16.33,
          16.476,
          16.622,
          16.768,
          16.914,
          17.06,
          17.206,
          17.352,
          17.498,
          17.644,
          17.79,
          17.936,
          18.082,
          18.228,
          18.374,
          18.52,
          18.666,
          18.812,
          18.958,
          19.104,
          19.25,
          19.396,
          19.542,
          19.688,
          19.834,
          19.98,
          20.126,
          20.272,
          20.418,
          20.564,
          20.71,
          20.856,
          21.002,
          21.148,
          21.294,
          21.44,
          21.586,
          21.732,
          21.878,
          22.024,
          22.17,
          22.316,
          22.462,
          22.608,
          22.754,
          22.9,
          23.046,
          23.192,
          23.338,
          23.484,
          23.63,
          23.776,
          23.922,
          24.068,
          24.214,
          24.36,
          24.506,
          24.652,
          24.798,
          24.944,
          25.09,
          25.236,
          25.382,
          25.528,
          25.674,
          25.82,
          25.966,
          26.112,
          26.258,
          26.404,
          26.55,
          26.696,
          26.842,
          26.988,
          27.134,
          27.28,
          27.426,
          27.572,
          27.718,
          27.864,
          28.01,
          28.156,
          28.302,
          28.448,
          28.594,
          28.74,
          28.886,
          29.032,
          29.178,
          29.324,
          29.47,
          29.616,
          29.762,
          29.908,
          30.054,
          30.2,
          30.346,
          30.492,
          30.638,
          30.784,
          30.93,
          31.076,
          31.222,
          31.368,
          31.514,
          31.66,
          31.806,
          31.952,
          32.098,
          32.244,
          32.39,
          32.536,
          32.682,
          32.828,
          32.974000000000004,
          33.12,
          33.266,
          33.412,
          33.558,
          33.704,
          33.85,
          33.996,
          34.142,
          34.288,
          34.434,
          34.58,
          34.726,
          34.872,
          35.018,
          35.164,
          35.31,
          35.456,
          35.602,
          35.748,
          35.894,
          36.04,
          36.186,
          36.332,
          36.478,
          36.624,
          36.77,
          36.916,
          37.062,
          37.208,
          37.354,
          37.5,
          37.646,
          37.792,
          37.938,
          38.084,
          38.23,
          38.376,
          38.522,
          38.668,
          38.814,
          38.96,
          39.106,
          39.252,
          39.398,
          39.544,
          39.69,
          39.836,
          39.982,
          40.128,
          40.274,
          40.42,
          40.566,
          40.712,
          40.858,
          41.004,
          41.15,
          41.296,
          41.442,
          41.588,
          41.734,
          41.88,
          42.026,
          42.172,
          42.318,
          42.464,
          42.61,
          42.756,
          42.902,
          43.048,
          43.194,
          43.34,
          43.486,
          43.632,
          43.778,
          43.924,
          44.07,
          44.216,
          44.362,
          44.508,
          44.654,
          44.8,
          44.946,
          45.092,
          45.238,
          45.384,
          45.53,
          45.676,
          45.822,
          45.968,
          46.114,
          46.26,
          46.406,
          46.552,
          46.698,
          46.844,
          46.99,
          47.136,
          47.282,
          47.428,
          47.574,
          47.72,
          47.866,
          48.012,
          48.158,
          48.304,
          48.45,
          48.596,
          48.742,
          48.888,
          49.034,
          49.18,
          49.326,
          49.472,
          49.618,
          49.764,
          49.91,
          50.056,
          50.202,
          50.348,
          50.494,
          50.64,
          50.786,
          50.932,
          51.078,
          51.224,
          51.37,
          51.516,
          51.662,
          51.808,
          51.954,
          52.1,
          52.246,
          52.392,
          52.538,
          52.684,
          52.83,
          52.976,
          53.122,
          53.268,
          53.414,
          53.56,
          53.706,
          53.852,
          53.998,
          54.144,
          54.29,
          54.436,
          54.582,
          54.728,
          54.874,
          55.02,
          55.166,
          55.312,
          55.458,
          55.604,
          55.75,
          55.896,
          56.042,
          56.188,
          56.334,
          56.48,
          56.626,
          56.772,
          56.918,
          57.064,
          57.21,
          57.356,
          57.502,
          57.648,
          57.794,
          57.94,
          58.086,
          58.232,
          58.378,
          58.524,
          58.67,
          58.816,
          58.962,
          59.108,
          59.254,
          59.4,
          59.546,
          59.692,
          59.838,
          59.984,
          60.13,
          60.276,
          60.422,
          60.568,
          60.714,
          60.86,
          61.006,
          61.152,
          61.298,
          61.444,
          61.59,
          61.736,
          61.882,
          62.028,
          62.174,
          62.32,
          62.466,
          62.612,
          62.758,
          62.904,
          63.05,
          63.196,
          63.342,
          63.488,
          63.634,
          63.78,
          63.926,
          64.072,
          64.218,
          64.364,
          64.50999999999999,
          64.656,
          64.80199999999999,
          64.94800000000001,
          65.094,
          65.24,
          65.386,
          65.532,
          65.678,
          65.824,
          65.97,
          66.116,
          66.262,
          66.408,
          66.554,
          66.7,
          66.846,
          66.992,
          67.138,
          67.284,
          67.43,
          67.576,
          67.722,
          67.868,
          68.014,
          68.16,
          68.306,
          68.452,
          68.598,
          68.744,
          68.89,
          69.036,
          69.182,
          69.328,
          69.474,
          69.62,
          69.766,
          69.912,
          70.058,
          70.204,
          70.35,
          70.496,
          70.642,
          70.788,
          70.934,
          71.08,
          71.226,
          71.372,
          71.518,
          71.664,
          71.81,
          71.956,
          72.102,
          72.248,
          72.394,
          72.54,
          72.686,
          72.832,
          72.978,
          73.124,
          73.27,
          73.416,
          73.562,
          73.708,
          73.854
         ],
         "xaxis": "x",
         "y": [
          0.0028769781970869783,
          0.002946140010059756,
          0.0030140787078045965,
          0.0030807030671829018,
          0.0031459296951933968,
          0.003209683397198585,
          0.0032718974729418664,
          0.0033325139389853813,
          0.0033914836772862074,
          0.0034487665107360427,
          0.0035043312075994167,
          0.003558155417880314,
          0.0036102255457088044,
          0.003660536562850183,
          0.0037090917693820944,
          0.0037559025084433614,
          0.003800987842716581,
          0.003844374200950574,
          0.0038860950033460014,
          0.0039261902750069464,
          0.003964706256894316,
          0.004001695023796668,
          0.00403721411875632,
          0.004071326213151172,
          0.0041040988012362835,
          0.004135603937396514,
          0.004165918023658228,
          0.004195121654161698,
          0.004223299522316715,
          0.004250540395264282,
          0.004276937159061432,
          0.004302586936710304,
          0.004327591279784419,
          0.004352056432983634,
          0.004376093669494642,
          0.004399819693567241,
          0.00442335710525916,
          0.004446834920875783,
          0.004470389141257272,
          0.004494163358765286,
          0.00451830939261553,
          0.004542987941109878,
          0.004568369238361406,
          0.004594633702293818,
          0.0046219725600486735,
          0.004650588436462661,
          0.004680695890993769,
          0.0047125218883885675,
          0.0047463061884991395,
          0.004782301640981542,
          0.004820774371139235,
          0.004862003843913729,
          0.004906282793966744,
          0.004953917010937179,
          0.005005224970283504,
          0.005060537301626091,
          0.005120196088171382,
          0.005184553992614416,
          0.005253973206860454,
          0.005328824224960476,
          0.005409484440797537,
          0.005496336574268629,
          0.005589766931955322,
          0.00569016351054094,
          0.00579791395348608,
          0.005913403373691344,
          0.006037012057029215,
          0.006169113063689077,
          0.0063100697462235835,
          0.00646023320498496,
          0.006619939703270492,
          0.006789508065933432,
          0.006969237086435576,
          0.007159402968299363,
          0.0073602568276412905,
          0.007572022283916707,
          0.007794893166164656,
          0.00802903136189661,
          0.008274564835316795,
          0.008531585840786338,
          0.00880014935634673,
          0.009080271760699626,
          0.009371929775303699,
          0.009675059691203046,
          0.009989556897855884,
          0.010315275728603142,
          0.010652029634521635,
          0.010999591695269506,
          0.011357695472178094,
          0.011726036205304546,
          0.012104272352466524,
          0.012492027464470624,
          0.012888892386859167,
          0.013294427774577611,
          0.013708166902051197,
          0.014129618747300624,
          0.014558271324969993,
          0.014993595239533542,
          0.015435047426540673,
          0.015882075046597784,
          0.01633411949391969,
          0.01679062047875769,
          0.017251020140869364,
          0.017714767149479,
          0.018181320743922712,
          0.01865015466841464,
          0.01912076095413654,
          0.019592653502167746,
          0.020065371421652514,
          0.020538482079058874,
          0.0210115838164211,
          0.021484308299075393,
          0.021956322456582623,
          0.02242732998426862,
          0.02289707237707172,
          0.023365329472138773,
          0.02383191948181155,
          0.024296698504246494,
          0.024759559504857125,
          0.02522043076799514,
          0.0256792738247264,
          0.026136080869134746,
          0.026590871682221896,
          0.02704369008908103,
          0.027494599981519367,
          0.027943680944602256,
          0.028391023531600453,
          0.02883672423745329,
          0.02928088022602936,
          0.02972358387108756,
          0.03016491717483908,
          0.030604946131309967,
          0.03104371510424064,
          0.03148124129097557,
          0.03191750934464515,
          0.032352466226887415,
          0.0327860163623729,
          0.03321801716446975,
          0.03364827499851898,
          0.03407654164539371,
          0.03450251132332128,
          0.034925818320392585,
          0.03534603528382492,
          0.03576267220495168,
          0.03617517613116365,
          0.036582931627716524,
          0.03698526200354917,
          0.03738143130613989,
          0.037770647081082756,
          0.038152063882619415,
          0.038524787511941945,
          0.03888787995082306,
          0.039240364949160764,
          0.03958123421647813,
          0.03990945415941707,
          0.04022397309992997,
          0.04052372890231397,
          0.040807656931548975,
          0.04107469826068294,
          0.04132380804132639,
          0.04155396394873649,
          0.04176417461152696,
          0.04195348793576347,
          0.04212099923409855,
          0.04226585907265805,
          0.04238728075158203,
          0.04248454733940238,
          0.04255701818674279,
          0.04260413485107699,
          0.042625426371383356,
          0.0426205138393836,
          0.042589114222532046,
          0.0425310434029041,
          0.04244621840548501,
          0.04233465879894533,
          0.042196487261668136,
          0.04203192931542503,
          0.04184131223854805,
          0.04162506317957885,
          0.041383706501073377,
          0.04111786039138109,
          0.04082823278970085,
          0.0405156166764476,
          0.0401808847868677,
          0.03982498381085264,
          0.039448928145973755,
          0.03905379327386377,
          0.03864070883218746,
          0.03821085145557706,
          0.03776543745907049,
          0.037305715436817925,
          0.03683295884715319,
          0.036348458652623414,
          0.035853516080296834,
          0.03534943556370403,
          0.03483751792319598,
          0.03431905383641378,
          0.033795317645054584,
          0.03326756153828284,
          0.03273701014707225,
          0.032204855577568595,
          0.03167225290533018,
          0.031140316146117744,
          0.030610114712856972,
          0.030082670362556213,
          0.02955895463140219,
          0.029039886751037382,
          0.028526332034194638,
          0.028019100713473938,
          0.027518947213123066,
          0.02702656983025587,
          0.026542610799021153,
          0.026067656708833136,
          0.02560223924588544,
          0.025146836225789247,
          0.02470187288428668,
          0.02426772339256955,
          0.023844712563758842,
          0.023433117717536704,
          0.02303317067073979,
          0.022645059822881595,
          0.022268932307034486,
          0.021904896178230063,
          0.02155302261348723,
          0.02121334809971477,
          0.020885876588016057,
          0.020570581595313293,
          0.020267408236668585,
          0.019976275174176935,
          0.019697076470807654,
          0.019429683340047563,
          0.019173945784622982,
          0.018929694119923086,
          0.018696740379993224,
          0.018474879606091385,
          0.01826389101978843,
          0.018063539084426147,
          0.017873574460415115,
          0.017693734861344356,
          0.017523745819180037,
          0.017363321367942303,
          0.01721216465616516,
          0.0170699684991594,
          0.01693641588261337,
          0.016811180429381088,
          0.01669392684142449,
          0.0165843113288011,
          0.01648198203732593,
          0.01638657948609497,
          0.01629773702544662,
          0.016215081325168027,
          0.01613823290183806,
          0.016066806693152073,
          0.01600041268591112,
          0.015938656603097016,
          0.015881140654112582,
          0.015827464350863008,
          0.015777225390909262,
          0.015730020607458595,
          0.01568544698449152,
          0.015643102733880122,
          0.01560258842995027,
          0.015563508195600302,
          0.015525470932831818,
          0.015488091589391318,
          0.015450992452183671,
          0.01541380445721406,
          0.015376168505058704,
          0.015337736770267625,
          0.015298173992674413,
          0.0152571587383349,
          0.015214384617743344,
          0.01516956144908235,
          0.015122416354549533,
          0.015072694778266527,
          0.015020161414906535,
          0.014964601038966302,
          0.014905819225544901,
          0.014843642954560992,
          0.014777921091525856,
          0.014708524739273792,
          0.014635347456414673,
          0.014558305339695578,
          0.014477336968917833,
          0.014392403214531335,
          0.01430348690949779,
          0.014210592388457809,
          0.01411374489863268,
          0.014012989888221163,
          0.013908392179296555,
          0.013800035033353373,
          0.013688019118681661,
          0.013572461389647867,
          0.013453493888724534,
          0.013331262482728354,
          0.013205925545192839,
          0.013077652597114627,
          0.012946622918470763,
          0.012813024142910422,
          0.012677050847882265,
          0.01253890315217426,
          0.012398785332424488,
          0.012256904469619323,
          0.012113469135939931,
          0.011968688131563073,
          0.011822769280179975,
          0.011675918291082768,
          0.011528337694695816,
          0.011380225857414404,
          0.01123177608057032,
          0.011083175787287658,
          0.010934605799936617,
          0.010786239709851469,
          0.0106382433399643,
          0.01049077430002923,
          0.010343981633183985,
          0.010198005551725398,
          0.010052977259171134,
          0.009909018854947845,
          0.009766243317392152,
          0.009624754560177909,
          0.009484647556795862,
          0.009346008527309475,
          0.009208915181295088,
          0.009073437010644222,
          0.008939635625758946,
          0.008807565128605156,
          0.008677272516099477,
          0.008548798107389385,
          0.008422175988737077,
          0.008297434469931511,
          0.008174596546422426,
          0.008053680361689752,
          0.00793469966472464,
          0.007817664257897832,
          0.007702580430920509,
          0.0075894513770553155,
          0.0074782775882045495,
          0.007369057225981805,
          0.007261786466356651,
          0.007156459815943389,
          0.007053070398478697,
          0.006951610210494136,
          0.0068520703456332495,
          0.006754441187484952,
          0.006658712571201427,
          0.006564873914536646,
          0.006472914319277693,
          0.006382822644344025,
          0.006294587552096836,
          0.006208197529631867,
          0.006123640887022858,
          0.006040905734639806,
          0.005959979941786596,
          0.005880851078987203,
          0.005803506346300075,
          0.005727932490057867,
          0.005654115710416898,
          0.005582041562059533,
          0.005511694850325807,
          0.005443059524961021,
          0.005376118573556295,
          0.005310853916632468,
          0.005247246306177003,
          0.005185275229292041,
          0.005124918818451813,
          0.005066153769702714,
          0.00500895526997142,
          0.004953296934478491,
          0.004899150755088653,
          0.004846487060266797,
          0.004795274487152076,
          0.004745479966112792,
          0.0046970687180034965,
          0.004650004264213291,
          0.004604248449471923,
          0.004559761477267906,
          0.004516501957631066,
          0.004474426966940408,
          0.004433492119337112,
          0.004393651649251221,
          0.004354858504489093,
          0.004317064449276151,
          0.004280220176605494,
          0.004244275429206972,
          0.0042091791284225325,
          0.0041748795102516225,
          0.004141324267814411,
          0.004108460699469979,
          0.004076235861820895,
          0.0040445967268341295,
          0.00401349034231047,
          0.003982863994940105,
          0.003952665375190194,
          0.003922842743280673,
          0.0038933450955166054,
          0.0038641223302588756,
          0.003835125412829162,
          0.003806306538659554,
          0.003777619294011633,
          0.0037490188136033494,
          0.0037204619344947043,
          0.003691907345594161,
          0.0036633157321568502,
          0.003634649914652254,
          0.0036058749813833325,
          0.0035769584142402357,
          0.003547870206970352,
          0.003518582975341935,
          0.003489072058571598,
          0.0034593156113766213,
          0.0034292946860019257,
          0.0033989933035594696,
          0.003368398514005695,
          0.0033375004440713333,
          0.003306292332449128,
          0.003274770551539728,
          0.003242934615056346,
          0.0032107871707958754,
          0.0031783339779002154,
          0.00314558386795817,
          0.0031125486893371396,
          0.0030792432341866984,
          0.003045685147624609,
          0.0030118948187007914,
          0.0029778952528379185,
          0.00294371192556852,
          0.002909372617528886,
          0.002874907230828833,
          0.0028403475870933405,
          0.0028057272076660016,
          0.0027710810766733364,
          0.0027364453878712704,
          0.0027018572764279155,
          0.002667354537036503,
          0.0026329753299960132,
          0.0025987578771397226,
          0.002564740149730164,
          0.0025309595506669037,
          0.0024974525935677915,
          0.0024642545814781056,
          0.0024313992881323998,
          0.002398918644834192,
          0.002366842436125867,
          0.0023351980074904194,
          0.0023040099883543546,
          0.002273300033644589,
          0.0022430865870885965,
          0.0022133846693354288,
          0.0021842056938142706,
          0.002155557313037677,
          0.0021274432977992,
          0.0020998634514121923,
          0.0020728135607911325,
          0.0020462853857926154,
          0.002020266687815397,
          0.0019947412982126976,
          0.001969689226602167,
          0.001945086808675949,
          0.0019209068926228502,
          0.0018971190627842124,
          0.001873689898682661,
          0.001850583267096399,
          0.0018277606444087099,
          0.0018051814660506409,
          0.0017828034994810825,
          0.0017605832368195419,
          0.0017384763029681426,
          0.0017164378748360995,
          0.0016944231071156605,
          0.0016723875599566934,
          0.0016502876238491749,
          0.0016280809370498766,
          0.0016057267909811409,
          0.0015831865191840884,
          0.0015604238656237372,
          0.0015374053284153326,
          0.0015141004753654777,
          0.0014904822280927409,
          0.001466527111904421,
          0.0014422154690519962,
          0.001417531633460432,
          0.0013924640655183641,
          0.0013670054460191482,
          0.0013411527288494961,
          0.0013149071525246022,
          0.0012882742111593856,
          0.0012612635859370399,
          0.0012338890385824356,
          0.001206168268762485,
          0.0011781227377135792,
          0.0011497774607326344,
          0.0011211607714597077,
          0.0010923040611237216,
          0.0010632414961163831,
          0.0010340097174021804,
          0.00100464752536388,
          0.0009751955537242368,
          0.0009456959361767723,
          0.0009161919693039261
         ],
         "yaxis": "y"
        },
        {
         "legendgroup": "Survived",
         "marker": {
          "color": "royalblue"
         },
         "mode": "lines",
         "name": "Survived",
         "showlegend": true,
         "type": "scatter",
         "x": [
          0.42,
          0.57916,
          0.73832,
          0.89748,
          1.05664,
          1.2158,
          1.37496,
          1.53412,
          1.69328,
          1.85244,
          2.0116,
          2.17076,
          2.32992,
          2.48908,
          2.64824,
          2.8074,
          2.96656,
          3.12572,
          3.2848800000000002,
          3.4440399999999998,
          3.6031999999999997,
          3.76236,
          3.92152,
          4.08068,
          4.23984,
          4.399,
          4.55816,
          4.71732,
          4.87648,
          5.03564,
          5.1948,
          5.35396,
          5.51312,
          5.67228,
          5.83144,
          5.9906,
          6.149760000000001,
          6.30892,
          6.46808,
          6.62724,
          6.7863999999999995,
          6.9455599999999995,
          7.10472,
          7.26388,
          7.42304,
          7.582199999999999,
          7.741359999999999,
          7.900519999999999,
          8.05968,
          8.21884,
          8.378,
          8.53716,
          8.69632,
          8.85548,
          9.01464,
          9.1738,
          9.33296,
          9.492119999999998,
          9.65128,
          9.81044,
          9.9696,
          10.12876,
          10.28792,
          10.44708,
          10.60624,
          10.7654,
          10.92456,
          11.08372,
          11.24288,
          11.40204,
          11.5612,
          11.720360000000001,
          11.879520000000001,
          12.03868,
          12.19784,
          12.357,
          12.51616,
          12.67532,
          12.83448,
          12.99364,
          13.1528,
          13.31196,
          13.471119999999999,
          13.630279999999999,
          13.78944,
          13.9486,
          14.10776,
          14.26692,
          14.42608,
          14.585239999999999,
          14.744399999999999,
          14.903559999999999,
          15.062719999999999,
          15.221879999999999,
          15.381039999999999,
          15.540199999999999,
          15.69936,
          15.85852,
          16.017680000000002,
          16.176840000000002,
          16.336000000000002,
          16.495160000000002,
          16.654320000000002,
          16.813480000000002,
          16.972640000000002,
          17.131800000000002,
          17.290960000000002,
          17.450120000000002,
          17.609280000000002,
          17.768440000000002,
          17.9276,
          18.08676,
          18.24592,
          18.405079999999998,
          18.564239999999998,
          18.723399999999998,
          18.88256,
          19.04172,
          19.20088,
          19.36004,
          19.5192,
          19.67836,
          19.83752,
          19.99668,
          20.15584,
          20.315,
          20.47416,
          20.63332,
          20.79248,
          20.95164,
          21.1108,
          21.26996,
          21.42912,
          21.58828,
          21.74744,
          21.9066,
          22.06576,
          22.22492,
          22.38408,
          22.54324,
          22.7024,
          22.861560000000004,
          23.020720000000004,
          23.179880000000004,
          23.339040000000004,
          23.498200000000004,
          23.65736,
          23.81652,
          23.97568,
          24.13484,
          24.294,
          24.45316,
          24.61232,
          24.77148,
          24.93064,
          25.0898,
          25.24896,
          25.40812,
          25.56728,
          25.72644,
          25.8856,
          26.04476,
          26.20392,
          26.36308,
          26.52224,
          26.6814,
          26.84056,
          26.999720000000003,
          27.158880000000003,
          27.318040000000003,
          27.477200000000003,
          27.636360000000003,
          27.795520000000003,
          27.954680000000003,
          28.113840000000003,
          28.273000000000003,
          28.432160000000003,
          28.591320000000003,
          28.75048,
          28.90964,
          29.0688,
          29.22796,
          29.38712,
          29.54628,
          29.70544,
          29.8646,
          30.02376,
          30.18292,
          30.34208,
          30.50124,
          30.6604,
          30.81956,
          30.978720000000003,
          31.137880000000003,
          31.297040000000003,
          31.456200000000003,
          31.615360000000003,
          31.774520000000003,
          31.933680000000003,
          32.09284,
          32.252,
          32.41116,
          32.57032,
          32.72948,
          32.88864,
          33.0478,
          33.20696,
          33.36612,
          33.52528,
          33.68444,
          33.8436,
          34.00276,
          34.16192,
          34.32108,
          34.48024,
          34.6394,
          34.79856,
          34.95772,
          35.11688,
          35.27604,
          35.4352,
          35.59436,
          35.75352,
          35.91268,
          36.07184,
          36.231,
          36.390159999999995,
          36.54932,
          36.708479999999994,
          36.86764,
          37.026799999999994,
          37.18596,
          37.34512,
          37.50428,
          37.66344,
          37.8226,
          37.98176,
          38.14092,
          38.30008,
          38.45924,
          38.6184,
          38.77756,
          38.93672,
          39.09588,
          39.25504,
          39.4142,
          39.57336,
          39.73252,
          39.89168,
          40.05084,
          40.21,
          40.36916,
          40.52832,
          40.68748,
          40.84664,
          41.0058,
          41.16496,
          41.32412000000001,
          41.48328,
          41.64244,
          41.8016,
          41.96076,
          42.11992,
          42.27908,
          42.43824,
          42.5974,
          42.75656,
          42.91572,
          43.07488,
          43.23404,
          43.3932,
          43.55236,
          43.71152,
          43.87068,
          44.02984,
          44.189,
          44.34816,
          44.50732,
          44.66648,
          44.82564,
          44.9848,
          45.14396,
          45.30312000000001,
          45.46228,
          45.62144000000001,
          45.7806,
          45.93976000000001,
          46.09892,
          46.25808000000001,
          46.41724,
          46.57640000000001,
          46.73556,
          46.89472,
          47.05388,
          47.21304,
          47.3722,
          47.53136,
          47.69052,
          47.84968,
          48.00884,
          48.168,
          48.32716,
          48.48632,
          48.64548,
          48.80464,
          48.9638,
          49.12296,
          49.28212,
          49.44128,
          49.600440000000006,
          49.7596,
          49.918760000000006,
          50.07792,
          50.237080000000006,
          50.39624,
          50.555400000000006,
          50.71456,
          50.873720000000006,
          51.03288,
          51.192040000000006,
          51.3512,
          51.510360000000006,
          51.66952,
          51.82868,
          51.98784,
          52.147,
          52.30616,
          52.46532,
          52.62448,
          52.78364,
          52.9428,
          53.10196,
          53.26112,
          53.42028,
          53.579440000000005,
          53.7386,
          53.897760000000005,
          54.05692,
          54.216080000000005,
          54.37524,
          54.534400000000005,
          54.69356,
          54.852720000000005,
          55.01188,
          55.171040000000005,
          55.3302,
          55.489360000000005,
          55.64852,
          55.807680000000005,
          55.96684,
          56.126000000000005,
          56.28516,
          56.444320000000005,
          56.60348,
          56.762640000000005,
          56.9218,
          57.08096,
          57.24012,
          57.39928,
          57.558440000000004,
          57.7176,
          57.876760000000004,
          58.03592,
          58.195080000000004,
          58.35424,
          58.513400000000004,
          58.67256,
          58.831720000000004,
          58.99088,
          59.150040000000004,
          59.3092,
          59.468360000000004,
          59.62752,
          59.786680000000004,
          59.94584,
          60.105000000000004,
          60.26416,
          60.423320000000004,
          60.58248,
          60.741640000000004,
          60.9008,
          61.059960000000004,
          61.21912,
          61.378280000000004,
          61.537440000000004,
          61.696600000000004,
          61.855760000000004,
          62.01492,
          62.174080000000004,
          62.333239999999996,
          62.4924,
          62.651559999999996,
          62.81072,
          62.969879999999996,
          63.12904,
          63.288199999999996,
          63.44736,
          63.606519999999996,
          63.76568,
          63.924839999999996,
          64.084,
          64.24315999999999,
          64.40232,
          64.56148,
          64.72064,
          64.8798,
          65.03896,
          65.19812,
          65.35728,
          65.51644,
          65.6756,
          65.83476,
          65.99392,
          66.15308,
          66.31224,
          66.4714,
          66.63056,
          66.78972,
          66.94888,
          67.10803999999999,
          67.2672,
          67.42636,
          67.58552,
          67.74467999999999,
          67.90384,
          68.063,
          68.22216,
          68.38131999999999,
          68.54048,
          68.69964,
          68.8588,
          69.01795999999999,
          69.17712,
          69.33628,
          69.49544,
          69.65459999999999,
          69.81376,
          69.97292,
          70.13208,
          70.29124,
          70.4504,
          70.60956,
          70.76872,
          70.92788,
          71.08704,
          71.2462,
          71.40536,
          71.56452,
          71.72368,
          71.88284,
          72.042,
          72.20116,
          72.36031999999999,
          72.51948,
          72.67864,
          72.8378,
          72.99695999999999,
          73.15612,
          73.31528,
          73.47444,
          73.63359999999999,
          73.79276,
          73.95192,
          74.11108,
          74.27024,
          74.4294,
          74.58856,
          74.74772,
          74.90688,
          75.06604,
          75.2252,
          75.38436,
          75.54352,
          75.70268,
          75.86184,
          76.021,
          76.18016,
          76.33932,
          76.49848,
          76.65764,
          76.8168,
          76.97596,
          77.13512,
          77.29428,
          77.45344,
          77.61259999999999,
          77.77176,
          77.93092,
          78.09008,
          78.24924,
          78.4084,
          78.56756,
          78.72672,
          78.88588,
          79.04504,
          79.2042,
          79.36336,
          79.52252,
          79.68168,
          79.84084
         ],
         "xaxis": "x",
         "y": [
          0.007710619184300291,
          0.00785478205385093,
          0.007994059210689703,
          0.008128163699489058,
          0.00825682515586038,
          0.00837979133820005,
          0.00849682959589584,
          0.008607728265191114,
          0.008712297984440022,
          0.008810372920978493,
          0.008901811902379295,
          0.008986499445448867,
          0.009064346676952903,
          0.009135292140719925,
          0.009199302486461816,
          0.009256373036359936,
          0.009306528226188824,
          0.009349821918478893,
          0.009386337585951181,
          0.009416188364179859,
          0.009439516973152522,
          0.009456495508091642,
          0.009467325100573593,
          0.009472235451625836,
          0.009471484239096354,
          0.009465356402166815,
          0.009454163306421489,
          0.009438241793382967,
          0.00941795311888407,
          0.009393681785059149,
          0.009365834271110339,
          0.009334837668332365,
          0.009301138225166242,
          0.009265199808298095,
          0.009227502286026585,
          0.009188539840293908,
          0.00914881921391315,
          0.009108857899631898,
          0.009069182277754068,
          0.009030325709098433,
          0.0089928265901113,
          0.008957226376972882,
          0.008924067585546907,
          0.00889389177402437,
          0.0088672375151081,
          0.008844638364577632,
          0.008826620833066862,
          0.008813702367881695,
          0.008806389351682913,
          0.008805175124862652,
          0.008810538038449653,
          0.008822939544392233,
          0.00884282233008258,
          0.00887060850400599,
          0.008906697839417516,
          0.008951466082965029,
          0.009005263335189289,
          0.009068412509833835,
          0.009141207878885333,
          0.009223913710235449,
          0.00931676300480236,
          0.00941995633986823,
          0.009533660825273897,
          0.009658009178957894,
          0.009793098928128172,
          0.009938991742107802,
          0.010095712902593644,
          0.010263250916707711,
          0.010441557277799617,
          0.010630546378472308,
          0.01083009557975069,
          0.011040045439691922,
          0.01126020010404746,
          0.011490327860830261,
          0.011730161859819014,
          0.011979400997147664,
          0.012237710964185147,
          0.01250472545891731,
          0.012780047557000981,
          0.013063251238583307,
          0.013353883065870395,
          0.013651464005304386,
          0.013955491387071764,
          0.014265440993535543,
          0.014580769267067617,
          0.014900915626670484,
          0.01522530488173248,
          0.015553349730270005,
          0.0158844533280887,
          0.016218011914453434,
          0.01655341747911225,
          0.016890060454876878,
          0.017227332419439183,
          0.017564628789706,
          0.017901351491673833,
          0.018236911588747507,
          0.018570731851437126,
          0.01890224925155543,
          0.019230917364373885,
          0.019556208662697742,
          0.019877616687466942,
          0.020194658080297728,
          0.02050687446432365,
          0.020813834160786727,
          0.021115133730042587,
          0.021410399326981452,
          0.02169928786230485,
          0.021981487962631725,
          0.022256720724013992,
          0.02252474025510913,
          0.022785334007964324,
          0.023038322896098893,
          0.02328356120130519,
          0.02352093627231158,
          0.023750368020134208,
          0.023971808216583748,
          0.024185239603954408,
          0.02439067482540448,
          0.024588155186910165,
          0.024777749262935602,
          0.024959551359088353,
          0.02513367984601705,
          0.02530027537964395,
          0.025459499023501767,
          0.025611530289459162,
          0.025756565113464705,
          0.025894813783120262,
          0.0260264988339046,
          0.026151852930719335,
          0.02627111675111758,
          0.026384536886116753,
          0.026492363773892774,
          0.026594849680919738,
          0.02669224674426317,
          0.02678480508777693,
          0.02687277102389862,
          0.026956385351609897,
          0.02703588175993614,
          0.02711148534512248,
          0.027183411248355493,
          0.02725186341961965,
          0.027317033511994392,
          0.02737909990943583,
          0.0274382268898496,
          0.02749456392406924,
          0.02754824511021609,
          0.027599388741840543,
          0.02764809700724694,
          0.027694455816480903,
          0.02773853475162877,
          0.02778038713533597,
          0.027820050211806654,
          0.02785754543399571,
          0.02789287885025252,
          0.027926041583316453,
          0.027957010394298033,
          0.027985748324102624,
          0.028012205404659943,
          0.02803631943230843,
          0.028058016795736745,
          0.02807721335101054,
          0.028093815336387218,
          0.028107720319851457,
          0.028118818172574264,
          0.02812699206180009,
          0.028132119456999744,
          0.028134073143471404,
          0.02813272223793626,
          0.02812793320103907,
          0.028119570842027528,
          0.028107499311247095,
          0.02809158307643135,
          0.02807168787910515,
          0.028047681667731302,
          0.028019435504528192,
          0.027986824443158025,
          0.027949728374738837,
          0.027908032839855296,
          0.02786162980445529,
          0.027810418397693656,
          0.027754305609952883,
          0.027693206949407898,
          0.027627047055630027,
          0.027555760268837236,
          0.02747929115349448,
          0.027397594975059975,
          0.027310638128756264,
          0.02721839851932513,
          0.027120865890804407,
          0.027018042105446338,
          0.026909941370980493,
          0.02679659041551755,
          0.02667802860948816,
          0.026554308034119366,
          0.02642549349607485,
          0.026291662488012277,
          0.026152905094961383,
          0.026009323846580917,
          0.025861033515525905,
          0.02570816086234008,
          0.02555084432748598,
          0.025389233671331897,
          0.025223489563134614,
          0.025053783120282863,
          0.02488029539930249,
          0.024703216840364146,
          0.02452274666727667,
          0.024339092245199694,
          0.024152468398547056,
          0.023963096691802552,
          0.023771204676200895,
          0.023577025105459542,
          0.023380795123966538,
          0.02318275543103723,
          0.02298314942504517,
          0.02278222233141156,
          0.022580220318592716,
          0.02237738960634402,
          0.022173975570651518,
          0.0219702218498121,
          0.021766369456206008,
          0.021562655898340322,
          0.021359314317747975,
          0.02115657264530263,
          0.02095465278145342,
          0.020753769804798778,
          0.020554131213295867,
          0.020355936202255655,
          0.020159374983086065,
          0.01996462814653624,
          0.019771866073946896,
          0.019581248399741163,
          0.019392923528087247,
          0.01920702820633848,
          0.019023687157505912,
          0.018843012773645765,
          0.01866510487165448,
          0.01849005051255893,
          0.018317923884969736,
          0.018148786252939506,
          0.01798268596803615,
          0.01781965854500651,
          0.017659726799975666,
          0.01750290104970245,
          0.01734917936999706,
          0.017198547911007448,
          0.01705098126669949,
          0.016906442895498024,
          0.016764885588719296,
          0.01662625198312532,
          0.016490475113653782,
          0.016357479002144158,
          0.0162271792776774,
          0.016099483823988733,
          0.015974293449292375,
          0.01585150257378067,
          0.01573099993002555,
          0.015612669271519457,
          0.015496390084644472,
          0.015382038299451777,
          0.015269486994767956,
          0.01515860709331848,
          0.015049268042765998,
          0.014941338478807728,
          0.014834686866747635,
          0.014729182118261663,
          0.014624694180399949,
          0.014521094594212339,
          0.014418257020745619,
          0.014316057732529043,
          0.014214376069042895,
          0.014113094855042892,
          0.014012100780988626,
          0.01391128474519388,
          0.013810542157672932,
          0.013709773206000399,
          0.013608883083823742,
          0.013507782182969186,
          0.013406386250356716,
          0.013304616511185896,
          0.013202399760071416,
          0.013099668421991716,
          0.01299636058506447,
          0.01289242000727966,
          0.01278779609940427,
          0.01268244388631976,
          0.012576323949069374,
          0.012469402349875045,
          0.01236165054233525,
          0.012253045268939566,
          0.012143568447932844,
          0.012033207051436429,
          0.011921952976587163,
          0.011809802911291896,
          0.011696758196018224,
          0.011582824682854365,
          0.011468012592877127,
          0.011352336372669957,
          0.011235814550635614,
          0.01111846959355494,
          0.011000327763657515,
          0.010881418976291881,
          0.010761776658121832,
          0.010641437605623865,
          0.010520441843531429,
          0.010398832482758481,
          0.01027665557724266,
          0.010153959979077913,
          0.010030797191258569,
          0.009907221217329119,
          0.009783288407231657,
          0.009659057298659098,
          0.009534588453261973,
          0.009409944287113519,
          0.00928518889491512,
          0.009160387867516356,
          0.009035608102431324,
          0.008910917607152583,
          0.008786385295193978,
          0.008662080774930575,
          0.008538074131447504,
          0.008414435701754118,
          0.008291235843866507,
          0.008168544700404791,
          0.008046431957491128,
          0.00792496659986795,
          0.0078042166632794115,
          0.0076842489852741655,
          0.007565128955688918,
          0.0074469202681616345,
          0.007329684674096786,
          0.007213481740564068,
          0.007098368613654297,
          0.006984399788841667,
          0.006871626889910587,
          0.006760098457996926,
          0.006649859752268525,
          0.006540952563728931,
          0.006433415043570881,
          0.006327281547434731,
          0.006222582496840869,
          0.00611934425896624,
          0.006017589045824965,
          0.005917334833791026,
          0.005818595304271299,
          0.005721379806198313,
          0.00562569334086715,
          0.005531536569490883,
          0.005438905843694922,
          0.005347793259014251,
          0.005258186731299624,
          0.00517007009578221,
          0.005083423228388919,
          0.0049982221887485264,
          0.004914439384177637,
          0.004832043753791471,
          0.004751000971744081,
          0.0046712736684707545,
          0.004592821668679191,
          0.004515602244719453,
          0.00443957038385447,
          0.004364679067854193,
          0.004290879563248712,
          0.004218121720497739,
          0.004146354280268214,
          0.004075525184957011,
          0.004005581893553907,
          0.0039364716979097495,
          0.003868142038458155,
          0.003800540817434602,
          0.003733616707646085,
          0.0036673194548664505,
          0.003601600171968096,
          0.003536411622949211,
          0.00347170849507721,
          0.003407447657443277,
          0.0033435884043100327,
          0.0032800926817325164,
          0.0032169252960436876,
          0.003154054102916407,
          0.003091450175845602,
          0.003029087953034966,
          0.0029669453618221095,
          0.002905003919932501,
          0.0028432488130160473,
          0.0027816689480878337,
          0.002720256982667228,
          0.002659009329583406,
          0.0025979261375913454,
          0.0025370112481173804,
          0.0024762721286263677,
          0.002415719783272515,
          0.0023553686416604457,
          0.002295236426701566,
          0.002235344002700588,
          0.002175715204948555,
          0.0021163766522282012,
          0.0020573575437560026,
          0.00199868944218985,
          0.0019404060444222788,
          0.0018825429419543599,
          0.0018251373727055727,
          0.0017682279661576034,
          0.001711854483757153,
          0.001656057556511435,
          0.001600878421702806,
          0.0015463586606237268,
          0.0014925399391921123,
          0.001439463753249134,
          0.0013871711802687064,
          0.001335702639119981,
          0.0012850976594228707,
          0.0012353946619228146,
          0.0011866307511862286,
          0.0011388415217832007,
          0.0010920608789814267,
          0.0010463208748256467,
          0.0010016515603226456,
          0.0009580808542939436,
          0.0009156344292990907,
          0.000874335614873249,
          0.0008342053181653313,
          0.0007952619619087629,
          0.000757521439508106,
          0.0007209970868818906,
          0.0006856996705673006,
          0.0006516373914663444,
          0.000618815903497793,
          0.0005872383463144099,
          0.0005569053911527467,
          0.0005278152988028226,
          0.0004999639886185575,
          0.0004733451174366412,
          0.0004479501672323685,
          0.0004237685403152357,
          0.0004007876608553791,
          0.00037899308153319127,
          0.0003583685941189345,
          0.00033889634281570165,
          0.00032055693923753497,
          0.0003033295779435578,
          0.00028719215150811093,
          0.00027212136417482653,
          0.0002580928432184172,
          0.00024508124722048304,
          0.0002330603705536652,
          0.00022200324346083978,
          0.00021188222721148326,
          0.00020266910391460906,
          0.0001943351606656135,
          0.00018685126780174492,
          0.00018018795113657583,
          0.00017431545813676778,
          0.0001692038180934353,
          0.000164822896424729,
          0.0001611424433247978,
          0.00015813213704646612,
          0.0001557616221698973,
          0.00015400054326674816,
          0.00015281857441827736,
          0.00015218544508622685,
          0.00015207096286674388,
          0.0001524450336800103,
          0.0001532776799615528,
          0.00015453905742546692,
          0.00015619947096518866,
          0.0001582293902442431,
          0.00016059946550797671,
          0.0001632805441180919,
          0.0001662436882753945,
          0.00016946019435318399,
          0.00017290161421482957,
          0.00017653977883508456,
          0.00018034682448635276,
          0.00018429522168935693,
          0.00018835780706328827,
          0.00019250781814449819,
          0.00019671893117600536,
          0.0002009653018034917,
          0.0002052216085479096,
          0.00020946309886122304,
          0.00021366563751103372,
          0.000217805756982637,
          0.0002218607095342273,
          0.00022580852049319382,
          0.00022962804233932598,
          0.00023329900908483276,
          0.00023680209043184735,
          0.0002401189451658698,
          0.00024323227322868525,
          0.00024612586590689315,
          0.0002487846535723006,
          0.00025119475041812585,
          0.0002533434956500414,
          0.00025521949061340217,
          0.00025681263136718665,
          0.00025811413625088063,
          0.0002591165680322388,
          0.0002598138502710309,
          0.00026020127758589665
         ],
         "yaxis": "y"
        }
       ],
       "layout": {
        "barmode": "overlay",
        "hovermode": "closest",
        "legend": {
         "traceorder": "reversed"
        },
        "template": {
         "data": {
          "bar": [
           {
            "error_x": {
             "color": "#2a3f5f"
            },
            "error_y": {
             "color": "#2a3f5f"
            },
            "marker": {
             "line": {
              "color": "#E5ECF6",
              "width": 0.5
             }
            },
            "type": "bar"
           }
          ],
          "barpolar": [
           {
            "marker": {
             "line": {
              "color": "#E5ECF6",
              "width": 0.5
             }
            },
            "type": "barpolar"
           }
          ],
          "carpet": [
           {
            "aaxis": {
             "endlinecolor": "#2a3f5f",
             "gridcolor": "white",
             "linecolor": "white",
             "minorgridcolor": "white",
             "startlinecolor": "#2a3f5f"
            },
            "baxis": {
             "endlinecolor": "#2a3f5f",
             "gridcolor": "white",
             "linecolor": "white",
             "minorgridcolor": "white",
             "startlinecolor": "#2a3f5f"
            },
            "type": "carpet"
           }
          ],
          "choropleth": [
           {
            "colorbar": {
             "outlinewidth": 0,
             "ticks": ""
            },
            "type": "choropleth"
           }
          ],
          "contour": [
           {
            "colorbar": {
             "outlinewidth": 0,
             "ticks": ""
            },
            "colorscale": [
             [
              0,
              "#0d0887"
             ],
             [
              0.1111111111111111,
              "#46039f"
             ],
             [
              0.2222222222222222,
              "#7201a8"
             ],
             [
              0.3333333333333333,
              "#9c179e"
             ],
             [
              0.4444444444444444,
              "#bd3786"
             ],
             [
              0.5555555555555556,
              "#d8576b"
             ],
             [
              0.6666666666666666,
              "#ed7953"
             ],
             [
              0.7777777777777778,
              "#fb9f3a"
             ],
             [
              0.8888888888888888,
              "#fdca26"
             ],
             [
              1,
              "#f0f921"
             ]
            ],
            "type": "contour"
           }
          ],
          "contourcarpet": [
           {
            "colorbar": {
             "outlinewidth": 0,
             "ticks": ""
            },
            "type": "contourcarpet"
           }
          ],
          "heatmap": [
           {
            "colorbar": {
             "outlinewidth": 0,
             "ticks": ""
            },
            "colorscale": [
             [
              0,
              "#0d0887"
             ],
             [
              0.1111111111111111,
              "#46039f"
             ],
             [
              0.2222222222222222,
              "#7201a8"
             ],
             [
              0.3333333333333333,
              "#9c179e"
             ],
             [
              0.4444444444444444,
              "#bd3786"
             ],
             [
              0.5555555555555556,
              "#d8576b"
             ],
             [
              0.6666666666666666,
              "#ed7953"
             ],
             [
              0.7777777777777778,
              "#fb9f3a"
             ],
             [
              0.8888888888888888,
              "#fdca26"
             ],
             [
              1,
              "#f0f921"
             ]
            ],
            "type": "heatmap"
           }
          ],
          "heatmapgl": [
           {
            "colorbar": {
             "outlinewidth": 0,
             "ticks": ""
            },
            "colorscale": [
             [
              0,
              "#0d0887"
             ],
             [
              0.1111111111111111,
              "#46039f"
             ],
             [
              0.2222222222222222,
              "#7201a8"
             ],
             [
              0.3333333333333333,
              "#9c179e"
             ],
             [
              0.4444444444444444,
              "#bd3786"
             ],
             [
              0.5555555555555556,
              "#d8576b"
             ],
             [
              0.6666666666666666,
              "#ed7953"
             ],
             [
              0.7777777777777778,
              "#fb9f3a"
             ],
             [
              0.8888888888888888,
              "#fdca26"
             ],
             [
              1,
              "#f0f921"
             ]
            ],
            "type": "heatmapgl"
           }
          ],
          "histogram": [
           {
            "marker": {
             "colorbar": {
              "outlinewidth": 0,
              "ticks": ""
             }
            },
            "type": "histogram"
           }
          ],
          "histogram2d": [
           {
            "colorbar": {
             "outlinewidth": 0,
             "ticks": ""
            },
            "colorscale": [
             [
              0,
              "#0d0887"
             ],
             [
              0.1111111111111111,
              "#46039f"
             ],
             [
              0.2222222222222222,
              "#7201a8"
             ],
             [
              0.3333333333333333,
              "#9c179e"
             ],
             [
              0.4444444444444444,
              "#bd3786"
             ],
             [
              0.5555555555555556,
              "#d8576b"
             ],
             [
              0.6666666666666666,
              "#ed7953"
             ],
             [
              0.7777777777777778,
              "#fb9f3a"
             ],
             [
              0.8888888888888888,
              "#fdca26"
             ],
             [
              1,
              "#f0f921"
             ]
            ],
            "type": "histogram2d"
           }
          ],
          "histogram2dcontour": [
           {
            "colorbar": {
             "outlinewidth": 0,
             "ticks": ""
            },
            "colorscale": [
             [
              0,
              "#0d0887"
             ],
             [
              0.1111111111111111,
              "#46039f"
             ],
             [
              0.2222222222222222,
              "#7201a8"
             ],
             [
              0.3333333333333333,
              "#9c179e"
             ],
             [
              0.4444444444444444,
              "#bd3786"
             ],
             [
              0.5555555555555556,
              "#d8576b"
             ],
             [
              0.6666666666666666,
              "#ed7953"
             ],
             [
              0.7777777777777778,
              "#fb9f3a"
             ],
             [
              0.8888888888888888,
              "#fdca26"
             ],
             [
              1,
              "#f0f921"
             ]
            ],
            "type": "histogram2dcontour"
           }
          ],
          "mesh3d": [
           {
            "colorbar": {
             "outlinewidth": 0,
             "ticks": ""
            },
            "type": "mesh3d"
           }
          ],
          "parcoords": [
           {
            "line": {
             "colorbar": {
              "outlinewidth": 0,
              "ticks": ""
             }
            },
            "type": "parcoords"
           }
          ],
          "pie": [
           {
            "automargin": true,
            "type": "pie"
           }
          ],
          "scatter": [
           {
            "marker": {
             "colorbar": {
              "outlinewidth": 0,
              "ticks": ""
             }
            },
            "type": "scatter"
           }
          ],
          "scatter3d": [
           {
            "line": {
             "colorbar": {
              "outlinewidth": 0,
              "ticks": ""
             }
            },
            "marker": {
             "colorbar": {
              "outlinewidth": 0,
              "ticks": ""
             }
            },
            "type": "scatter3d"
           }
          ],
          "scattercarpet": [
           {
            "marker": {
             "colorbar": {
              "outlinewidth": 0,
              "ticks": ""
             }
            },
            "type": "scattercarpet"
           }
          ],
          "scattergeo": [
           {
            "marker": {
             "colorbar": {
              "outlinewidth": 0,
              "ticks": ""
             }
            },
            "type": "scattergeo"
           }
          ],
          "scattergl": [
           {
            "marker": {
             "colorbar": {
              "outlinewidth": 0,
              "ticks": ""
             }
            },
            "type": "scattergl"
           }
          ],
          "scattermapbox": [
           {
            "marker": {
             "colorbar": {
              "outlinewidth": 0,
              "ticks": ""
             }
            },
            "type": "scattermapbox"
           }
          ],
          "scatterpolar": [
           {
            "marker": {
             "colorbar": {
              "outlinewidth": 0,
              "ticks": ""
             }
            },
            "type": "scatterpolar"
           }
          ],
          "scatterpolargl": [
           {
            "marker": {
             "colorbar": {
              "outlinewidth": 0,
              "ticks": ""
             }
            },
            "type": "scatterpolargl"
           }
          ],
          "scatterternary": [
           {
            "marker": {
             "colorbar": {
              "outlinewidth": 0,
              "ticks": ""
             }
            },
            "type": "scatterternary"
           }
          ],
          "surface": [
           {
            "colorbar": {
             "outlinewidth": 0,
             "ticks": ""
            },
            "colorscale": [
             [
              0,
              "#0d0887"
             ],
             [
              0.1111111111111111,
              "#46039f"
             ],
             [
              0.2222222222222222,
              "#7201a8"
             ],
             [
              0.3333333333333333,
              "#9c179e"
             ],
             [
              0.4444444444444444,
              "#bd3786"
             ],
             [
              0.5555555555555556,
              "#d8576b"
             ],
             [
              0.6666666666666666,
              "#ed7953"
             ],
             [
              0.7777777777777778,
              "#fb9f3a"
             ],
             [
              0.8888888888888888,
              "#fdca26"
             ],
             [
              1,
              "#f0f921"
             ]
            ],
            "type": "surface"
           }
          ],
          "table": [
           {
            "cells": {
             "fill": {
              "color": "#EBF0F8"
             },
             "line": {
              "color": "white"
             }
            },
            "header": {
             "fill": {
              "color": "#C8D4E3"
             },
             "line": {
              "color": "white"
             }
            },
            "type": "table"
           }
          ]
         },
         "layout": {
          "annotationdefaults": {
           "arrowcolor": "#2a3f5f",
           "arrowhead": 0,
           "arrowwidth": 1
          },
          "coloraxis": {
           "colorbar": {
            "outlinewidth": 0,
            "ticks": ""
           }
          },
          "colorscale": {
           "diverging": [
            [
             0,
             "#8e0152"
            ],
            [
             0.1,
             "#c51b7d"
            ],
            [
             0.2,
             "#de77ae"
            ],
            [
             0.3,
             "#f1b6da"
            ],
            [
             0.4,
             "#fde0ef"
            ],
            [
             0.5,
             "#f7f7f7"
            ],
            [
             0.6,
             "#e6f5d0"
            ],
            [
             0.7,
             "#b8e186"
            ],
            [
             0.8,
             "#7fbc41"
            ],
            [
             0.9,
             "#4d9221"
            ],
            [
             1,
             "#276419"
            ]
           ],
           "sequential": [
            [
             0,
             "#0d0887"
            ],
            [
             0.1111111111111111,
             "#46039f"
            ],
            [
             0.2222222222222222,
             "#7201a8"
            ],
            [
             0.3333333333333333,
             "#9c179e"
            ],
            [
             0.4444444444444444,
             "#bd3786"
            ],
            [
             0.5555555555555556,
             "#d8576b"
            ],
            [
             0.6666666666666666,
             "#ed7953"
            ],
            [
             0.7777777777777778,
             "#fb9f3a"
            ],
            [
             0.8888888888888888,
             "#fdca26"
            ],
            [
             1,
             "#f0f921"
            ]
           ],
           "sequentialminus": [
            [
             0,
             "#0d0887"
            ],
            [
             0.1111111111111111,
             "#46039f"
            ],
            [
             0.2222222222222222,
             "#7201a8"
            ],
            [
             0.3333333333333333,
             "#9c179e"
            ],
            [
             0.4444444444444444,
             "#bd3786"
            ],
            [
             0.5555555555555556,
             "#d8576b"
            ],
            [
             0.6666666666666666,
             "#ed7953"
            ],
            [
             0.7777777777777778,
             "#fb9f3a"
            ],
            [
             0.8888888888888888,
             "#fdca26"
            ],
            [
             1,
             "#f0f921"
            ]
           ]
          },
          "colorway": [
           "#636efa",
           "#EF553B",
           "#00cc96",
           "#ab63fa",
           "#FFA15A",
           "#19d3f3",
           "#FF6692",
           "#B6E880",
           "#FF97FF",
           "#FECB52"
          ],
          "font": {
           "color": "#2a3f5f"
          },
          "geo": {
           "bgcolor": "white",
           "lakecolor": "white",
           "landcolor": "#E5ECF6",
           "showlakes": true,
           "showland": true,
           "subunitcolor": "white"
          },
          "hoverlabel": {
           "align": "left"
          },
          "hovermode": "closest",
          "mapbox": {
           "style": "light"
          },
          "paper_bgcolor": "white",
          "plot_bgcolor": "#E5ECF6",
          "polar": {
           "angularaxis": {
            "gridcolor": "white",
            "linecolor": "white",
            "ticks": ""
           },
           "bgcolor": "#E5ECF6",
           "radialaxis": {
            "gridcolor": "white",
            "linecolor": "white",
            "ticks": ""
           }
          },
          "scene": {
           "xaxis": {
            "backgroundcolor": "#E5ECF6",
            "gridcolor": "white",
            "gridwidth": 2,
            "linecolor": "white",
            "showbackground": true,
            "ticks": "",
            "zerolinecolor": "white"
           },
           "yaxis": {
            "backgroundcolor": "#E5ECF6",
            "gridcolor": "white",
            "gridwidth": 2,
            "linecolor": "white",
            "showbackground": true,
            "ticks": "",
            "zerolinecolor": "white"
           },
           "zaxis": {
            "backgroundcolor": "#E5ECF6",
            "gridcolor": "white",
            "gridwidth": 2,
            "linecolor": "white",
            "showbackground": true,
            "ticks": "",
            "zerolinecolor": "white"
           }
          },
          "shapedefaults": {
           "line": {
            "color": "#2a3f5f"
           }
          },
          "ternary": {
           "aaxis": {
            "gridcolor": "white",
            "linecolor": "white",
            "ticks": ""
           },
           "baxis": {
            "gridcolor": "white",
            "linecolor": "white",
            "ticks": ""
           },
           "bgcolor": "#E5ECF6",
           "caxis": {
            "gridcolor": "white",
            "linecolor": "white",
            "ticks": ""
           }
          },
          "title": {
           "x": 0.05
          },
          "xaxis": {
           "automargin": true,
           "gridcolor": "white",
           "linecolor": "white",
           "ticks": "",
           "title": {
            "standoff": 15
           },
           "zerolinecolor": "white",
           "zerolinewidth": 2
          },
          "yaxis": {
           "automargin": true,
           "gridcolor": "white",
           "linecolor": "white",
           "ticks": "",
           "title": {
            "standoff": 15
           },
           "zerolinecolor": "white",
           "zerolinewidth": 2
          }
         }
        },
        "title": {
         "text": "Passenger Age Distribution by Survival"
        },
        "xaxis": {
         "anchor": "y2",
         "domain": [
          0,
          1
         ],
         "title": {
          "text": "Age"
         },
         "zeroline": false
        },
        "yaxis": {
         "anchor": "free",
         "domain": [
          0,
          1
         ],
         "position": 0
        }
       }
      }
     },
     "metadata": {}
    }
   ],
   "source": [
    "# Creating Title feature\n",
    "full_df[\"Title\"] = full_df[\"Name\"].str.extract(\" ([A-Za-z]+)\\.\")\n",
    "full_df.Title.replace([\"Mlle\", \"Ms\", \"Mme\"], \"Miss\", inplace=True)\n",
    "full_df.Title.replace([\"Lady\", \"Countess\", \"Dona\"], \"Mrs\", inplace=True)\n",
    "full_df.Title.replace([\"Major\", \"Jonkheer\", \"Don\", \"Col\", \"Sir\", \"Capt\"], \"Mr\", inplace=True)\n",
    "\n",
    "# Imputing Age based on Title and Passenger Class\n",
    "age_medians = full_df.groupby([\"Title\", \"Pclass\"])[\"Age\"]\n",
    "full_df.Age = age_medians.transform(lambda x: x.fillna(x.median()))\n",
    "\n",
    "# Dropping Ttitle feature\n",
    "full_df.drop(columns=[\"Title\"], inplace=True)\n",
    "\n",
    "# Plotting Age distribution by Survival\n",
    "data = [full_df.Age[full_df.Survived == 0], full_df.Age[full_df.Survived == 1]]\n",
    "labels = [\"Died\", \"Survived\"]\n",
    "colors = [\"red\", \"royalblue\"]\n",
    "fig = ff.create_distplot(data, labels, colors=colors, bin_size=5, show_rug=False, show_hist=False)\n",
    "fig.update_layout(\n",
    "    title_text=\"Passenger Age Distribution by Survival\",\n",
    "    xaxis_title=\"Age\"\n",
    ")\n",
    "fig.show()"
   ]
  },
  {
   "source": [
    "Furthermore, creating bins for Age is likely to improve the model's performance."
   ],
   "cell_type": "markdown",
   "metadata": {}
  },
  {
   "cell_type": "code",
   "execution_count": 12,
   "metadata": {},
   "outputs": [],
   "source": [
    "full_df[\"AgeBin\"] = pd.qcut(full_df[\"Age\"], 5)\n",
    "\n",
    "encoder = LabelEncoder()\n",
    "\n",
    "full_df[\"AgeBin\"] = encoder.fit_transform(full_df[\"AgeBin\"])\n",
    "\n",
    "full_df.drop(columns=[\"Age\"], inplace=True)"
   ]
  },
  {
   "source": [
    "### Survived, Name, Ticket and Fare -> GroupSurvival\n",
    "\n",
    "Another potentially useful information is whether someone in a passenger travel group survived. A person that belongs to a group that has survivors is probably more likely to have survived too. To define a travel group it's important to look at a passenger's Last Name, Fare and Ticket."
   ],
   "cell_type": "markdown",
   "metadata": {}
  },
  {
   "cell_type": "code",
   "execution_count": 14,
   "metadata": {},
   "outputs": [],
   "source": [
    "full_df[\"LastName\"] = full_df.Name.str.split().str[0].str.strip(\",\")\n",
    "\n",
    "fare_medians = full_df.groupby([\"Pclass\", \"Sex\"])[\"Fare\"]\n",
    "full_df.Fare = fare_medians.transform(lambda x: x.fillna(x.median()))\n",
    "\n",
    "initialSurvivalValue = 1\n",
    "full_df[\"GroupSurvival\"] = initialSurvivalValue\n",
    "\n",
    "familyGroups = full_df[[\"PassengerId\", \"Survived\", \"GroupSurvival\", \"LastName\", \"Fare\"]].groupby(\n",
    "    [\"LastName\", \"Fare\"]\n",
    ")\n",
    "\n",
    "for _, group_df in familyGroups:\n",
    "    if len(group_df) > 1:\n",
    "        for idx, entry in group_df.iterrows():\n",
    "            maxSurvivedStatus = group_df.drop(idx)[\"Survived\"].max()\n",
    "            minSurvivedStatus = group_df.drop(idx)[\"Survived\"].min()\n",
    "            passengerId = entry.PassengerId\n",
    "            if maxSurvivedStatus == 1:\n",
    "                full_df.loc[full_df[\"PassengerId\"] == passengerId, \"GroupSurvival\"] = 2\n",
    "            elif minSurvivedStatus == 0:\n",
    "                full_df.loc[full_df[\"PassengerId\"] == passengerId, \"GroupSurvival\"] = 0"
   ]
  },
  {
   "cell_type": "code",
   "execution_count": 15,
   "metadata": {},
   "outputs": [],
   "source": [
    "travelGroups = full_df[[\"PassengerId\", \"Survived\", \"GroupSurvival\", \"Ticket\"]].groupby(\n",
    "    [\"Ticket\"]\n",
    ")\n",
    "\n",
    "for _, group_df in travelGroups:\n",
    "    if len(group_df) > 1:\n",
    "        for idx, entry in group_df.iterrows():\n",
    "            if entry.GroupSurvival < 2:\n",
    "                maxSurvivedStatus = group_df.drop(idx)[\"Survived\"].max()\n",
    "                minSurvivedStatus = group_df.drop(idx)[\"Survived\"].min()\n",
    "                passengerId = entry.PassengerId\n",
    "                if maxSurvivedStatus == 1:\n",
    "                    full_df.loc[full_df[\"PassengerId\"] == passengerId, \"GroupSurvival\"] = 2\n",
    "                elif minSurvivedStatus == 0:\n",
    "                    full_df.loc[full_df[\"PassengerId\"] == passengerId, \"GroupSurvival\"] = 0"
   ]
  },
  {
   "source": [
    "### Fare\n",
    "\n",
    "The next feature to analyze is \"Fare\". The passengers in the first class were more likely to survive the accident. Therefore, it's expected that people that paid a higher price to embark were also more likely live through that event."
   ],
   "cell_type": "markdown",
   "metadata": {}
  },
  {
   "cell_type": "code",
   "execution_count": 16,
   "metadata": {},
   "outputs": [
    {
     "output_type": "display_data",
     "data": {
      "application/vnd.plotly.v1+json": {
       "config": {
        "plotlyServerURL": "https://plot.ly"
       },
       "data": [
        {
         "legendgroup": "Died",
         "marker": {
          "color": "red"
         },
         "mode": "lines",
         "name": "Died",
         "showlegend": true,
         "type": "scatter",
         "x": [
          0,
          0.526,
          1.052,
          1.578,
          2.104,
          2.63,
          3.156,
          3.682,
          4.208,
          4.734,
          5.26,
          5.786,
          6.312,
          6.838,
          7.364,
          7.89,
          8.416,
          8.942,
          9.468,
          9.994,
          10.52,
          11.046,
          11.572,
          12.098,
          12.624,
          13.15,
          13.676,
          14.202,
          14.728,
          15.254,
          15.78,
          16.306,
          16.832,
          17.358,
          17.884,
          18.41,
          18.936,
          19.462,
          19.988,
          20.514,
          21.04,
          21.566,
          22.092,
          22.618,
          23.144,
          23.67,
          24.196,
          24.722,
          25.248,
          25.774,
          26.3,
          26.826,
          27.352,
          27.878,
          28.404,
          28.93,
          29.456,
          29.982,
          30.508,
          31.034,
          31.56,
          32.086,
          32.612,
          33.138,
          33.664,
          34.19,
          34.716,
          35.242,
          35.768,
          36.294,
          36.82,
          37.346,
          37.872,
          38.398,
          38.924,
          39.45,
          39.976,
          40.502,
          41.028,
          41.554,
          42.08,
          42.606,
          43.132,
          43.658,
          44.184,
          44.71,
          45.236,
          45.762,
          46.288,
          46.814,
          47.34,
          47.866,
          48.392,
          48.918,
          49.444,
          49.97,
          50.496,
          51.022,
          51.548,
          52.074,
          52.6,
          53.126,
          53.652,
          54.178,
          54.704,
          55.23,
          55.756,
          56.282,
          56.808,
          57.334,
          57.86,
          58.386,
          58.912,
          59.438,
          59.964,
          60.49,
          61.016,
          61.542,
          62.068,
          62.594,
          63.12,
          63.646,
          64.172,
          64.698,
          65.224,
          65.75,
          66.276,
          66.802,
          67.328,
          67.854,
          68.38,
          68.906,
          69.432,
          69.958,
          70.484,
          71.01,
          71.536,
          72.062,
          72.588,
          73.114,
          73.64,
          74.166,
          74.692,
          75.218,
          75.744,
          76.27,
          76.796,
          77.322,
          77.848,
          78.374,
          78.9,
          79.426,
          79.952,
          80.478,
          81.004,
          81.53,
          82.056,
          82.582,
          83.108,
          83.634,
          84.16,
          84.686,
          85.212,
          85.738,
          86.264,
          86.79,
          87.316,
          87.842,
          88.368,
          88.894,
          89.42,
          89.946,
          90.472,
          90.998,
          91.524,
          92.05,
          92.576,
          93.102,
          93.628,
          94.154,
          94.68,
          95.206,
          95.732,
          96.258,
          96.784,
          97.31,
          97.836,
          98.362,
          98.888,
          99.414,
          99.94,
          100.466,
          100.992,
          101.518,
          102.044,
          102.57,
          103.096,
          103.622,
          104.148,
          104.674,
          105.2,
          105.726,
          106.252,
          106.778,
          107.304,
          107.83,
          108.356,
          108.882,
          109.408,
          109.934,
          110.46,
          110.986,
          111.512,
          112.038,
          112.564,
          113.09,
          113.616,
          114.142,
          114.668,
          115.194,
          115.72,
          116.246,
          116.772,
          117.298,
          117.824,
          118.35,
          118.876,
          119.402,
          119.928,
          120.454,
          120.98,
          121.506,
          122.032,
          122.558,
          123.084,
          123.61,
          124.136,
          124.662,
          125.188,
          125.714,
          126.24,
          126.766,
          127.292,
          127.818,
          128.344,
          128.87,
          129.396,
          129.922,
          130.448,
          130.974,
          131.5,
          132.026,
          132.552,
          133.078,
          133.604,
          134.13,
          134.656,
          135.182,
          135.708,
          136.234,
          136.76,
          137.286,
          137.812,
          138.338,
          138.864,
          139.39,
          139.916,
          140.442,
          140.968,
          141.494,
          142.02,
          142.546,
          143.072,
          143.598,
          144.124,
          144.65,
          145.176,
          145.702,
          146.228,
          146.754,
          147.28,
          147.806,
          148.332,
          148.858,
          149.384,
          149.91,
          150.436,
          150.962,
          151.488,
          152.014,
          152.54,
          153.066,
          153.592,
          154.118,
          154.644,
          155.17,
          155.696,
          156.222,
          156.748,
          157.274,
          157.8,
          158.326,
          158.852,
          159.378,
          159.904,
          160.43,
          160.956,
          161.482,
          162.008,
          162.534,
          163.06,
          163.586,
          164.112,
          164.638,
          165.164,
          165.69,
          166.216,
          166.742,
          167.268,
          167.794,
          168.32,
          168.846,
          169.372,
          169.898,
          170.424,
          170.95,
          171.476,
          172.002,
          172.528,
          173.054,
          173.58,
          174.106,
          174.632,
          175.158,
          175.684,
          176.21,
          176.736,
          177.262,
          177.788,
          178.314,
          178.84,
          179.366,
          179.892,
          180.418,
          180.944,
          181.47,
          181.996,
          182.522,
          183.048,
          183.574,
          184.1,
          184.626,
          185.152,
          185.678,
          186.204,
          186.73,
          187.256,
          187.782,
          188.308,
          188.834,
          189.36,
          189.886,
          190.412,
          190.938,
          191.464,
          191.99,
          192.516,
          193.042,
          193.568,
          194.094,
          194.62,
          195.146,
          195.672,
          196.198,
          196.724,
          197.25,
          197.776,
          198.302,
          198.828,
          199.354,
          199.88,
          200.406,
          200.932,
          201.458,
          201.984,
          202.51,
          203.036,
          203.562,
          204.088,
          204.614,
          205.14,
          205.666,
          206.192,
          206.718,
          207.244,
          207.77,
          208.296,
          208.822,
          209.348,
          209.874,
          210.4,
          210.926,
          211.452,
          211.978,
          212.504,
          213.03,
          213.556,
          214.082,
          214.608,
          215.134,
          215.66,
          216.186,
          216.712,
          217.238,
          217.764,
          218.29,
          218.816,
          219.342,
          219.868,
          220.394,
          220.92,
          221.446,
          221.972,
          222.498,
          223.024,
          223.55,
          224.076,
          224.602,
          225.128,
          225.654,
          226.18,
          226.706,
          227.232,
          227.758,
          228.284,
          228.81,
          229.336,
          229.862,
          230.388,
          230.914,
          231.44,
          231.966,
          232.492,
          233.018,
          233.544,
          234.07,
          234.596,
          235.122,
          235.648,
          236.174,
          236.7,
          237.226,
          237.752,
          238.278,
          238.804,
          239.33,
          239.856,
          240.382,
          240.908,
          241.434,
          241.96,
          242.486,
          243.012,
          243.538,
          244.064,
          244.59,
          245.116,
          245.642,
          246.168,
          246.694,
          247.22,
          247.746,
          248.272,
          248.798,
          249.324,
          249.85,
          250.376,
          250.902,
          251.428,
          251.954,
          252.48,
          253.006,
          253.532,
          254.058,
          254.584,
          255.11,
          255.636,
          256.162,
          256.688,
          257.214,
          257.74,
          258.266,
          258.792,
          259.318,
          259.844,
          260.37,
          260.896,
          261.422,
          261.948,
          262.474
         ],
         "xaxis": "x",
         "y": [
          0.018071707607989776,
          0.019056179654701192,
          0.020033582748513513,
          0.020997669946689706,
          0.021942064033346382,
          0.022860336840287,
          0.023746092724674695,
          0.024593054670797424,
          0.025395151357127325,
          0.026146603443971385,
          0.026842007295443768,
          0.027476414355104888,
          0.028045404448753256,
          0.02854515139026977,
          0.02897247941521814,
          0.02932490915861569,
          0.02960069212291642,
          0.029798832843456004,
          0.02991909824392095,
          0.029962013975474048,
          0.029928847841062704,
          0.029821580711971222,
          0.02964286563773252,
          0.0293959761243746,
          0.02908474480163201,
          0.028713493910184035,
          0.028286959209395144,
          0.027810209030050714,
          0.02728856027236528,
          0.02672749317586811,
          0.02613256666503347,
          0.025509336004674886,
          0.024863274385565994,
          0.024199699908171685,
          0.023523709246539914,
          0.022840119061924794,
          0.022153416003778847,
          0.021467715891873157,
          0.02078673242503271,
          0.02011375551665412,
          0.019451639121701475,
          0.0188027982004964,
          0.018169214266747714,
          0.01755244879535989,
          0.01695366362302216,
          0.016373647363714258,
          0.01581284678326409,
          0.0152714020320731,
          0.014749184622192218,
          0.014245837052276293,
          0.01376081302896575,
          0.013293417302687191,
          0.012842844225973026,
          0.012408214249074703,
          0.011988607686597264,
          0.011583095215791931,
          0.011190764697789325,
          0.010810744043449746,
          0.010442219971997546,
          0.010084452629966913,
          0.009736786147481243,
          0.00939865530631584,
          0.00906958857790988,
          0.008749207858411979,
          0.008437225281418955,
          0.008133437527262102,
          0.007837718070930278,
          0.007550007819818565,
          0.0072703045886115,
          0.006998651843173892,
          0.006735127119941808,
          0.006479830493714848,
          0.006232873426731912,
          0.00599436828724092,
          0.005764418778156258,
          0.00554311146743429,
          0.0053305085629360765,
          0.005126642027061875,
          0.004931509081416903,
          0.004745069110083021,
          0.004567241932408244,
          0.004397907383072043,
          0.004236906108846701,
          0.0040840414680965755,
          0.003939082400639489,
          0.0038017671220174814,
          0.003671807487271072,
          0.0035488938646883435,
          0.0034327003593599336,
          0.003322890229327919,
          0.003219121343264872,
          0.0031210515375445056,
          0.0030283437418547944,
          0.002940670755754484,
          0.0028577195733942296,
          0.002779195169640632,
          0.0027048236776983673,
          0.0026343549056837908,
          0.002567564157140252,
          0.0025042533378951326,
          0.0024442513486503995,
          0.0023874137789974895,
          0.002333621933894456,
          0.002282781237797334,
          0.002234819074376967,
          0.0021896821308782554,
          0.002147333325518014,
          0.0021077484037274976,
          0.0020709122944164346,
          0.0020368153206949944,
          0.0020054493606060666,
          0.0019768040524029756,
          0.001950863135811447,
          0.001927601015637537,
          0.0019069796271669755,
          0.001888945674228218,
          0.0018734283007812774,
          0.0018603372456993494,
          0.0018495615183091896,
          0.0018409686195476928,
          0.0018344043205868613,
          0.0018296929977917513,
          0.0018266385102163314,
          0.0018250255938076462,
          0.0018246217353559476,
          0.0018251794792457476,
          0.0018264391114438327,
          0.0018281316580783984,
          0.0018299821305478058,
          0.001831712945429732,
          0.0018330474455751787,
          0.0018337134486520947,
          0.0018334467509891505,
          0.00183199451775709,
          0.001829118495170077,
          0.001824597986316543,
          0.0018182325392354435,
          0.0018098443037175868,
          0.0017992800217984997,
          0.0017864126257805552,
          0.0017711424266417747,
          0.0017533978846303664,
          0.0017331359624968277,
          0.001710342069989083,
          0.0016850296157654243,
          0.0016572391896274815,
          0.0016270374038334183,
          0.0015945154271426575,
          0.0015597872491205488,
          0.0015229877150761569,
          0.0014842703738270203,
          0.0014438051813138863,
          0.0014017761029792048,
          0.0013583786568466389,
          0.0013138174374796102,
          0.001268303658550637,
          0.0012220527487225214,
          0.0011752820320346043,
          0.0011282085201109742,
          0.0010810468393711121,
          0.0010340073121325054,
          0.0009872942061510317,
          0.0009411041628443053,
          0.0008956248102753268,
          0.0008510335630207801,
          0.0008074966073836725,
          0.0007651680670985703,
          0.0007241893417741074,
          0.0006846886078661893,
          0.000646780470009458,
          0.000610565749075648,
          0.0005761313923844956,
          0.0005435504910624602,
          0.0005128823896102049,
          0.00048417287327267,
          0.0004574544197641577,
          0.00043274650323235376,
          0.0004100559399862095,
          0.0003893772673911142,
          0.0003706931493716454,
          0.00035397480407383915,
          0.00033918245133952114,
          0.0003262657796498119,
          0.0003151644340219252,
          0.0003058085279177046,
          0.00029811918347811086,
          0.00029200910528079144,
          0.00028738319328755404,
          0.00028413920068014447,
          0.00028216844186808234,
          0.000281356555100591,
          0.0002815843228522742,
          0.0002827285515220215,
          0.00028466301004469435,
          0.0002872594248366058,
          0.00029038852616044094,
          0.0002939211385925265,
          0.00029772930589905787,
          0.0003016874383727195,
          0.00030567346863906366,
          0.0003095700001988267,
          0.000313265431604351,
          0.00031665503823930587,
          0.0003196419932299405,
          0.0003221383090953162,
          0.00032406568235746,
          0.0003253562244756307,
          0.0003259530641188875,
          0.00032581080790727385,
          0.0003248958492774805,
          0.00032318651799315254,
          0.00032067306594113065,
          0.00031735748814263503,
          0.0003132531812675902,
          0.00030838444527434266,
          0.0003027858370112565,
          0.0002965013876216906,
          0.00028958369830843847,
          0.000282092931367495,
          0.00027409571533648853,
          0.0002656639845772435,
          0.0002568737745969431,
          0.00024780399489605605,
          0.00023853520111662336,
          0.00022914838776898414,
          0.00021972382186879373,
          0.00021033993646044424,
          0.00020107230128791232,
          0.00019199268585628546,
          0.0001831682278676269,
          0.00017466071757606336,
          0.00016652600605132343,
          0.00015881354272736774,
          0.00015156604499930927,
          0.00014481930006841778,
          0.00013860209676661933,
          0.00013293628275715084,
          0.0001278369403391271,
          0.0001233126721069359,
          0.00011936598595129841,
          0.00011599376735361136,
          0.00011318782563109532,
          0.00011093549974678484,
          0.00010922030851292728,
          0.000108022629495022,
          0.00010732039067176392,
          0.00010708975892813825,
          0.00010730580975866931,
          0.00010794316313803228,
          0.00010897657137778915,
          0.00011038144592910862,
          0.00011213431150646413,
          0.00011421317758611172,
          0.00011659781925930584,
          0.00011926996157043946,
          0.00012221336381357495,
          0.0001254138027578981,
          0.00012885895637590404,
          0.00013253819230202594,
          0.00013644226789118937,
          0.0001405629513078372,
          0.0001448925754836358,
          0.000149423538961858,
          0.00015414776952459808,
          0.00015905616800529447,
          0.00016413805075992811,
          0.00016938060985158878,
          0.00017476841005308356,
          0.00018028294126402593,
          0.00018590224386239002,
          0.00019160062287440502,
          0.000197348464678736,
          0.00020311216730838265,
          0.0002088541923426196,
          0.000214533242974703,
          0.00022010456919696245,
          0.00022552039727308031,
          0.00023073047688580445,
          0.00023568273567897057,
          0.00024032402747713486,
          0.000244600957380789,
          0.0002484607643070611,
          0.00025185223946817576,
          0.0002547266578283062,
          0.00025703869880866026,
          0.0002587473324523758,
          0.00025981664792213213,
          0.00026021660256632015,
          0.00025992367181151463,
          0.00025892138275421917,
          0.0002572007174470819,
          0.00025476037540042844,
          0.00025160688863204043,
          0.00024775458657084033,
          0.00024322541212369348,
          0.00023804859411999263,
          0.00023226018503284034,
          0.00022590247622557497,
          0.0002190233058893401,
          0.00021167527724031738,
          0.00020391490637311868,
          0.00019580172038049566,
          0.00018739732693237446,
          0.00017876447646494927,
          0.00016996613749012214,
          0.0001610646043433616,
          0.00015212065500704768,
          0.00014319277455340706,
          0.00013433645733293653,
          0.0001256035983838973,
          0.00011704198175172021,
          0.00010869487057841775,
          0.00010060070104125791,
          0.0000927928795693529,
          0.00008529968031861141,
          0.0000781442376998496,
          0.0000713446268786191,
          0.00006491402363115977,
          0.00005886093376756926,
          0.00005318948152576852,
          0.000047899745890535754,
          0.00004298813368196881,
          0.000038447778458820036,
          0.00003426895475828182,
          0.0000304394979035088,
          0.00002694522050842299,
          0.000023770317849660523,
          0.0000208977554117287,
          0.000018309633099255702,
          0.000015987521808733522,
          0.000013912769224772378,
          0.000012066772821186412,
          0.00001043121907943284,
          0.000008988288866055087,
          0.00000772082972265518,
          0.000006612496507882611,
          0.000005647862387345436,
          0.000004812502595115433,
          0.000004093053694277973,
          0.0000034772512515376622,
          0.000002953948922357632,
          0.000002513121930248527,
          0.0000021458578293984336,
          0.0000018443372770250164,
          0.0000016018073237255647,
          0.0000014125494693137683,
          0.0000012718444400005668,
          0.0000011759353311512314,
          0.0000011219904379971087,
          0.0000011080667732293925,
          0.0000011330749528908531,
          0.0000011967458269276232,
          0.0000012995989437784941,
          0.0000014429126743014715,
          0.000001628695583359893,
          0.000001859658431184911,
          0.0000021391860144421233,
          0.0000024713079216405058,
          0.000002860667181677434,
          0.0000033124857301020244,
          0.0000038325256068726075,
          0.00000442704483323717,
          0.000005102746994476263,
          0.00000586672367940693,
          0.000006726389095562039,
          0.000007689406388481198,
          0.000008763605440934999,
          0.000009956892208070353,
          0.000011277149950842547,
          0.000012732133054612508,
          0.000014329354452911718,
          0.000016075968007310937,
          0.000017978647511223686,
          0.000020043464275753575,
          0.00002227576550651599,
          0.000024680055879049988,
          0.000027259884855090988,
          0.00003001774234203819,
          0.000032954965274795035,
          0.00003607165758670679,
          0.00003936662583153503,
          0.00004283733242174435,
          0.00004647986806412274,
          0.000050288944510191674,
          0.000054257908208213685,
          0.00005837877486196537,
          0.00006264228428821904,
          0.00006703797434234087,
          0.0000715542720738418,
          0.00007617859970644386,
          0.00008089749253562604,
          0.00008569672542491466,
          0.00009056144428222921,
          0.00009547629872783276,
          0.00010042557213964359,
          0.00010539330538821622,
          0.00011036341085473806,
          0.00011531977375635699,
          0.00012024633837270965,
          0.00012512717745759378,
          0.00012994654390600195,
          0.00013468890459950822,
          0.00013933895723820735,
          0.0001438816318479356,
          0.00014830207948888764,
          0.00015258565144761255,
          0.00015671787283239895,
          0.0001606844149795254,
          0.00016447107138726306,
          0.0001680637420050507,
          0.00017144843060385784,
          0.0001746112596358783,
          0.00017753850646193693,
          0.00018021666409688157,
          0.0001826325287190857,
          0.00018477331514022848,
          0.00018662680027278756,
          0.00018818149340765308,
          0.00018942683086912345,
          0.00019035339139733502,
          0.00019095312746693,
          0.00019121960673150742,
          0.00019114825692830535,
          0.00019073660692332312,
          0.00018998451615337975,
          0.00018889438455001124,
          0.00018747133512324237,
          0.00018572336174434818,
          0.0001836614352894793,
          0.00018129956217495893,
          0.0001786547904061122,
          0.00017574715954287693,
          0.00017259959241894716,
          0.00016923772799342312,
          0.000165689696317905,
          0.00016198583821866894,
          0.00015815837387355737,
          0.00015424102595818705,
          0.00015026860440032764,
          0.0001462765609730157,
          0.0001423005229394211,
          0.0001383758157050391,
          0.00013453698491154275,
          0.00013081732860518335,
          0.00012724845002220337,
          0.00012385984115349233,
          0.00012067850658771462,
          0.00011772863620103281,
          0.00011503133408433149,
          0.00011260440970431683,
          0.00011046223571795266,
          0.0001086156751407464,
          0.00010707207875330168,
          0.00010583535176569579,
          0.00010490608689651533,
          0.00010428175921490676,
          0.00010395697639193493,
          0.00010392377646270089,
          0.00010417196386114243,
          0.00010468947339918213,
          0.00010546275105928885,
          0.00010647713998605426,
          0.00010771725992131922,
          0.00010916736854263973,
          0.00011081169374010519,
          0.00011263472679437622,
          0.00011462146768061068,
          0.00011675761528861735,
          0.00011902969717798974,
          0.00012142513552674216,
          0.0001239322481226283,
          0.00012654018551989862,
          0.0001292388077673255,
          0.00013201850632925052,
          0.00013486997889299173,
          0.00013778396660816495,
          0.000140750964866286,
          0.00014376091994023756,
          0.0001468029246110458,
          0.00014986492627493085,
          0.00015293346092260497,
          0.00015599342580724268,
          0.00015902790257653083,
          0.0001620180411640391,
          0.00016494301285892621,
          0.0001677800387594151,
          0.00017050449733695092,
          0.00017309011217813734,
          0.00017550921822234454,
          0.00017773310207100303,
          0.00017973240930787838,
          0.00018147760933322224,
          0.00018293950606734565,
          0.00018408978109958016,
          0.0001849015545123637,
          0.0001853499477470844,
          0.00018541263253025344,
          0.0001850703500584113,
          0.00018430738534112013,
          0.00018311198279743804
         ],
         "yaxis": "y"
        },
        {
         "legendgroup": "Survived",
         "marker": {
          "color": "royalblue"
         },
         "mode": "lines",
         "name": "Survived",
         "showlegend": true,
         "type": "scatter",
         "x": [
          0,
          1.0246584,
          2.0493168,
          3.0739752,
          4.0986336,
          5.123292,
          6.1479504,
          7.1726088,
          8.1972672,
          9.2219256,
          10.246584,
          11.2712424,
          12.2959008,
          13.3205592,
          14.3452176,
          15.369876,
          16.3945344,
          17.4191928,
          18.4438512,
          19.4685096,
          20.493168,
          21.5178264,
          22.5424848,
          23.567143200000004,
          24.5918016,
          25.61646,
          26.6411184,
          27.6657768,
          28.6904352,
          29.7150936,
          30.739752,
          31.7644104,
          32.7890688,
          33.8137272,
          34.8383856,
          35.863044,
          36.8877024,
          37.9123608,
          38.9370192,
          39.9616776,
          40.986336,
          42.0109944,
          43.0356528,
          44.0603112,
          45.0849696,
          46.109628,
          47.13428640000001,
          48.15894480000001,
          49.1836032,
          50.2082616,
          51.23292,
          52.2575784,
          53.2822368,
          54.3068952,
          55.3315536,
          56.356212,
          57.3808704,
          58.4055288,
          59.4301872,
          60.4548456,
          61.479504,
          62.5041624,
          63.5288208,
          64.5534792,
          65.5781376,
          66.602796,
          67.6274544,
          68.6521128,
          69.6767712,
          70.7014296,
          71.726088,
          72.7507464,
          73.7754048,
          74.80006320000001,
          75.8247216,
          76.84938000000001,
          77.8740384,
          78.89869680000001,
          79.9233552,
          80.94801360000001,
          81.972672,
          82.99733040000001,
          84.0219888,
          85.04664720000001,
          86.0713056,
          87.09596400000001,
          88.1206224,
          89.14528080000001,
          90.1699392,
          91.19459760000001,
          92.219256,
          93.24391440000001,
          94.26857280000002,
          95.29323120000001,
          96.31788960000002,
          97.34254800000001,
          98.3672064,
          99.3918648,
          100.4165232,
          101.4411816,
          102.46584,
          103.49049839999999,
          104.5151568,
          105.53981519999999,
          106.5644736,
          107.58913199999999,
          108.6137904,
          109.63844879999999,
          110.6631072,
          111.6877656,
          112.712424,
          113.7370824,
          114.7617408,
          115.7863992,
          116.8110576,
          117.835716,
          118.8603744,
          119.8850328,
          120.9096912,
          121.9343496,
          122.959008,
          123.9836664,
          125.0083248,
          126.0329832,
          127.0576416,
          128.0823,
          129.1069584,
          130.13161680000002,
          131.1562752,
          132.1809336,
          133.205592,
          134.2302504,
          135.2549088,
          136.2795672,
          137.3042256,
          138.328884,
          139.3535424,
          140.3782008,
          141.4028592,
          142.4275176,
          143.452176,
          144.4768344,
          145.5014928,
          146.5261512,
          147.5508096,
          148.575468,
          149.60012640000002,
          150.6247848,
          151.6494432,
          152.6741016,
          153.69876000000002,
          154.72341839999999,
          155.7480768,
          156.7727352,
          157.79739360000002,
          158.82205199999999,
          159.8467104,
          160.8713688,
          161.89602720000002,
          162.92068559999998,
          163.945344,
          164.9700024,
          165.99466080000002,
          167.01931919999998,
          168.0439776,
          169.068636,
          170.09329440000002,
          171.1179528,
          172.1426112,
          173.1672696,
          174.19192800000002,
          175.2165864,
          176.2412448,
          177.2659032,
          178.29056160000002,
          179.31522,
          180.3398784,
          181.3645368,
          182.38919520000002,
          183.4138536,
          184.438512,
          185.4631704,
          186.48782880000002,
          187.5124872,
          188.53714560000003,
          189.561804,
          190.58646240000002,
          191.6111208,
          192.63577920000003,
          193.6604376,
          194.68509600000002,
          195.7097544,
          196.7344128,
          197.7590712,
          198.7837296,
          199.808388,
          200.8330464,
          201.8577048,
          202.8823632,
          203.9070216,
          204.93168,
          205.95633840000002,
          206.98099679999999,
          208.0056552,
          209.0303136,
          210.05497200000002,
          211.07963039999999,
          212.1042888,
          213.1289472,
          214.15360560000002,
          215.17826399999998,
          216.2029224,
          217.2275808,
          218.25223920000002,
          219.27689759999998,
          220.301556,
          221.3262144,
          222.35087280000002,
          223.3755312,
          224.4001896,
          225.424848,
          226.44950640000002,
          227.4741648,
          228.4988232,
          229.5234816,
          230.54814000000002,
          231.5727984,
          232.5974568,
          233.6221152,
          234.64677360000002,
          235.671432,
          236.6960904,
          237.7207488,
          238.74540720000002,
          239.7700656,
          240.79472400000003,
          241.8193824,
          242.84404080000002,
          243.8686992,
          244.89335760000003,
          245.918016,
          246.94267440000002,
          247.9673328,
          248.99199120000003,
          250.0166496,
          251.04130800000001,
          252.0659664,
          253.09062480000003,
          254.1152832,
          255.13994160000001,
          256.1646,
          257.1892584,
          258.2139168,
          259.2385752,
          260.26323360000004,
          261.287892,
          262.3125504,
          263.33720880000004,
          264.3618672,
          265.38652559999997,
          266.411184,
          267.4358424,
          268.4605008,
          269.4851592,
          270.5098176,
          271.53447600000004,
          272.5591344,
          273.58379279999997,
          274.6084512,
          275.6331096,
          276.657768,
          277.6824264,
          278.7070848,
          279.73174320000004,
          280.7564016,
          281.78106,
          282.8057184,
          283.8303768,
          284.8550352,
          285.8796936,
          286.904352,
          287.92901040000004,
          288.9536688,
          289.9783272,
          291.0029856,
          292.027644,
          293.0523024,
          294.0769608,
          295.1016192,
          296.12627760000004,
          297.150936,
          298.1755944,
          299.20025280000004,
          300.2249112,
          301.2495696,
          302.274228,
          303.2988864,
          304.32354480000004,
          305.3482032,
          306.3728616,
          307.39752000000004,
          308.4221784,
          309.44683679999997,
          310.4714952,
          311.4961536,
          312.52081200000003,
          313.5454704,
          314.5701288,
          315.59478720000004,
          316.61944560000006,
          317.64410399999997,
          318.6687624,
          319.6934208,
          320.71807920000003,
          321.7427376,
          322.767396,
          323.79205440000004,
          324.81671280000006,
          325.84137119999997,
          326.8660296,
          327.890688,
          328.9153464,
          329.9400048,
          330.9646632,
          331.98932160000004,
          333.01398,
          334.03863839999997,
          335.0632968,
          336.0879552,
          337.1126136,
          338.137272,
          339.1619304,
          340.18658880000004,
          341.2112472,
          342.2359056,
          343.260564,
          344.2852224,
          345.3098808,
          346.3345392,
          347.3591976,
          348.38385600000004,
          349.4085144,
          350.4331728,
          351.4578312,
          352.4824896,
          353.507148,
          354.5318064,
          355.5564648,
          356.58112320000004,
          357.6057816,
          358.63044,
          359.65509840000004,
          360.6797568,
          361.70441519999997,
          362.7290736,
          363.753732,
          364.77839040000003,
          365.8030488,
          366.8277072,
          367.85236560000004,
          368.877024,
          369.90168239999997,
          370.9263408,
          371.9509992,
          372.97565760000003,
          374.000316,
          375.0249744,
          376.04963280000004,
          377.07429120000006,
          378.09894959999997,
          379.123608,
          380.1482664,
          381.17292480000003,
          382.1975832,
          383.2222416,
          384.24690000000004,
          385.27155840000006,
          386.29621679999997,
          387.3208752,
          388.3455336,
          389.37019200000003,
          390.3948504,
          391.4195088,
          392.44416720000004,
          393.4688256,
          394.493484,
          395.5181424,
          396.5428008,
          397.5674592,
          398.5921176,
          399.616776,
          400.64143440000004,
          401.6660928,
          402.6907512,
          403.7154096,
          404.740068,
          405.7647264,
          406.7893848,
          407.8140432,
          408.83870160000004,
          409.86336,
          410.8880184,
          411.91267680000004,
          412.9373352,
          413.96199359999997,
          414.986652,
          416.0113104,
          417.03596880000003,
          418.0606272,
          419.0852856,
          420.10994400000004,
          421.1346024,
          422.15926079999997,
          423.1839192,
          424.2085776,
          425.23323600000003,
          426.2578944,
          427.2825528,
          428.30721120000004,
          429.33186960000006,
          430.35652799999997,
          431.3811864,
          432.4058448,
          433.43050320000003,
          434.4551616,
          435.47982,
          436.50447840000004,
          437.52913680000006,
          438.55379519999997,
          439.5784536,
          440.603112,
          441.62777040000003,
          442.6524288,
          443.6770872,
          444.70174560000004,
          445.72640400000006,
          446.7510624,
          447.7757208,
          448.8003792,
          449.82503760000003,
          450.849696,
          451.8743544,
          452.89901280000004,
          453.92367120000006,
          454.9483296,
          455.972988,
          456.9976464,
          458.02230480000003,
          459.0469632,
          460.0716216,
          461.09628000000004,
          462.1209384,
          463.1455968,
          464.17025520000004,
          465.1949136,
          466.21957199999997,
          467.2442304,
          468.2688888,
          469.29354720000003,
          470.3182056,
          471.342864,
          472.36752240000004,
          473.3921808,
          474.41683919999997,
          475.4414976,
          476.466156,
          477.49081440000003,
          478.5154728,
          479.5401312,
          480.56478960000004,
          481.58944800000006,
          482.61410639999997,
          483.6387648,
          484.6634232,
          485.68808160000003,
          486.71274,
          487.7373984,
          488.76205680000004,
          489.78671520000006,
          490.81137359999997,
          491.836032,
          492.8606904,
          493.88534880000003,
          494.9100072,
          495.9346656,
          496.95932400000004,
          497.98398240000006,
          499.00864079999997,
          500.0332992,
          501.0579576,
          502.08261600000003,
          503.1072744,
          504.1319328,
          505.15659120000004,
          506.18124960000006,
          507.205908,
          508.2305664,
          509.2552248,
          510.27988320000003,
          511.3045416
         ],
         "xaxis": "x",
         "y": [
          0.008953635966118803,
          0.009262446667690081,
          0.009562386908049966,
          0.009852047358798174,
          0.010130054258503121,
          0.010395081894527355,
          0.010645864798472562,
          0.010881209493680648,
          0.01110000563764498,
          0.01130123640932833,
          0.011483988001137401,
          0.011647458087498352,
          0.011790963156392541,
          0.01191394460657898,
          0.012015973531239201,
          0.012096754128093912,
          0.012156125696285701,
          0.012194063201121276,
          0.012210676408724058,
          0.01220620761337486,
          0.012181028000435927,
          0.012135632706896595,
          0.012070634659414199,
          0.011986757285946675,
          0.011884826211418299,
          0.011765760060109598,
          0.011630560497438998,
          0.011480301651389009,
          0.011316119058946675,
          0.0111391982855617,
          0.010950763365800123,
          0.01075206521116954,
          0.010544370126631534,
          0.010328948570764844,
          0.010107064286092995,
          0.009879963915974815,
          0.009648867212923098,
          0.009414957930537846,
          0.009179375477694011,
          0.008943207399493669,
          0.008707482735061892,
          0.008473166287806944,
          0.008241153829538965,
          0.00801226824608881,
          0.007787256619007434,
          0.007566788225747317,
          0.007351453429593001,
          0.007141763420646806,
          0.006938150760486368,
          0.006740970675755843,
          0.006550503039964996,
          0.006366954978149604,
          0.006190464025765601,
          0.006021101771191321,
          0.0058588779104218665,
          0.005703744642856918,
          0.005555601338398686,
          0.005414299408263067,
          0.005279647314836421,
          0.005151415659446385,
          0.005029342290926366,
          0.004913137382210609,
          0.004802488426779732,
          0.004697065111475242,
          0.004596524026918035,
          0.004500513181417884,
          0.004408676288779147,
          0.004320656804741447,
          0.004236101690904603,
          0.00415466488885234,
          0.0040760104908003384,
          0.003999815596452195,
          0.003925772848864161,
          0.0038535926450149046,
          0.003783005019473428,
          0.0037137612020835707,
          0.003645634852963824,
          0.0035784229803811456,
          0.003511946549219125,
          0.0034460507898399734,
          0.0033806052191465426,
          0.0033155033875891886,
          0.0032506623677269588,
          0.0031860220017351512,
          0.0031215439269316725,
          0.0030572103999527154,
          0.002993022941614949,
          0.0029290008257284008,
          0.0028651794361392938,
          0.002801608517055497,
          0.002738350342210115,
          0.0026754778286266325,
          0.0026130726206424373,
          0.002551223169413997,
          0.0024900228323604715,
          0.0024295680159067004,
          0.0023699563834718718,
          0.002311285148937155,
          0.0022536494738417514,
          0.0021971409843377135,
          0.002141846421521673,
          0.002087846436202946,
          0.0020352145365141994,
          0.001984016194076025,
          0.0019343081117443929,
          0.001886137653354182,
          0.0018395424333725655,
          0.0017945500620409791,
          0.0017511780394546027,
          0.0017094337901396406,
          0.0016693148280690425,
          0.0016308090407274067,
          0.001593895079807537,
          0.0015585428453990257,
          0.0015247140501091667,
          0.0014923628494274907,
          0.0014614365247888924,
          0.001431876206183022,
          0.0014036176217702093,
          0.0013765918627641842,
          0.0013507261527940183,
          0.0013259446120252609,
          0.0013021690074665271,
          0.0012793194820766073,
          0.0012573152564846366,
          0.0012360752983103733,
          0.0012155189551956663,
          0.0011955665487075726,
          0.001176139927229423,
          0.0011571629768032004,
          0.001138562089615665,
          0.0011202665904257037,
          0.0011022091217111685,
          0.0010843259886724698,
          0.0010665574654748098,
          0.0010488480642500955,
          0.0010311467684260946,
          0.001013407231917673,
          0.0009955879456184633,
          0.000977652372486443,
          0.0009595690523395351,
          0.0009413116772824178,
          0.000922859138487569,
          0.0009041955448647815,
          0.0008853102139851752,
          0.0008661976354872807,
          0.0008468574070912455,
          0.0008272941432876631,
          0.000807517356753074,
          0.0007875413125757676,
          0.0007673848554522983,
          0.00074707121013478,
          0.000726627755567372,
          0.0007060857733426994,
          0.0006854801713287787,
          0.0006648491835581641,
          0.0006442340477260996,
          0.0006236786619064888,
          0.0006032292223563432,
          0.0005829338445343356,
          0.0005628421697008248,
          0.000543004959689797,
          0.0005234736826424029,
          0.0005043000926633466,
          0.00048553580650190177,
          0.00046723188046645596,
          0.0004494383908536137,
          0.000432204021209299,
          0.00041557565973979763,
          0.0003995980101559648,
          0.00038431321916475536,
          0.0003697605237205629,
          0.0003559759210161097,
          0.0003429918640311433,
          0.00033083698526890557,
          0.0003195358510976621,
          0.0003091087488796611,
          0.0002995715088148946,
          0.0002909353621541421,
          0.0002832068371468402,
          0.00027638769378634707,
          0.0002704748980998388,
          0.00026546063640420974,
          0.0002613323696145639,
          0.0002580729273500058,
          0.0002556606412341979,
          0.0002540695164375286,
          0.0002532694401558472,
          0.0002532264253698641,
          0.00025390288788215633,
          0.0002552579542880655,
          0.0002572477982058813,
          0.00025982600177398114,
          0.00026294393912186027,
          0.00026655117824219224,
          0.0002705958974364592,
          0.00027502531228157075,
          0.0002797861088737077,
          0.00028482487895270775,
          0.0002900885523999352,
          0.00029552482253875545,
          0.00030108255965313735,
          0.0003067122081797842,
          0.0003123661631251942,
          0.0003179991214131828,
          0.0003235684040819114,
          0.00032903424552266337,
          0.00033436004628502184,
          0.00033951258636302474,
          0.00034446219632178177,
          0.0003491828841201018,
          0.0003536524160271234,
          0.0003578523506138065,
          0.00036176802541645615,
          0.00036538849651117144,
          0.00036870643189639436,
          0.00037171796024574835,
          0.00037442247725476887,
          0.00037682241245191563,
          0.0003789229599651704,
          0.00038073177731908425,
          0.0003822586568719709,
          0.00038351517497799305,
          0.0003845143243635955,
          0.0003852701355323957,
          0.0003857972932485895,
          0.0003861107542887389,
          0.00038622537268968366,
          0.00038615553865212004,
          0.0003859148370829367,
          0.0003855157314746184,
          0.00038496927842897517,
          0.00038428487763952197,
          0.0003834700615586135,
          0.00038253032830077997,
          0.0003814690205836255,
          0.00038028725269503383,
          0.00037898388661499735,
          0.00037755555752833097,
          0.0003759967480581047,
          0.00037429990964700006,
          0.0003724556286333571,
          0.00037045283372891713,
          0.0003682790408239985,
          0.0003659206303401177,
          0.0003633631517353492,
          0.00036059164925784926,
          0.0003575910026494503,
          0.0003543462762331863,
          0.00035084306968228456,
          0.0003470678637668809,
          0.00034300835450870213,
          0.0003386537694402895,
          0.0003339951600579824,
          0.00032902566506793664,
          0.00032374073964012794,
          0.00031813834659252316,
          0.0003122191062100838,
          0.0003059864022431046,
          0.0002994464425074753,
          0.0002926082734059317,
          0.0002854837485842314,
          0.0002780874528097165,
          0.00027043658299307497,
          0.0002625507890496633,
          0.0002544519779986735,
          0.0002461640853129882,
          0.0002377128180484291,
          0.00022912537468960974,
          0.00022043014694489264,
          0.00021165640890207643,
          0.00020283399901930416,
          0.00019399300037501043,
          0.00018516342444182873,
          0.00017637490339005225,
          0.00016765639557624854,
          0.0001590359084436598,
          0.00015054024256599515,
          0.000142194760019221,
          0.0001340231796814487,
          0.00012604740145387213,
          0.00011828736078034114,
          0.00011076091423361326,
          0.00010348375634557701,
          0.00009646936729866852,
          0.00008972899057665281,
          0.00008327163920375995,
          0.0000771041287887951,
          0.00007123113524058107,
          0.00006565527473623045,
          0.00006037720330595643,
          0.00005539573324722237,
          0.00005070796349534871,
          0.000046309421054091746,
          0.00004219421062385819,
          0.00003835516965174628,
          0.000034784026160336414,
          0.000031471556884377226,
          0.000028407743449121172,
          0.000025581924553835825,
          0.000022982942371795434,
          0.000020599281636899668,
          0.000018419200150454795,
          0.000016430849703563346,
          0.000014622386665616223,
          0.000012982071732888777,
          0.00001149835855926426,
          0.000010159971200480066,
          0.000008955970491624936,
          0.000007875809643248971,
          0.0000069093794834582995,
          0.000006047043891448435,
          0.000005279666062394571,
          0.000004598626315256484,
          0.000003995832205118809,
          0.000003463721731741982,
          0.000002995260447899291,
          0.000002583933266845386,
          0.0000022237317500452635,
          0.000001909137626269854,
          0.0000016351032535034798,
          0.0000013970296879019124,
          0.0000011907429712763445,
          0.0000010124691920915068,
          8.58808816423268e-7,
          7.267107261999539e-7,
          6.134463436287152e-7,
          5.165841640621699e-7,
          4.339649655680184e-7,
          3.6367791281438457e-7,
          3.040377260835934e-7,
          2.5356304362268746e-7,
          2.1095606732688587e-7,
          1.7508354800181195e-7,
          1.4495913711951536e-7,
          1.197271069398043e-7,
          9.864741990575747e-8,
          8.108211107866113e-8,
          6.648293375014709e-8,
          5.438020792945293e-8,
          4.4372803808799306e-8,
          3.611918721445477e-8,
          2.9329451115226824e-8,
          2.3758256157252556e-8,
          1.9198603615785463e-8,
          1.547636581573613e-8,
          1.2445501712733401e-8,
          9.983888712269179e-9,
          7.98970573024731e-9,
          6.378306785481817e-9,
          5.079528911155479e-9,
          4.035382750627029e-9,
          3.1980787589933978e-9,
          2.5283463822527258e-9,
          1.9940078663554146e-9,
          1.5687724110665854e-9,
          1.2312201949434622e-9,
          9.639493366324366e-10,
          7.528621130965149e-10,
          5.865697246284524e-10,
          4.5589758357663076e-10,
          3.534755177565913e-10,
          2.733994335299783e-10,
          2.1095289320502218e-10,
          1.623787442091675e-10,
          1.2469241183492394e-10,
          9.552975202585297e-11,
          7.302347424124775e-11,
          5.5703104949310806e-11,
          4.241428694771441e-11,
          3.225391466611593e-11,
          2.4518205889186466e-11,
          1.8661319767348075e-11,
          1.4262562158386943e-11,
          1.1000583685175812e-11,
          8.633283698503104e-12,
          6.9823938540378695e-12,
          5.921936561700211e-12,
          5.369943625635285e-12,
          5.282985731641954e-12,
          5.653210233076824e-12,
          6.507718646092355e-12,
          7.91024175916414e-12,
          9.965194441852155e-12,
          1.2824319161460479e-11,
          1.6696261968849394e-11,
          2.1859572526974956e-11,
          2.867978611930556e-11,
          3.763143635271131e-11,
          4.932606879916591e-11,
          6.454758501362697e-11,
          8.429655079206931e-11,
          1.098454604962083e-10,
          1.4280736985995138e-10,
          1.852208028166531e-10,
          2.3965441427886375e-10,
          3.093355619861174e-10,
          3.983077187475725e-10,
          5.116225544612246e-10,
          6.555735483926338e-10,
          8.379791696597955e-10,
          1.0685250007700124e-9,
          1.3591756877611113e-9,
          1.7246692921192294e-9,
          2.183108503327207e-9,
          2.75666525301984e-9,
          3.4724175549359777e-9,
          4.3633398769934005e-9,
          5.469471024650229e-9,
          6.839286362617761e-9,
          8.531304200419844e-9,
          1.061595928124251e-8,
          1.3177779495845467e-8,
          1.6317905133095273e-8,
          2.015699309957744e-8,
          2.4838551499426733e-8,
          3.053275265030696e-8,
          3.7440774891263147e-8,
          4.579972526163607e-8,
          5.5888196125600335e-8,
          6.803250889227478e-8,
          8.261369692584147e-8,
          1.000752773255845e-7,
          1.2093185724015284e-7,
          1.4577861451104259e-7,
          1.753016844602329e-7,
          2.1028947429023098e-7,
          2.516449136055363e-7,
          3.003986337651273e-7,
          3.5772304993817576e-7,
          4.2494729770260535e-7,
          5.035729506956829e-7,
          5.95290417161791e-7,
          7.019958812918217e-7,
          8.258086201534947e-7,
          9.690884890258534e-7,
          0.0000011344533274495688,
          0.000001324795995799615,
          0.0000015433007083328972,
          0.0000017934582842682896,
          0.000002079079894479187,
          0.0000024043088389336498,
          0.000002773629850361799,
          0.0000031918753841593823,
          0.0000036642283247558594,
          0.000004196220516186987,
          0.000004793726511070099,
          0.00000546295192926676,
          0.0000062104158268802285,
          0.000007042926499455846,
          0.000007967550181770231,
          0.000008991572161667306,
          0.000010122449898015033,
          0.000011367757823696572,
          0.000012735123623909985,
          0.000014232155907778844,
          0.000015866363336737508,
          0.000017645065435174302,
          0.000019575295485633593,
          0.00002166369610016514,
          0.00002391640825822413,
          0.000026338954806348,
          0.00002893611962161466,
          0.00003171182384504509,
          0.00003466900078768901,
          0.00003780947129582192,
          0.00004113382152697947,
          0.000044641285229878495,
          0.00004832963273313092,
          0.00005219506892477481,
          0.00005623214254217125,
          0.0000604336690854691,
          0.00006479066961409236,
          0.00006929232758191716,
          0.00007392596571145698,
          0.00007867704470000725,
          0.00008352918529228739,
          0.0000884642149468465,
          0.00009346223997104741,
          0.00009850174360678587,
          0.00010355971012259849,
          0.00010861177451503382,
          0.00011363239695181499,
          0.00011859506061096171,
          0.00012347249109406896,
          0.00012823689512909544,
          0.00013286021583934311,
          0.00013731440145166914,
          0.00014157168395891287,
          0.0001456048639488184,
          0.00014938759757323356,
          0.00015289468146457356,
          0.0001561023313175114,
          0.00015898844984685127,
          0.00016153287990997118,
          0.0001637176387444219,
          0.00016552712951656176,
          0.00016694832670167772,
          0.00016797093221411033,
          0.0001685874996697434
         ],
         "yaxis": "y"
        }
       ],
       "layout": {
        "barmode": "overlay",
        "hovermode": "closest",
        "legend": {
         "traceorder": "reversed"
        },
        "template": {
         "data": {
          "bar": [
           {
            "error_x": {
             "color": "#2a3f5f"
            },
            "error_y": {
             "color": "#2a3f5f"
            },
            "marker": {
             "line": {
              "color": "#E5ECF6",
              "width": 0.5
             }
            },
            "type": "bar"
           }
          ],
          "barpolar": [
           {
            "marker": {
             "line": {
              "color": "#E5ECF6",
              "width": 0.5
             }
            },
            "type": "barpolar"
           }
          ],
          "carpet": [
           {
            "aaxis": {
             "endlinecolor": "#2a3f5f",
             "gridcolor": "white",
             "linecolor": "white",
             "minorgridcolor": "white",
             "startlinecolor": "#2a3f5f"
            },
            "baxis": {
             "endlinecolor": "#2a3f5f",
             "gridcolor": "white",
             "linecolor": "white",
             "minorgridcolor": "white",
             "startlinecolor": "#2a3f5f"
            },
            "type": "carpet"
           }
          ],
          "choropleth": [
           {
            "colorbar": {
             "outlinewidth": 0,
             "ticks": ""
            },
            "type": "choropleth"
           }
          ],
          "contour": [
           {
            "colorbar": {
             "outlinewidth": 0,
             "ticks": ""
            },
            "colorscale": [
             [
              0,
              "#0d0887"
             ],
             [
              0.1111111111111111,
              "#46039f"
             ],
             [
              0.2222222222222222,
              "#7201a8"
             ],
             [
              0.3333333333333333,
              "#9c179e"
             ],
             [
              0.4444444444444444,
              "#bd3786"
             ],
             [
              0.5555555555555556,
              "#d8576b"
             ],
             [
              0.6666666666666666,
              "#ed7953"
             ],
             [
              0.7777777777777778,
              "#fb9f3a"
             ],
             [
              0.8888888888888888,
              "#fdca26"
             ],
             [
              1,
              "#f0f921"
             ]
            ],
            "type": "contour"
           }
          ],
          "contourcarpet": [
           {
            "colorbar": {
             "outlinewidth": 0,
             "ticks": ""
            },
            "type": "contourcarpet"
           }
          ],
          "heatmap": [
           {
            "colorbar": {
             "outlinewidth": 0,
             "ticks": ""
            },
            "colorscale": [
             [
              0,
              "#0d0887"
             ],
             [
              0.1111111111111111,
              "#46039f"
             ],
             [
              0.2222222222222222,
              "#7201a8"
             ],
             [
              0.3333333333333333,
              "#9c179e"
             ],
             [
              0.4444444444444444,
              "#bd3786"
             ],
             [
              0.5555555555555556,
              "#d8576b"
             ],
             [
              0.6666666666666666,
              "#ed7953"
             ],
             [
              0.7777777777777778,
              "#fb9f3a"
             ],
             [
              0.8888888888888888,
              "#fdca26"
             ],
             [
              1,
              "#f0f921"
             ]
            ],
            "type": "heatmap"
           }
          ],
          "heatmapgl": [
           {
            "colorbar": {
             "outlinewidth": 0,
             "ticks": ""
            },
            "colorscale": [
             [
              0,
              "#0d0887"
             ],
             [
              0.1111111111111111,
              "#46039f"
             ],
             [
              0.2222222222222222,
              "#7201a8"
             ],
             [
              0.3333333333333333,
              "#9c179e"
             ],
             [
              0.4444444444444444,
              "#bd3786"
             ],
             [
              0.5555555555555556,
              "#d8576b"
             ],
             [
              0.6666666666666666,
              "#ed7953"
             ],
             [
              0.7777777777777778,
              "#fb9f3a"
             ],
             [
              0.8888888888888888,
              "#fdca26"
             ],
             [
              1,
              "#f0f921"
             ]
            ],
            "type": "heatmapgl"
           }
          ],
          "histogram": [
           {
            "marker": {
             "colorbar": {
              "outlinewidth": 0,
              "ticks": ""
             }
            },
            "type": "histogram"
           }
          ],
          "histogram2d": [
           {
            "colorbar": {
             "outlinewidth": 0,
             "ticks": ""
            },
            "colorscale": [
             [
              0,
              "#0d0887"
             ],
             [
              0.1111111111111111,
              "#46039f"
             ],
             [
              0.2222222222222222,
              "#7201a8"
             ],
             [
              0.3333333333333333,
              "#9c179e"
             ],
             [
              0.4444444444444444,
              "#bd3786"
             ],
             [
              0.5555555555555556,
              "#d8576b"
             ],
             [
              0.6666666666666666,
              "#ed7953"
             ],
             [
              0.7777777777777778,
              "#fb9f3a"
             ],
             [
              0.8888888888888888,
              "#fdca26"
             ],
             [
              1,
              "#f0f921"
             ]
            ],
            "type": "histogram2d"
           }
          ],
          "histogram2dcontour": [
           {
            "colorbar": {
             "outlinewidth": 0,
             "ticks": ""
            },
            "colorscale": [
             [
              0,
              "#0d0887"
             ],
             [
              0.1111111111111111,
              "#46039f"
             ],
             [
              0.2222222222222222,
              "#7201a8"
             ],
             [
              0.3333333333333333,
              "#9c179e"
             ],
             [
              0.4444444444444444,
              "#bd3786"
             ],
             [
              0.5555555555555556,
              "#d8576b"
             ],
             [
              0.6666666666666666,
              "#ed7953"
             ],
             [
              0.7777777777777778,
              "#fb9f3a"
             ],
             [
              0.8888888888888888,
              "#fdca26"
             ],
             [
              1,
              "#f0f921"
             ]
            ],
            "type": "histogram2dcontour"
           }
          ],
          "mesh3d": [
           {
            "colorbar": {
             "outlinewidth": 0,
             "ticks": ""
            },
            "type": "mesh3d"
           }
          ],
          "parcoords": [
           {
            "line": {
             "colorbar": {
              "outlinewidth": 0,
              "ticks": ""
             }
            },
            "type": "parcoords"
           }
          ],
          "pie": [
           {
            "automargin": true,
            "type": "pie"
           }
          ],
          "scatter": [
           {
            "marker": {
             "colorbar": {
              "outlinewidth": 0,
              "ticks": ""
             }
            },
            "type": "scatter"
           }
          ],
          "scatter3d": [
           {
            "line": {
             "colorbar": {
              "outlinewidth": 0,
              "ticks": ""
             }
            },
            "marker": {
             "colorbar": {
              "outlinewidth": 0,
              "ticks": ""
             }
            },
            "type": "scatter3d"
           }
          ],
          "scattercarpet": [
           {
            "marker": {
             "colorbar": {
              "outlinewidth": 0,
              "ticks": ""
             }
            },
            "type": "scattercarpet"
           }
          ],
          "scattergeo": [
           {
            "marker": {
             "colorbar": {
              "outlinewidth": 0,
              "ticks": ""
             }
            },
            "type": "scattergeo"
           }
          ],
          "scattergl": [
           {
            "marker": {
             "colorbar": {
              "outlinewidth": 0,
              "ticks": ""
             }
            },
            "type": "scattergl"
           }
          ],
          "scattermapbox": [
           {
            "marker": {
             "colorbar": {
              "outlinewidth": 0,
              "ticks": ""
             }
            },
            "type": "scattermapbox"
           }
          ],
          "scatterpolar": [
           {
            "marker": {
             "colorbar": {
              "outlinewidth": 0,
              "ticks": ""
             }
            },
            "type": "scatterpolar"
           }
          ],
          "scatterpolargl": [
           {
            "marker": {
             "colorbar": {
              "outlinewidth": 0,
              "ticks": ""
             }
            },
            "type": "scatterpolargl"
           }
          ],
          "scatterternary": [
           {
            "marker": {
             "colorbar": {
              "outlinewidth": 0,
              "ticks": ""
             }
            },
            "type": "scatterternary"
           }
          ],
          "surface": [
           {
            "colorbar": {
             "outlinewidth": 0,
             "ticks": ""
            },
            "colorscale": [
             [
              0,
              "#0d0887"
             ],
             [
              0.1111111111111111,
              "#46039f"
             ],
             [
              0.2222222222222222,
              "#7201a8"
             ],
             [
              0.3333333333333333,
              "#9c179e"
             ],
             [
              0.4444444444444444,
              "#bd3786"
             ],
             [
              0.5555555555555556,
              "#d8576b"
             ],
             [
              0.6666666666666666,
              "#ed7953"
             ],
             [
              0.7777777777777778,
              "#fb9f3a"
             ],
             [
              0.8888888888888888,
              "#fdca26"
             ],
             [
              1,
              "#f0f921"
             ]
            ],
            "type": "surface"
           }
          ],
          "table": [
           {
            "cells": {
             "fill": {
              "color": "#EBF0F8"
             },
             "line": {
              "color": "white"
             }
            },
            "header": {
             "fill": {
              "color": "#C8D4E3"
             },
             "line": {
              "color": "white"
             }
            },
            "type": "table"
           }
          ]
         },
         "layout": {
          "annotationdefaults": {
           "arrowcolor": "#2a3f5f",
           "arrowhead": 0,
           "arrowwidth": 1
          },
          "coloraxis": {
           "colorbar": {
            "outlinewidth": 0,
            "ticks": ""
           }
          },
          "colorscale": {
           "diverging": [
            [
             0,
             "#8e0152"
            ],
            [
             0.1,
             "#c51b7d"
            ],
            [
             0.2,
             "#de77ae"
            ],
            [
             0.3,
             "#f1b6da"
            ],
            [
             0.4,
             "#fde0ef"
            ],
            [
             0.5,
             "#f7f7f7"
            ],
            [
             0.6,
             "#e6f5d0"
            ],
            [
             0.7,
             "#b8e186"
            ],
            [
             0.8,
             "#7fbc41"
            ],
            [
             0.9,
             "#4d9221"
            ],
            [
             1,
             "#276419"
            ]
           ],
           "sequential": [
            [
             0,
             "#0d0887"
            ],
            [
             0.1111111111111111,
             "#46039f"
            ],
            [
             0.2222222222222222,
             "#7201a8"
            ],
            [
             0.3333333333333333,
             "#9c179e"
            ],
            [
             0.4444444444444444,
             "#bd3786"
            ],
            [
             0.5555555555555556,
             "#d8576b"
            ],
            [
             0.6666666666666666,
             "#ed7953"
            ],
            [
             0.7777777777777778,
             "#fb9f3a"
            ],
            [
             0.8888888888888888,
             "#fdca26"
            ],
            [
             1,
             "#f0f921"
            ]
           ],
           "sequentialminus": [
            [
             0,
             "#0d0887"
            ],
            [
             0.1111111111111111,
             "#46039f"
            ],
            [
             0.2222222222222222,
             "#7201a8"
            ],
            [
             0.3333333333333333,
             "#9c179e"
            ],
            [
             0.4444444444444444,
             "#bd3786"
            ],
            [
             0.5555555555555556,
             "#d8576b"
            ],
            [
             0.6666666666666666,
             "#ed7953"
            ],
            [
             0.7777777777777778,
             "#fb9f3a"
            ],
            [
             0.8888888888888888,
             "#fdca26"
            ],
            [
             1,
             "#f0f921"
            ]
           ]
          },
          "colorway": [
           "#636efa",
           "#EF553B",
           "#00cc96",
           "#ab63fa",
           "#FFA15A",
           "#19d3f3",
           "#FF6692",
           "#B6E880",
           "#FF97FF",
           "#FECB52"
          ],
          "font": {
           "color": "#2a3f5f"
          },
          "geo": {
           "bgcolor": "white",
           "lakecolor": "white",
           "landcolor": "#E5ECF6",
           "showlakes": true,
           "showland": true,
           "subunitcolor": "white"
          },
          "hoverlabel": {
           "align": "left"
          },
          "hovermode": "closest",
          "mapbox": {
           "style": "light"
          },
          "paper_bgcolor": "white",
          "plot_bgcolor": "#E5ECF6",
          "polar": {
           "angularaxis": {
            "gridcolor": "white",
            "linecolor": "white",
            "ticks": ""
           },
           "bgcolor": "#E5ECF6",
           "radialaxis": {
            "gridcolor": "white",
            "linecolor": "white",
            "ticks": ""
           }
          },
          "scene": {
           "xaxis": {
            "backgroundcolor": "#E5ECF6",
            "gridcolor": "white",
            "gridwidth": 2,
            "linecolor": "white",
            "showbackground": true,
            "ticks": "",
            "zerolinecolor": "white"
           },
           "yaxis": {
            "backgroundcolor": "#E5ECF6",
            "gridcolor": "white",
            "gridwidth": 2,
            "linecolor": "white",
            "showbackground": true,
            "ticks": "",
            "zerolinecolor": "white"
           },
           "zaxis": {
            "backgroundcolor": "#E5ECF6",
            "gridcolor": "white",
            "gridwidth": 2,
            "linecolor": "white",
            "showbackground": true,
            "ticks": "",
            "zerolinecolor": "white"
           }
          },
          "shapedefaults": {
           "line": {
            "color": "#2a3f5f"
           }
          },
          "ternary": {
           "aaxis": {
            "gridcolor": "white",
            "linecolor": "white",
            "ticks": ""
           },
           "baxis": {
            "gridcolor": "white",
            "linecolor": "white",
            "ticks": ""
           },
           "bgcolor": "#E5ECF6",
           "caxis": {
            "gridcolor": "white",
            "linecolor": "white",
            "ticks": ""
           }
          },
          "title": {
           "x": 0.05
          },
          "xaxis": {
           "automargin": true,
           "gridcolor": "white",
           "linecolor": "white",
           "ticks": "",
           "title": {
            "standoff": 15
           },
           "zerolinecolor": "white",
           "zerolinewidth": 2
          },
          "yaxis": {
           "automargin": true,
           "gridcolor": "white",
           "linecolor": "white",
           "ticks": "",
           "title": {
            "standoff": 15
           },
           "zerolinecolor": "white",
           "zerolinewidth": 2
          }
         }
        },
        "title": {
         "text": "Fare Distribution by Survival"
        },
        "xaxis": {
         "anchor": "y2",
         "domain": [
          0,
          1
         ],
         "title": {
          "text": "Fare"
         },
         "zeroline": false
        },
        "yaxis": {
         "anchor": "free",
         "domain": [
          0,
          1
         ],
         "position": 0
        }
       }
      }
     },
     "metadata": {}
    }
   ],
   "source": [
    "data = [full_df.Fare[full_df.Survived == 0], full_df.Fare[full_df.Survived == 1]]\n",
    "labels = [\"Died\", \"Survived\"]\n",
    "colors = [\"red\", \"royalblue\"]\n",
    "fig = ff.create_distplot(data, labels, colors=colors, bin_size=5, show_rug=False, show_hist=False)\n",
    "fig.update_layout(\n",
    "    title_text=\"Fare Distribution by Survival\",\n",
    "    xaxis_title=\"Fare\"\n",
    ")\n",
    "fig.show()"
   ]
  },
  {
   "source": [
    "Creating bins for the Fare price is probably a good way to increase algorithm performance. Let's implement those bins:"
   ],
   "cell_type": "markdown",
   "metadata": {}
  },
  {
   "cell_type": "code",
   "execution_count": 17,
   "metadata": {},
   "outputs": [],
   "source": [
    "# Making Bins\n",
    "full_df[\"FareBin\"] = pd.qcut(full_df[\"Fare\"], 5)\n",
    "\n",
    "encoder = LabelEncoder()\n",
    "\n",
    "full_df[\"FareBin\"] = encoder.fit_transform(full_df[\"FareBin\"])\n",
    "\n",
    "full_df.drop(columns=[\"Fare\"], inplace=True)"
   ]
  },
  {
   "source": [
    "## Train/Test Split, Again...\n",
    "\n",
    "Finally, separate once again the train and test sets and drop the unnecessary features."
   ],
   "cell_type": "markdown",
   "metadata": {}
  },
  {
   "cell_type": "code",
   "execution_count": 18,
   "metadata": {},
   "outputs": [
    {
     "output_type": "stream",
     "name": "stdout",
     "text": [
      "Train set dimensions: (891, 7)\nTest set dimensions: (418, 6)\n"
     ]
    }
   ],
   "source": [
    "train = full_df[:891]\n",
    "test = full_df[891:]\n",
    "\n",
    "testIds = test[\"PassengerId\"]\n",
    "\n",
    "train.drop(\n",
    "    columns=[\"PassengerId\", \"Name\", \"SibSp\", \"Parch\", \"Ticket\", \"Cabin\", \"Embarked\", \"LastName\"],\n",
    "    inplace=True\n",
    ")\n",
    "test.drop(\n",
    "    columns=[\"PassengerId\", \"Name\", \"SibSp\", \"Parch\", \"Ticket\", \"Cabin\", \"Embarked\", \"LastName\", \"Survived\"],\n",
    "    inplace=True\n",
    ")\n",
    "\n",
    "print(f\"Train set dimensions: {train.shape}\")\n",
    "print(f\"Test set dimensions: {test.shape}\")"
   ]
  },
  {
   "cell_type": "code",
   "execution_count": 19,
   "metadata": {},
   "outputs": [
    {
     "output_type": "execute_result",
     "data": {
      "text/plain": [
       "   Survived  Pclass  Sex  Relatives  AgeBin  GroupSurvival  FareBin\n",
       "0       0.0       3    1          1       1              1        0\n",
       "1       1.0       1    0          1       3              1        4\n",
       "2       1.0       3    0          0       1              1        1\n",
       "3       1.0       1    0          1       3              0        4\n",
       "4       0.0       3    1          0       3              1        1"
      ],
      "text/html": "<div>\n<style scoped>\n    .dataframe tbody tr th:only-of-type {\n        vertical-align: middle;\n    }\n\n    .dataframe tbody tr th {\n        vertical-align: top;\n    }\n\n    .dataframe thead th {\n        text-align: right;\n    }\n</style>\n<table border=\"1\" class=\"dataframe\">\n  <thead>\n    <tr style=\"text-align: right;\">\n      <th></th>\n      <th>Survived</th>\n      <th>Pclass</th>\n      <th>Sex</th>\n      <th>Relatives</th>\n      <th>AgeBin</th>\n      <th>GroupSurvival</th>\n      <th>FareBin</th>\n    </tr>\n  </thead>\n  <tbody>\n    <tr>\n      <th>0</th>\n      <td>0.0</td>\n      <td>3</td>\n      <td>1</td>\n      <td>1</td>\n      <td>1</td>\n      <td>1</td>\n      <td>0</td>\n    </tr>\n    <tr>\n      <th>1</th>\n      <td>1.0</td>\n      <td>1</td>\n      <td>0</td>\n      <td>1</td>\n      <td>3</td>\n      <td>1</td>\n      <td>4</td>\n    </tr>\n    <tr>\n      <th>2</th>\n      <td>1.0</td>\n      <td>3</td>\n      <td>0</td>\n      <td>0</td>\n      <td>1</td>\n      <td>1</td>\n      <td>1</td>\n    </tr>\n    <tr>\n      <th>3</th>\n      <td>1.0</td>\n      <td>1</td>\n      <td>0</td>\n      <td>1</td>\n      <td>3</td>\n      <td>0</td>\n      <td>4</td>\n    </tr>\n    <tr>\n      <th>4</th>\n      <td>0.0</td>\n      <td>3</td>\n      <td>1</td>\n      <td>0</td>\n      <td>3</td>\n      <td>1</td>\n      <td>1</td>\n    </tr>\n  </tbody>\n</table>\n</div>"
     },
     "metadata": {},
     "execution_count": 19
    }
   ],
   "source": [
    "train.head()"
   ]
  },
  {
   "source": [
    "## Feature Scaling\n",
    "\n",
    "This technique makes most models perform better. In this case the Standard Scaler works best."
   ],
   "cell_type": "markdown",
   "metadata": {}
  },
  {
   "cell_type": "code",
   "execution_count": 20,
   "metadata": {},
   "outputs": [],
   "source": [
    "scaler = StandardScaler()\n",
    "X_train = scaler.fit_transform(train.drop(columns=[\"Survived\"]))\n",
    "X_train = pd.DataFrame(data=X_train, columns=train.drop(columns=[\"Survived\"]).columns)\n",
    "X_test = scaler.transform(test)\n",
    "X_test = pd.DataFrame(data=X_test, columns=test.columns)\n",
    "\n",
    "y_train = train.Survived"
   ]
  },
  {
   "source": [
    "## Iterating Models\n",
    "\n",
    "It's hard to know which model performs best, thus I decided to try a few of the possible models. Using GridSearchCV also helped to refine hyperparameters."
   ],
   "cell_type": "markdown",
   "metadata": {}
  },
  {
   "cell_type": "code",
   "execution_count": 21,
   "metadata": {},
   "outputs": [],
   "source": [
    "config = {\n",
    "    \"KNeighborsClassifier\": {\n",
    "        \"clf\": KNeighborsClassifier(n_neighbors=18, leaf_size=26),\n",
    "        \"parameters\": {\n",
    "            \"algorithm\": [\"auto\", \"ball_tree\"],\n",
    "            \"weights\": [\"uniform\", \"distance\"],\n",
    "        }\n",
    "    },\n",
    "    \"LogisticRegression\" : {\n",
    "        \"clf\": LogisticRegression(C=0.8, random_state=RANDOM_SEED),\n",
    "        \"parameters\": {\n",
    "            \"penalty\": [\"l1\", \"l2\"],\n",
    "            \"class_weight\": [1, 3, 10],\n",
    "            \"dual\": [True, False],\n",
    "            \"fit_intercept\": [True, False],\n",
    "            \"max_iter\": [100, 500, 1000]\n",
    "        }\n",
    "    },\n",
    "    \"LinearSVC\": {\n",
    "        \"clf\": LinearSVC(C=1.6, random_state=RANDOM_SEED),\n",
    "        \"parameters\": {\n",
    "            \"penalty\": [\"l1\", \"l2\"],\n",
    "            \"loss\": [\"hinge\", \"squared_hinge\"]\n",
    "        } \n",
    "    },\n",
    "    \"RandomForestClassifier\": {\n",
    "        \"clf\": RandomForestClassifier(n_estimators=100, criterion=\"gini\", random_state=RANDOM_SEED),\n",
    "        \"parameters\": {\n",
    "            \"max_depth\": [2, 3, 4],\n",
    "            \"min_samples_leaf\": [2, 3]\n",
    "        }\n",
    "    },\n",
    "    \"GradientBoostingClassifier\": {\n",
    "        \"clf\": GradientBoostingClassifier(random_state=RANDOM_SEED),\n",
    "        \"parameters\": {\n",
    "            \"n_estimators\": [10, 50, 100],\n",
    "            \"learning_rate\": [0.05, 0.01, 0.1],\n",
    "            \"max_depth\": [3, 4, 6],\n",
    "            \"min_samples_leaf\": [2, 3]\n",
    "        }\n",
    "    },\n",
    "    \"NuSVC\": {\n",
    "        \"clf\": NuSVC(probability=True, random_state=RANDOM_SEED),\n",
    "        \"parameters\": {\n",
    "            \"nu\": [0.1, 0.2, 0.5, 0.9, 1, 5]\n",
    "        }\n",
    "    },\n",
    "    \"LinearDiscriminantAnalysis\": {\n",
    "        \"clf\": LinearDiscriminantAnalysis(),\n",
    "        \"parameters\": {\n",
    "            \"solver\" : [\"svd\", \"lsqr\", \"eigen\"],\n",
    "        }\n",
    "    }\n",
    "}\n",
    "\n",
    "clfs = config.keys()"
   ]
  },
  {
   "cell_type": "code",
   "execution_count": 22,
   "metadata": {},
   "outputs": [
    {
     "output_type": "stream",
     "name": "stdout",
     "text": [
      "========================================\n",
      "Starting training: KNeighborsClassifier\n",
      "Number of Features: 6\n",
      "Fitting 10 folds for each of 4 candidates, totalling 40 fits\n",
      "[Parallel(n_jobs=-1)]: Using backend LokyBackend with 8 concurrent workers.\n",
      "[Parallel(n_jobs=-1)]: Done  25 tasks      | elapsed:    0.6s\n",
      "[Parallel(n_jobs=-1)]: Done  40 out of  40 | elapsed:    0.6s finished\n",
      "Best classifier: KNeighborsClassifier(leaf_size=26, n_neighbors=18)\n",
      "Writing submission file: KNeighborsClassifier.csv\n",
      "========================================\n",
      "Starting training: LogisticRegression\n",
      "Number of Features: 6\n",
      "Fitting 10 folds for each of 72 candidates, totalling 720 fits\n",
      "[Parallel(n_jobs=-1)]: Using backend LokyBackend with 8 concurrent workers.\n",
      "[Parallel(n_jobs=-1)]: Done  34 tasks      | elapsed:    0.1s\n",
      "[Parallel(n_jobs=-1)]: Done 628 tasks      | elapsed:    1.1s\n",
      "[Parallel(n_jobs=-1)]: Done 720 out of 720 | elapsed:    1.2s finished\n",
      "[Parallel(n_jobs=-1)]: Using backend LokyBackend with 8 concurrent workers.\n",
      "Best classifier: LogisticRegression(C=0.8, class_weight=1, fit_intercept=False, random_state=13)\n",
      "Writing submission file: LogisticRegression.csv\n",
      "========================================\n",
      "Starting training: LinearSVC\n",
      "Number of Features: 6\n",
      "Fitting 10 folds for each of 4 candidates, totalling 40 fits\n",
      "[Parallel(n_jobs=-1)]: Done  40 out of  40 | elapsed:    0.2s finished\n",
      "Best classifier: LinearSVC(C=1.6, random_state=13)\n",
      "Writing submission file: LinearSVC.csv\n",
      "========================================\n",
      "Starting training: RandomForestClassifier\n",
      "Number of Features: 6\n",
      "Fitting 10 folds for each of 6 candidates, totalling 60 fits\n",
      "[Parallel(n_jobs=-1)]: Using backend LokyBackend with 8 concurrent workers.\n",
      "[Parallel(n_jobs=-1)]: Done  25 tasks      | elapsed:    1.6s\n",
      "[Parallel(n_jobs=-1)]: Done  60 out of  60 | elapsed:    3.6s finished\n",
      "Best classifier: RandomForestClassifier(max_depth=4, min_samples_leaf=2, random_state=13)\n",
      "Writing submission file: RandomForestClassifier.csv\n",
      "========================================\n",
      "Starting training: GradientBoostingClassifier\n",
      "Number of Features: 6\n",
      "Fitting 10 folds for each of 54 candidates, totalling 540 fits\n",
      "[Parallel(n_jobs=-1)]: Using backend LokyBackend with 8 concurrent workers.\n",
      "[Parallel(n_jobs=-1)]: Done  34 tasks      | elapsed:    0.5s\n",
      "[Parallel(n_jobs=-1)]: Done 276 tasks      | elapsed:    6.2s\n",
      "[Parallel(n_jobs=-1)]: Done 540 out of 540 | elapsed:   15.5s finished\n",
      "Best classifier: GradientBoostingClassifier(max_depth=4, min_samples_leaf=3, n_estimators=50,\n",
      "                           random_state=13)\n",
      "Writing submission file: GradientBoostingClassifier.csv\n",
      "========================================\n",
      "Starting training: NuSVC\n",
      "Number of Features: 6\n",
      "Fitting 10 folds for each of 6 candidates, totalling 60 fits\n",
      "[Parallel(n_jobs=-1)]: Using backend LokyBackend with 8 concurrent workers.\n",
      "[Parallel(n_jobs=-1)]: Done  25 tasks      | elapsed:    1.2s\n",
      "[Parallel(n_jobs=-1)]: Done  60 out of  60 | elapsed:    1.4s finished\n",
      "Best classifier: NuSVC(probability=True, random_state=13)\n",
      "Writing submission file: NuSVC.csv\n",
      "========================================\n",
      "Starting training: LinearDiscriminantAnalysis\n",
      "Number of Features: 6\n",
      "Fitting 10 folds for each of 3 candidates, totalling 30 fits\n",
      "[Parallel(n_jobs=-1)]: Using backend LokyBackend with 8 concurrent workers.\n",
      "Best classifier: LinearDiscriminantAnalysis()\n",
      "Writing submission file: LinearDiscriminantAnalysis.csv\n",
      "[Parallel(n_jobs=-1)]: Done  30 out of  30 | elapsed:    0.1s finished\n"
     ]
    }
   ],
   "source": [
    "results = {\"Name\": [], \"F1 Score\": [], \"Accuracy\": []}\n",
    "train_pred = {}\n",
    "test_pred = {}\n",
    "for name in clfs:\n",
    "    conf = config[name]\n",
    "    clf = conf[\"clf\"]\n",
    "    parameters = conf[\"parameters\"]\n",
    "\n",
    "    print(\"=\" * 40)\n",
    "    print(\"Starting training:\", name)\n",
    "    grid = GridSearchCV(clf, parameters, scoring=\"roc_auc\", cv=10, n_jobs=-1, verbose=2)\n",
    "    \n",
    "    print(\"Number of Features:\", X_train.columns.shape[0])\n",
    "    grid = grid.fit(X_train, y_train)\n",
    "    best_clf = grid.best_estimator_ \n",
    "    \n",
    "    print(\"Best classifier:\", repr(best_clf))\n",
    "    model = best_clf.fit(X_train, y_train)\n",
    "    pred_y = cross_val_predict(best_clf, X_train, y_train, cv=10, n_jobs=-1)\n",
    "    train_pred[name] = pred_y\n",
    "\n",
    "    f1 = f1_score(y_train, pred_y)\n",
    "    acc = accuracy_score(y_train, pred_y)\n",
    "    results[\"Name\"].append(name)\n",
    "    results[\"F1 Score\"].append(f1)\n",
    "    results[\"Accuracy\"].append(acc)\n",
    "    \n",
    "    yhat = pd.Series(best_clf.predict(X_test), name=\"Survived\", dtype=\"int32\")\n",
    "    test_pred[name] = yhat\n",
    "    output = pd.concat([testIds, yhat], axis=1)\n",
    "    \n",
    "    output_filename = name + \".csv\"\n",
    "    print(\"Writing submission file:\", output_filename)\n",
    "    output.to_csv(f\"predictions/{output_filename}\", index=False)\n"
   ]
  },
  {
   "source": [
    "## Hard Voting Classifier\n",
    "\n",
    "This unites all of the models. It sums the results of the 5 models for each instance and predicts what the majority of models think the output should be."
   ],
   "cell_type": "markdown",
   "metadata": {}
  },
  {
   "cell_type": "code",
   "execution_count": 23,
   "metadata": {},
   "outputs": [
    {
     "output_type": "stream",
     "name": "stdout",
     "text": [
      "Writing submission file: VotingClassifier.csv\n"
     ]
    }
   ],
   "source": [
    "pred_y = pd.DataFrame.from_dict(train_pred).sum(axis=1) >= 4\n",
    "f1 = f1_score(y_train, pred_y)\n",
    "acc = accuracy_score(y_train, pred_y)\n",
    "results[\"Name\"].append(\"VotingClassifier\")\n",
    "results[\"F1 Score\"].append(f1)\n",
    "results[\"Accuracy\"].append(acc)\n",
    "\n",
    "yhat = pd.Series(pd.DataFrame.from_dict(test_pred).sum(axis=1) >= 4, name=\"Survived\", dtype=\"int32\")\n",
    "output = pd.concat([testIds, yhat], axis=1)\n",
    "output_filename = \"VotingClassifier.csv\"\n",
    "print(\"Writing submission file:\", output_filename)\n",
    "output.to_csv(f\"predictions/{output_filename}\", index=False)"
   ]
  },
  {
   "source": [
    "## Results\n",
    "\n",
    "Now we can take a look at the performance in the train set of each model after cross prediction."
   ],
   "cell_type": "markdown",
   "metadata": {}
  },
  {
   "cell_type": "code",
   "execution_count": 24,
   "metadata": {},
   "outputs": [
    {
     "output_type": "execute_result",
     "data": {
      "text/plain": [
       "                         Name  F1 Score  Accuracy\n",
       "0  GradientBoostingClassifier  0.783282  0.842873\n",
       "1      RandomForestClassifier  0.771930  0.839506\n",
       "2        KNeighborsClassifier  0.771654  0.837262\n",
       "3            VotingClassifier  0.764516  0.836139\n",
       "4                       NuSVC  0.754153  0.833895\n",
       "5                   LinearSVC  0.759936  0.830527\n",
       "6  LinearDiscriminantAnalysis  0.755134  0.826038\n",
       "7          LogisticRegression  0.758133  0.808081"
      ],
      "text/html": "<div>\n<style scoped>\n    .dataframe tbody tr th:only-of-type {\n        vertical-align: middle;\n    }\n\n    .dataframe tbody tr th {\n        vertical-align: top;\n    }\n\n    .dataframe thead th {\n        text-align: right;\n    }\n</style>\n<table border=\"1\" class=\"dataframe\">\n  <thead>\n    <tr style=\"text-align: right;\">\n      <th></th>\n      <th>Name</th>\n      <th>F1 Score</th>\n      <th>Accuracy</th>\n    </tr>\n  </thead>\n  <tbody>\n    <tr>\n      <th>0</th>\n      <td>GradientBoostingClassifier</td>\n      <td>0.783282</td>\n      <td>0.842873</td>\n    </tr>\n    <tr>\n      <th>1</th>\n      <td>RandomForestClassifier</td>\n      <td>0.771930</td>\n      <td>0.839506</td>\n    </tr>\n    <tr>\n      <th>2</th>\n      <td>KNeighborsClassifier</td>\n      <td>0.771654</td>\n      <td>0.837262</td>\n    </tr>\n    <tr>\n      <th>3</th>\n      <td>VotingClassifier</td>\n      <td>0.764516</td>\n      <td>0.836139</td>\n    </tr>\n    <tr>\n      <th>4</th>\n      <td>NuSVC</td>\n      <td>0.754153</td>\n      <td>0.833895</td>\n    </tr>\n    <tr>\n      <th>5</th>\n      <td>LinearSVC</td>\n      <td>0.759936</td>\n      <td>0.830527</td>\n    </tr>\n    <tr>\n      <th>6</th>\n      <td>LinearDiscriminantAnalysis</td>\n      <td>0.755134</td>\n      <td>0.826038</td>\n    </tr>\n    <tr>\n      <th>7</th>\n      <td>LogisticRegression</td>\n      <td>0.758133</td>\n      <td>0.808081</td>\n    </tr>\n  </tbody>\n</table>\n</div>"
     },
     "metadata": {},
     "execution_count": 24
    }
   ],
   "source": [
    "pd.DataFrame.from_dict(results).sort_values(by=\"Accuracy\", ascending=False).reset_index(drop=True)"
   ]
  },
  {
   "source": [
    "After submitting the results generated by each model, the NuSVC performed best. It acheived a score of 0.80861, which ranked me among the top 4%."
   ],
   "cell_type": "markdown",
   "metadata": {}
  },
  {
   "source": [
    "<img src=\"TopResult.png\"/>"
   ],
   "cell_type": "markdown",
   "metadata": {}
  }
 ]
}